{
 "cells": [
  {
   "cell_type": "code",
   "execution_count": 1,
   "metadata": {},
   "outputs": [],
   "source": [
    "import mysql.connector\n",
    "import pandas as pd\n",
    "import numpy as np\n",
    "import matplotlib.pyplot as plt\n",
    "import seaborn as sns\n",
    "%matplotlib inline\n",
    "import folium\n",
    "import math\n",
    "\n",
    "from datetime import datetime"
   ]
  },
  {
   "cell_type": "markdown",
   "metadata": {},
   "source": [
    "# Load the Dataset"
   ]
  },
  {
   "cell_type": "markdown",
   "metadata": {},
   "source": [
    "### Department Data"
   ]
  },
  {
   "cell_type": "markdown",
   "metadata": {},
   "source": [
    "- <b>dept_id</b> – Unique Department Code\n",
    "- <b>dept_name</b> – Name of the Department\n",
    "- <b>dept_head</b> – Name of the Head of the Department"
   ]
  },
  {
   "cell_type": "code",
   "execution_count": 2,
   "metadata": {},
   "outputs": [
    {
     "name": "stdout",
     "output_type": "stream",
     "text": [
      "    dept_id    dept_name              dept_head\n",
      "0    D00-IT           IT             Henry Adey\n",
      "1    D00-SS        Sales        Edward J Bayley\n",
      "2    D00-TP         Temp        Micheal Zachrey\n",
      "3   D00-ENG  Engineering  Sushant Raghunathan K\n",
      "4    D00-SP      Support         Amelia Westray\n",
      "5    D00-FN      Finance              Aanchal J\n",
      "6    D00-PR  Procurement            Louie Viles\n",
      "7    D00-AD        Admin          Evelyn Tolson\n",
      "8    D00-MN   Management          Ellie Trafton\n",
      "9    D00-MT    Marketing           Reuben Swann\n",
      "10   D00-PD      Product          Darcy Staines\n",
      "MySQL connection is closed\n"
     ]
    }
   ],
   "source": [
    "department_data = pd.DataFrame()\n",
    "\n",
    "cnx = mysql.connector.connect(host='cpanel.insaid.co', database='Capstone2',user='student', password='student')\n",
    "query = \"select * from department_data\"\n",
    "department_data = pd.read_sql(query, con=cnx)\n",
    "cnx.close()\n",
    "\n",
    "print(department_data)\n",
    "print('MySQL connection is closed')"
   ]
  },
  {
   "cell_type": "markdown",
   "metadata": {},
   "source": [
    "### Employee Details data"
   ]
  },
  {
   "cell_type": "markdown",
   "metadata": {},
   "source": [
    "- <b>employee_id</b> – Unique ID Number for each employee\n",
    "- <b>age</b> – Age of the employee\n",
    "- <b>gender</b> – Gender of the employee\n",
    "- <b>marital_status</b> – Marital Status of the employee"
   ]
  },
  {
   "cell_type": "code",
   "execution_count": 3,
   "metadata": {},
   "outputs": [
    {
     "name": "stdout",
     "output_type": "stream",
     "text": [
      "       employee_id  age  gender marital_status\n",
      "0           113558   43    Male        Married\n",
      "1           112256   24  Female      Unmarried\n",
      "2           112586   22  Female      Unmarried\n",
      "3           108071   36    Male        Married\n",
      "4           116915   38    Male        Married\n",
      "...            ...  ...     ...            ...\n",
      "14240       111781   26    Male      Unmarried\n",
      "14241       100372   35    Male        Married\n",
      "14242       128083   30  Female        Married\n",
      "14243       118487   24    Male      Unmarried\n",
      "14244       118849   39    Male        Married\n",
      "\n",
      "[14245 rows x 4 columns]\n",
      "MySQL connection is closed\n"
     ]
    }
   ],
   "source": [
    "employee_details_data = pd.DataFrame()\n",
    "\n",
    "cnx = mysql.connector.connect(host='cpanel.insaid.co', database='Capstone2',user='student', password='student')\n",
    "query = \"select * from employee_details_data\"\n",
    "employee_details_data = pd.read_sql(query, con=cnx)\n",
    "cnx.close()\n",
    "\n",
    "print(employee_details_data)\n",
    "print('MySQL connection is closed')"
   ]
  },
  {
   "cell_type": "markdown",
   "metadata": {},
   "source": [
    "### Employee data"
   ]
  },
  {
   "cell_type": "markdown",
   "metadata": {},
   "source": [
    "- <b>Target variable</b>\n",
    "    - <b>status</b> – Current employment status (Employed / Left)\n",
    "<br><br>\n",
    "- <b>Administrative information</b>\n",
    "    - <b>department</b> – Department to which the employees belong(ed) to\n",
    "    - <b>salary</b> – Salary level with respect to rest of their department\n",
    "    - <b>tenure</b> – Number of years at the company\n",
    "    - <b>recently_promoted</b> – Was the employee promoted in the last 3 years?\n",
    "    - <b>employee_id</b> – Unique ID Number for each employee\n",
    "<br><br>\n",
    "- <b>Workload information</b>\n",
    "    - <b>n_projects</b> – Number of projects employee has worked on\n",
    "    - <b>avg_monthly_hrs</b> – Average number of hours worked per month\n",
    "<br><br>\n",
    "- <b>Mutual evaluation information</b>\n",
    "    - <b>satisfaction</b> – Score for employee’s satisfaction with the company (higher is better)\n",
    "    - <b>last_evaluation</b> – Score for most recent evaluation of employee (higher is better)\n",
    "    - <b>filed_complaint</b> – Has the employee filed a formal complaint in the last 3 years?"
   ]
  },
  {
   "cell_type": "code",
   "execution_count": 4,
   "metadata": {},
   "outputs": [
    {
     "name": "stdout",
     "output_type": "stream",
     "text": [
      "       avg_monthly_hrs department  filed_complaint  last_evaluation  \\\n",
      "0                246.0       None              NaN         0.866838   \n",
      "1                134.0       None              NaN         0.555718   \n",
      "2                156.0     D00-SS              1.0         0.474082   \n",
      "3                256.0     D00-SP              NaN         0.961360   \n",
      "4                146.0     D00-SS              NaN         0.507349   \n",
      "...                ...        ...              ...              ...   \n",
      "14145            245.0     D00-SS              NaN         0.850785   \n",
      "14146            192.0     D00-SS              NaN         0.951901   \n",
      "14147            175.0     D00-MN              NaN         0.854538   \n",
      "14148            268.0     D00-MT              NaN         0.900887   \n",
      "14149            268.0     D00-IT              1.0         0.897098   \n",
      "\n",
      "       n_projects  recently_promoted  salary  satisfaction    status  tenure  \\\n",
      "0               6                NaN  medium      0.134415      Left     4.0   \n",
      "1               2                NaN     low      0.511041      Left     3.0   \n",
      "2               2                NaN  medium      0.405101      Left     3.0   \n",
      "3               6                NaN     low      0.152974      Left     4.0   \n",
      "4               2                NaN  medium      0.434845      Left     3.0   \n",
      "...           ...                ...     ...           ...       ...     ...   \n",
      "14145           6                NaN  medium      0.225084  Employed     5.0   \n",
      "14146           3                NaN  medium      0.539834  Employed     3.0   \n",
      "14147           4                NaN  medium      0.934465  Employed     3.0   \n",
      "14148           5                NaN  medium      0.906613      Left     5.0   \n",
      "14149           2                NaN     low      0.459371  Employed     4.0   \n",
      "\n",
      "       employee_id  \n",
      "0           124467  \n",
      "1           112210  \n",
      "2           126150  \n",
      "3           125346  \n",
      "4           113707  \n",
      "...            ...  \n",
      "14145       101809  \n",
      "14146       116153  \n",
      "14147       119780  \n",
      "14148       115325  \n",
      "14149       112312  \n",
      "\n",
      "[14150 rows x 11 columns]\n",
      "MySQL connection is closed\n"
     ]
    }
   ],
   "source": [
    "employee_data = pd.DataFrame()\n",
    "\n",
    "cnx = mysql.connector.connect(host='cpanel.insaid.co', database='Capstone2',user='student', password='student')\n",
    "query = \"select * from employee_data\"\n",
    "employee_data = pd.read_sql(query, con=cnx)\n",
    "cnx.close()\n",
    "\n",
    "print(employee_data)\n",
    "print('MySQL connection is closed')"
   ]
  },
  {
   "cell_type": "markdown",
   "metadata": {},
   "source": [
    "### Save the data in .csv format"
   ]
  },
  {
   "cell_type": "code",
   "execution_count": 5,
   "metadata": {},
   "outputs": [],
   "source": [
    "department_data.to_csv(\"department_data.csv\")\n",
    "employee_details_data.to_csv(\"employee_details_data.csv\")\n",
    "employee_data.to_csv(\"employee_data.csv\")"
   ]
  },
  {
   "cell_type": "code",
   "execution_count": 6,
   "metadata": {},
   "outputs": [
    {
     "data": {
      "text/html": [
       "<div>\n",
       "<style scoped>\n",
       "    .dataframe tbody tr th:only-of-type {\n",
       "        vertical-align: middle;\n",
       "    }\n",
       "\n",
       "    .dataframe tbody tr th {\n",
       "        vertical-align: top;\n",
       "    }\n",
       "\n",
       "    .dataframe thead th {\n",
       "        text-align: right;\n",
       "    }\n",
       "</style>\n",
       "<table border=\"1\" class=\"dataframe\">\n",
       "  <thead>\n",
       "    <tr style=\"text-align: right;\">\n",
       "      <th></th>\n",
       "      <th>avg_monthly_hrs</th>\n",
       "      <th>department</th>\n",
       "      <th>filed_complaint</th>\n",
       "      <th>last_evaluation</th>\n",
       "      <th>n_projects</th>\n",
       "      <th>recently_promoted</th>\n",
       "      <th>salary</th>\n",
       "      <th>satisfaction</th>\n",
       "      <th>status</th>\n",
       "      <th>tenure</th>\n",
       "      <th>employee_id</th>\n",
       "    </tr>\n",
       "  </thead>\n",
       "  <tbody>\n",
       "    <tr>\n",
       "      <th>0</th>\n",
       "      <td>246.0</td>\n",
       "      <td>None</td>\n",
       "      <td>NaN</td>\n",
       "      <td>0.866838</td>\n",
       "      <td>6</td>\n",
       "      <td>NaN</td>\n",
       "      <td>medium</td>\n",
       "      <td>0.134415</td>\n",
       "      <td>Left</td>\n",
       "      <td>4.0</td>\n",
       "      <td>124467</td>\n",
       "    </tr>\n",
       "    <tr>\n",
       "      <th>1</th>\n",
       "      <td>134.0</td>\n",
       "      <td>None</td>\n",
       "      <td>NaN</td>\n",
       "      <td>0.555718</td>\n",
       "      <td>2</td>\n",
       "      <td>NaN</td>\n",
       "      <td>low</td>\n",
       "      <td>0.511041</td>\n",
       "      <td>Left</td>\n",
       "      <td>3.0</td>\n",
       "      <td>112210</td>\n",
       "    </tr>\n",
       "    <tr>\n",
       "      <th>2</th>\n",
       "      <td>156.0</td>\n",
       "      <td>D00-SS</td>\n",
       "      <td>1.0</td>\n",
       "      <td>0.474082</td>\n",
       "      <td>2</td>\n",
       "      <td>NaN</td>\n",
       "      <td>medium</td>\n",
       "      <td>0.405101</td>\n",
       "      <td>Left</td>\n",
       "      <td>3.0</td>\n",
       "      <td>126150</td>\n",
       "    </tr>\n",
       "    <tr>\n",
       "      <th>3</th>\n",
       "      <td>256.0</td>\n",
       "      <td>D00-SP</td>\n",
       "      <td>NaN</td>\n",
       "      <td>0.961360</td>\n",
       "      <td>6</td>\n",
       "      <td>NaN</td>\n",
       "      <td>low</td>\n",
       "      <td>0.152974</td>\n",
       "      <td>Left</td>\n",
       "      <td>4.0</td>\n",
       "      <td>125346</td>\n",
       "    </tr>\n",
       "    <tr>\n",
       "      <th>4</th>\n",
       "      <td>146.0</td>\n",
       "      <td>D00-SS</td>\n",
       "      <td>NaN</td>\n",
       "      <td>0.507349</td>\n",
       "      <td>2</td>\n",
       "      <td>NaN</td>\n",
       "      <td>medium</td>\n",
       "      <td>0.434845</td>\n",
       "      <td>Left</td>\n",
       "      <td>3.0</td>\n",
       "      <td>113707</td>\n",
       "    </tr>\n",
       "  </tbody>\n",
       "</table>\n",
       "</div>"
      ],
      "text/plain": [
       "   avg_monthly_hrs department  filed_complaint  last_evaluation  n_projects  \\\n",
       "0            246.0       None              NaN         0.866838           6   \n",
       "1            134.0       None              NaN         0.555718           2   \n",
       "2            156.0     D00-SS              1.0         0.474082           2   \n",
       "3            256.0     D00-SP              NaN         0.961360           6   \n",
       "4            146.0     D00-SS              NaN         0.507349           2   \n",
       "\n",
       "   recently_promoted  salary  satisfaction status  tenure  employee_id  \n",
       "0                NaN  medium      0.134415   Left     4.0       124467  \n",
       "1                NaN     low      0.511041   Left     3.0       112210  \n",
       "2                NaN  medium      0.405101   Left     3.0       126150  \n",
       "3                NaN     low      0.152974   Left     4.0       125346  \n",
       "4                NaN  medium      0.434845   Left     3.0       113707  "
      ]
     },
     "execution_count": 6,
     "metadata": {},
     "output_type": "execute_result"
    }
   ],
   "source": [
    "employee_data.head()"
   ]
  },
  {
   "cell_type": "code",
   "execution_count": 7,
   "metadata": {},
   "outputs": [
    {
     "data": {
      "text/html": [
       "<div>\n",
       "<style scoped>\n",
       "    .dataframe tbody tr th:only-of-type {\n",
       "        vertical-align: middle;\n",
       "    }\n",
       "\n",
       "    .dataframe tbody tr th {\n",
       "        vertical-align: top;\n",
       "    }\n",
       "\n",
       "    .dataframe thead th {\n",
       "        text-align: right;\n",
       "    }\n",
       "</style>\n",
       "<table border=\"1\" class=\"dataframe\">\n",
       "  <thead>\n",
       "    <tr style=\"text-align: right;\">\n",
       "      <th></th>\n",
       "      <th>avg_monthly_hrs</th>\n",
       "      <th>filed_complaint</th>\n",
       "      <th>last_evaluation</th>\n",
       "      <th>n_projects</th>\n",
       "      <th>recently_promoted</th>\n",
       "      <th>satisfaction</th>\n",
       "      <th>tenure</th>\n",
       "      <th>employee_id</th>\n",
       "    </tr>\n",
       "  </thead>\n",
       "  <tbody>\n",
       "    <tr>\n",
       "      <th>count</th>\n",
       "      <td>14150.000000</td>\n",
       "      <td>2046.0</td>\n",
       "      <td>12663.000000</td>\n",
       "      <td>14150.000000</td>\n",
       "      <td>297.0</td>\n",
       "      <td>14000.000000</td>\n",
       "      <td>14000.000000</td>\n",
       "      <td>14150.000000</td>\n",
       "    </tr>\n",
       "    <tr>\n",
       "      <th>mean</th>\n",
       "      <td>199.994346</td>\n",
       "      <td>1.0</td>\n",
       "      <td>0.718399</td>\n",
       "      <td>3.778304</td>\n",
       "      <td>1.0</td>\n",
       "      <td>0.621212</td>\n",
       "      <td>3.499357</td>\n",
       "      <td>112080.750247</td>\n",
       "    </tr>\n",
       "    <tr>\n",
       "      <th>std</th>\n",
       "      <td>50.833697</td>\n",
       "      <td>0.0</td>\n",
       "      <td>0.173108</td>\n",
       "      <td>1.250162</td>\n",
       "      <td>0.0</td>\n",
       "      <td>0.250482</td>\n",
       "      <td>1.462584</td>\n",
       "      <td>8748.202856</td>\n",
       "    </tr>\n",
       "    <tr>\n",
       "      <th>min</th>\n",
       "      <td>49.000000</td>\n",
       "      <td>1.0</td>\n",
       "      <td>0.316175</td>\n",
       "      <td>1.000000</td>\n",
       "      <td>1.0</td>\n",
       "      <td>0.040058</td>\n",
       "      <td>2.000000</td>\n",
       "      <td>0.000000</td>\n",
       "    </tr>\n",
       "    <tr>\n",
       "      <th>25%</th>\n",
       "      <td>155.000000</td>\n",
       "      <td>1.0</td>\n",
       "      <td>0.563711</td>\n",
       "      <td>3.000000</td>\n",
       "      <td>1.0</td>\n",
       "      <td>0.450356</td>\n",
       "      <td>3.000000</td>\n",
       "      <td>105772.500000</td>\n",
       "    </tr>\n",
       "    <tr>\n",
       "      <th>50%</th>\n",
       "      <td>199.000000</td>\n",
       "      <td>1.0</td>\n",
       "      <td>0.724731</td>\n",
       "      <td>4.000000</td>\n",
       "      <td>1.0</td>\n",
       "      <td>0.652394</td>\n",
       "      <td>3.000000</td>\n",
       "      <td>111291.500000</td>\n",
       "    </tr>\n",
       "    <tr>\n",
       "      <th>75%</th>\n",
       "      <td>245.000000</td>\n",
       "      <td>1.0</td>\n",
       "      <td>0.871409</td>\n",
       "      <td>5.000000</td>\n",
       "      <td>1.0</td>\n",
       "      <td>0.824925</td>\n",
       "      <td>4.000000</td>\n",
       "      <td>116650.750000</td>\n",
       "    </tr>\n",
       "    <tr>\n",
       "      <th>max</th>\n",
       "      <td>310.000000</td>\n",
       "      <td>1.0</td>\n",
       "      <td>1.000000</td>\n",
       "      <td>7.000000</td>\n",
       "      <td>1.0</td>\n",
       "      <td>1.000000</td>\n",
       "      <td>10.000000</td>\n",
       "      <td>148988.000000</td>\n",
       "    </tr>\n",
       "  </tbody>\n",
       "</table>\n",
       "</div>"
      ],
      "text/plain": [
       "       avg_monthly_hrs  filed_complaint  last_evaluation    n_projects  \\\n",
       "count     14150.000000           2046.0     12663.000000  14150.000000   \n",
       "mean        199.994346              1.0         0.718399      3.778304   \n",
       "std          50.833697              0.0         0.173108      1.250162   \n",
       "min          49.000000              1.0         0.316175      1.000000   \n",
       "25%         155.000000              1.0         0.563711      3.000000   \n",
       "50%         199.000000              1.0         0.724731      4.000000   \n",
       "75%         245.000000              1.0         0.871409      5.000000   \n",
       "max         310.000000              1.0         1.000000      7.000000   \n",
       "\n",
       "       recently_promoted  satisfaction        tenure    employee_id  \n",
       "count              297.0  14000.000000  14000.000000   14150.000000  \n",
       "mean                 1.0      0.621212      3.499357  112080.750247  \n",
       "std                  0.0      0.250482      1.462584    8748.202856  \n",
       "min                  1.0      0.040058      2.000000       0.000000  \n",
       "25%                  1.0      0.450356      3.000000  105772.500000  \n",
       "50%                  1.0      0.652394      3.000000  111291.500000  \n",
       "75%                  1.0      0.824925      4.000000  116650.750000  \n",
       "max                  1.0      1.000000     10.000000  148988.000000  "
      ]
     },
     "execution_count": 7,
     "metadata": {},
     "output_type": "execute_result"
    }
   ],
   "source": [
    "employee_data.describe()"
   ]
  },
  {
   "cell_type": "markdown",
   "metadata": {},
   "source": [
    "### Check for duplicate values in employee data"
   ]
  },
  {
   "cell_type": "code",
   "execution_count": 8,
   "metadata": {},
   "outputs": [
    {
     "name": "stdout",
     "output_type": "stream",
     "text": [
      "0          0\n",
      "1     119780\n",
      "2     104360\n",
      "3     116850\n",
      "4     109425\n",
      "5     116533\n",
      "6     105625\n",
      "7     117454\n",
      "8     102701\n",
      "9     108265\n",
      "10    112373\n",
      "11    111323\n",
      "12    106813\n",
      "13    115446\n",
      "14    112312\n",
      "15    115325\n",
      "16    110000\n",
      "17    112203\n",
      "18    111968\n",
      "19    108128\n",
      "20    101809\n",
      "21    122385\n",
      "22    116247\n",
      "23    116153\n",
      "24    116209\n",
      "25    110546\n",
      "26    109804\n",
      "27    109085\n",
      "28    108535\n",
      "29    119754\n",
      "Name: emp_id, dtype: int64\n"
     ]
    }
   ],
   "source": [
    "emp_counts = pd.DataFrame(employee_data['employee_id'].value_counts().reset_index())\n",
    "emp_counts.columns = ['emp_id', 'count']\n",
    "dup_emp = emp_counts[emp_counts['count']>1]\n",
    "print(dup_emp['emp_id'])"
   ]
  },
  {
   "cell_type": "code",
   "execution_count": 9,
   "metadata": {},
   "outputs": [
    {
     "data": {
      "text/plain": [
       "0"
      ]
     },
     "execution_count": 9,
     "metadata": {},
     "output_type": "execute_result"
    }
   ],
   "source": [
    "tmp = employee_data[employee_data['department'].isnull()]\n",
    "sum(tmp['employee_id'].value_counts()>1)"
   ]
  },
  {
   "cell_type": "markdown",
   "metadata": {},
   "source": [
    "### Remove the duplicate rows"
   ]
  },
  {
   "cell_type": "code",
   "execution_count": 10,
   "metadata": {},
   "outputs": [],
   "source": [
    "employee_data = employee_data.drop_duplicates(keep='first')"
   ]
  },
  {
   "cell_type": "markdown",
   "metadata": {},
   "source": [
    "### Check if all duplicates have been removed"
   ]
  },
  {
   "cell_type": "code",
   "execution_count": 11,
   "metadata": {},
   "outputs": [
    {
     "name": "stdout",
     "output_type": "stream",
     "text": [
      "Length of the dataset 14121\n"
     ]
    },
    {
     "data": {
      "text/html": [
       "<div>\n",
       "<style scoped>\n",
       "    .dataframe tbody tr th:only-of-type {\n",
       "        vertical-align: middle;\n",
       "    }\n",
       "\n",
       "    .dataframe tbody tr th {\n",
       "        vertical-align: top;\n",
       "    }\n",
       "\n",
       "    .dataframe thead th {\n",
       "        text-align: right;\n",
       "    }\n",
       "</style>\n",
       "<table border=\"1\" class=\"dataframe\">\n",
       "  <thead>\n",
       "    <tr style=\"text-align: right;\">\n",
       "      <th></th>\n",
       "      <th>index</th>\n",
       "      <th>employee_id</th>\n",
       "    </tr>\n",
       "  </thead>\n",
       "  <tbody>\n",
       "    <tr>\n",
       "      <th>0</th>\n",
       "      <td>0</td>\n",
       "      <td>5</td>\n",
       "    </tr>\n",
       "    <tr>\n",
       "      <th>1</th>\n",
       "      <td>111251</td>\n",
       "      <td>1</td>\n",
       "    </tr>\n",
       "    <tr>\n",
       "      <th>2</th>\n",
       "      <td>115373</td>\n",
       "      <td>1</td>\n",
       "    </tr>\n",
       "    <tr>\n",
       "      <th>3</th>\n",
       "      <td>117420</td>\n",
       "      <td>1</td>\n",
       "    </tr>\n",
       "    <tr>\n",
       "      <th>4</th>\n",
       "      <td>101028</td>\n",
       "      <td>1</td>\n",
       "    </tr>\n",
       "    <tr>\n",
       "      <th>...</th>\n",
       "      <td>...</td>\n",
       "      <td>...</td>\n",
       "    </tr>\n",
       "    <tr>\n",
       "      <th>14112</th>\n",
       "      <td>116034</td>\n",
       "      <td>1</td>\n",
       "    </tr>\n",
       "    <tr>\n",
       "      <th>14113</th>\n",
       "      <td>107838</td>\n",
       "      <td>1</td>\n",
       "    </tr>\n",
       "    <tr>\n",
       "      <th>14114</th>\n",
       "      <td>113981</td>\n",
       "      <td>1</td>\n",
       "    </tr>\n",
       "    <tr>\n",
       "      <th>14115</th>\n",
       "      <td>105785</td>\n",
       "      <td>1</td>\n",
       "    </tr>\n",
       "    <tr>\n",
       "      <th>14116</th>\n",
       "      <td>118834</td>\n",
       "      <td>1</td>\n",
       "    </tr>\n",
       "  </tbody>\n",
       "</table>\n",
       "<p>14117 rows × 2 columns</p>\n",
       "</div>"
      ],
      "text/plain": [
       "        index  employee_id\n",
       "0           0            5\n",
       "1      111251            1\n",
       "2      115373            1\n",
       "3      117420            1\n",
       "4      101028            1\n",
       "...       ...          ...\n",
       "14112  116034            1\n",
       "14113  107838            1\n",
       "14114  113981            1\n",
       "14115  105785            1\n",
       "14116  118834            1\n",
       "\n",
       "[14117 rows x 2 columns]"
      ]
     },
     "execution_count": 11,
     "metadata": {},
     "output_type": "execute_result"
    }
   ],
   "source": [
    "print('Length of the dataset', len(employee_data))\n",
    "pd.DataFrame(employee_data['employee_id'].value_counts().reset_index())"
   ]
  },
  {
   "cell_type": "markdown",
   "metadata": {},
   "source": [
    "So all duplicates have been removed, and now we are left with only these 5 employee ids having 0 in employee id. This can be retained as they are distinct rows. Also employee_id column may not be much use going further and we may drop it.\n",
    "\n",
    "Edit 1: The 0 employee id causes null values at the time of joining with employee_details_data. So we can drop those rows here."
   ]
  },
  {
   "cell_type": "code",
   "execution_count": 12,
   "metadata": {},
   "outputs": [
    {
     "data": {
      "text/html": [
       "<div>\n",
       "<style scoped>\n",
       "    .dataframe tbody tr th:only-of-type {\n",
       "        vertical-align: middle;\n",
       "    }\n",
       "\n",
       "    .dataframe tbody tr th {\n",
       "        vertical-align: top;\n",
       "    }\n",
       "\n",
       "    .dataframe thead th {\n",
       "        text-align: right;\n",
       "    }\n",
       "</style>\n",
       "<table border=\"1\" class=\"dataframe\">\n",
       "  <thead>\n",
       "    <tr style=\"text-align: right;\">\n",
       "      <th></th>\n",
       "      <th>employee_id</th>\n",
       "      <th>age</th>\n",
       "      <th>gender</th>\n",
       "      <th>marital_status</th>\n",
       "    </tr>\n",
       "  </thead>\n",
       "  <tbody>\n",
       "  </tbody>\n",
       "</table>\n",
       "</div>"
      ],
      "text/plain": [
       "Empty DataFrame\n",
       "Columns: [employee_id, age, gender, marital_status]\n",
       "Index: []"
      ]
     },
     "execution_count": 12,
     "metadata": {},
     "output_type": "execute_result"
    }
   ],
   "source": [
    "employee_details_data[employee_details_data['employee_id']==0]"
   ]
  },
  {
   "cell_type": "markdown",
   "metadata": {},
   "source": [
    "As there are no rows in employee_details table with employee_id 0, we can drop it"
   ]
  },
  {
   "cell_type": "markdown",
   "metadata": {},
   "source": [
    "##### Get the index of the rows with employee id as 0"
   ]
  },
  {
   "cell_type": "code",
   "execution_count": 13,
   "metadata": {},
   "outputs": [
    {
     "data": {
      "text/html": [
       "<div>\n",
       "<style scoped>\n",
       "    .dataframe tbody tr th:only-of-type {\n",
       "        vertical-align: middle;\n",
       "    }\n",
       "\n",
       "    .dataframe tbody tr th {\n",
       "        vertical-align: top;\n",
       "    }\n",
       "\n",
       "    .dataframe thead th {\n",
       "        text-align: right;\n",
       "    }\n",
       "</style>\n",
       "<table border=\"1\" class=\"dataframe\">\n",
       "  <thead>\n",
       "    <tr style=\"text-align: right;\">\n",
       "      <th></th>\n",
       "      <th>avg_monthly_hrs</th>\n",
       "      <th>department</th>\n",
       "      <th>filed_complaint</th>\n",
       "      <th>last_evaluation</th>\n",
       "      <th>n_projects</th>\n",
       "      <th>recently_promoted</th>\n",
       "      <th>salary</th>\n",
       "      <th>satisfaction</th>\n",
       "      <th>status</th>\n",
       "      <th>tenure</th>\n",
       "      <th>employee_id</th>\n",
       "    </tr>\n",
       "  </thead>\n",
       "  <tbody>\n",
       "    <tr>\n",
       "      <th>34</th>\n",
       "      <td>284.0</td>\n",
       "      <td>D00-SS</td>\n",
       "      <td>NaN</td>\n",
       "      <td>0.852702</td>\n",
       "      <td>6</td>\n",
       "      <td>NaN</td>\n",
       "      <td>low</td>\n",
       "      <td>0.069168</td>\n",
       "      <td>Left</td>\n",
       "      <td>4.0</td>\n",
       "      <td>0</td>\n",
       "    </tr>\n",
       "    <tr>\n",
       "      <th>304</th>\n",
       "      <td>264.0</td>\n",
       "      <td>D00-ENG</td>\n",
       "      <td>NaN</td>\n",
       "      <td>0.774554</td>\n",
       "      <td>6</td>\n",
       "      <td>NaN</td>\n",
       "      <td>low</td>\n",
       "      <td>0.110974</td>\n",
       "      <td>Left</td>\n",
       "      <td>4.0</td>\n",
       "      <td>0</td>\n",
       "    </tr>\n",
       "    <tr>\n",
       "      <th>1234</th>\n",
       "      <td>129.0</td>\n",
       "      <td>D00-SP</td>\n",
       "      <td>NaN</td>\n",
       "      <td>0.402660</td>\n",
       "      <td>2</td>\n",
       "      <td>NaN</td>\n",
       "      <td>medium</td>\n",
       "      <td>0.437359</td>\n",
       "      <td>Left</td>\n",
       "      <td>3.0</td>\n",
       "      <td>0</td>\n",
       "    </tr>\n",
       "    <tr>\n",
       "      <th>11304</th>\n",
       "      <td>167.0</td>\n",
       "      <td>None</td>\n",
       "      <td>NaN</td>\n",
       "      <td>0.880053</td>\n",
       "      <td>5</td>\n",
       "      <td>NaN</td>\n",
       "      <td>low</td>\n",
       "      <td>0.682140</td>\n",
       "      <td>Employed</td>\n",
       "      <td>3.0</td>\n",
       "      <td>0</td>\n",
       "    </tr>\n",
       "    <tr>\n",
       "      <th>12304</th>\n",
       "      <td>259.0</td>\n",
       "      <td>D00-ENG</td>\n",
       "      <td>NaN</td>\n",
       "      <td>0.505883</td>\n",
       "      <td>5</td>\n",
       "      <td>NaN</td>\n",
       "      <td>low</td>\n",
       "      <td>0.631046</td>\n",
       "      <td>Employed</td>\n",
       "      <td>4.0</td>\n",
       "      <td>0</td>\n",
       "    </tr>\n",
       "  </tbody>\n",
       "</table>\n",
       "</div>"
      ],
      "text/plain": [
       "       avg_monthly_hrs department  filed_complaint  last_evaluation  \\\n",
       "34               284.0     D00-SS              NaN         0.852702   \n",
       "304              264.0    D00-ENG              NaN         0.774554   \n",
       "1234             129.0     D00-SP              NaN         0.402660   \n",
       "11304            167.0       None              NaN         0.880053   \n",
       "12304            259.0    D00-ENG              NaN         0.505883   \n",
       "\n",
       "       n_projects  recently_promoted  salary  satisfaction    status  tenure  \\\n",
       "34              6                NaN     low      0.069168      Left     4.0   \n",
       "304             6                NaN     low      0.110974      Left     4.0   \n",
       "1234            2                NaN  medium      0.437359      Left     3.0   \n",
       "11304           5                NaN     low      0.682140  Employed     3.0   \n",
       "12304           5                NaN     low      0.631046  Employed     4.0   \n",
       "\n",
       "       employee_id  \n",
       "34               0  \n",
       "304              0  \n",
       "1234             0  \n",
       "11304            0  \n",
       "12304            0  "
      ]
     },
     "execution_count": 13,
     "metadata": {},
     "output_type": "execute_result"
    }
   ],
   "source": [
    "employee_data[employee_data['employee_id']==0]"
   ]
  },
  {
   "cell_type": "code",
   "execution_count": 14,
   "metadata": {},
   "outputs": [],
   "source": [
    "zero_index = employee_data[employee_data['employee_id']==0].index\n",
    "employee_data = employee_data.drop(index=zero_index)"
   ]
  },
  {
   "cell_type": "code",
   "execution_count": 15,
   "metadata": {},
   "outputs": [
    {
     "data": {
      "text/html": [
       "<div>\n",
       "<style scoped>\n",
       "    .dataframe tbody tr th:only-of-type {\n",
       "        vertical-align: middle;\n",
       "    }\n",
       "\n",
       "    .dataframe tbody tr th {\n",
       "        vertical-align: top;\n",
       "    }\n",
       "\n",
       "    .dataframe thead th {\n",
       "        text-align: right;\n",
       "    }\n",
       "</style>\n",
       "<table border=\"1\" class=\"dataframe\">\n",
       "  <thead>\n",
       "    <tr style=\"text-align: right;\">\n",
       "      <th></th>\n",
       "      <th>avg_monthly_hrs</th>\n",
       "      <th>department</th>\n",
       "      <th>filed_complaint</th>\n",
       "      <th>last_evaluation</th>\n",
       "      <th>n_projects</th>\n",
       "      <th>recently_promoted</th>\n",
       "      <th>salary</th>\n",
       "      <th>satisfaction</th>\n",
       "      <th>status</th>\n",
       "      <th>tenure</th>\n",
       "      <th>employee_id</th>\n",
       "    </tr>\n",
       "  </thead>\n",
       "  <tbody>\n",
       "  </tbody>\n",
       "</table>\n",
       "</div>"
      ],
      "text/plain": [
       "Empty DataFrame\n",
       "Columns: [avg_monthly_hrs, department, filed_complaint, last_evaluation, n_projects, recently_promoted, salary, satisfaction, status, tenure, employee_id]\n",
       "Index: []"
      ]
     },
     "execution_count": 15,
     "metadata": {},
     "output_type": "execute_result"
    }
   ],
   "source": [
    "employee_data[employee_data['employee_id']==0]"
   ]
  },
  {
   "cell_type": "markdown",
   "metadata": {},
   "source": [
    "### Correct the '-IT' department name"
   ]
  },
  {
   "cell_type": "code",
   "execution_count": 16,
   "metadata": {},
   "outputs": [
    {
     "data": {
      "text/plain": [
       "D00-SS     3895\n",
       "D00-ENG    2573\n",
       "D00-SP     2108\n",
       "D00-IT     1152\n",
       "D00-PD      853\n",
       "D00-MT      812\n",
       "D00-FN      722\n",
       "D00-MN      590\n",
       "-IT         207\n",
       "D00-AD      175\n",
       "D00-PR      173\n",
       "D00-TP      150\n",
       "Name: department, dtype: int64"
      ]
     },
     "execution_count": 16,
     "metadata": {},
     "output_type": "execute_result"
    }
   ],
   "source": [
    "employee_data['department'].value_counts()"
   ]
  },
  {
   "cell_type": "code",
   "execution_count": 17,
   "metadata": {},
   "outputs": [],
   "source": [
    "dept_index = employee_data[employee_data['department']=='-IT'].index\n",
    "employee_data.loc[dept_index,'department']='D00-IT'"
   ]
  },
  {
   "cell_type": "code",
   "execution_count": 18,
   "metadata": {},
   "outputs": [
    {
     "data": {
      "text/plain": [
       "D00-SS     3895\n",
       "D00-ENG    2573\n",
       "D00-SP     2108\n",
       "D00-IT     1359\n",
       "D00-PD      853\n",
       "D00-MT      812\n",
       "D00-FN      722\n",
       "D00-MN      590\n",
       "D00-AD      175\n",
       "D00-PR      173\n",
       "D00-TP      150\n",
       "Name: department, dtype: int64"
      ]
     },
     "execution_count": 18,
     "metadata": {},
     "output_type": "execute_result"
    }
   ],
   "source": [
    "employee_data['department'].value_counts()"
   ]
  },
  {
   "cell_type": "markdown",
   "metadata": {},
   "source": [
    "# Check for Null Values"
   ]
  },
  {
   "cell_type": "code",
   "execution_count": 19,
   "metadata": {},
   "outputs": [
    {
     "data": {
      "text/plain": [
       "avg_monthly_hrs          0\n",
       "department             706\n",
       "filed_complaint      12075\n",
       "last_evaluation       1487\n",
       "n_projects               0\n",
       "recently_promoted    13819\n",
       "salary                   0\n",
       "satisfaction           150\n",
       "status                   0\n",
       "tenure                 150\n",
       "employee_id              0\n",
       "dtype: int64"
      ]
     },
     "execution_count": 19,
     "metadata": {},
     "output_type": "execute_result"
    }
   ],
   "source": [
    "employee_data.isnull().sum()"
   ]
  },
  {
   "cell_type": "markdown",
   "metadata": {},
   "source": [
    "### Fill up the other Missing Not at random columns"
   ]
  },
  {
   "cell_type": "code",
   "execution_count": 20,
   "metadata": {},
   "outputs": [],
   "source": [
    "# Filed complaint fill with 0\n",
    "null_index = employee_data[employee_data['filed_complaint'].isnull()].index\n",
    "employee_data.loc[null_index, 'filed_complaint'] = 0\n",
    "\n",
    "# Recently promoted with 0\n",
    "null_index = employee_data[employee_data['recently_promoted'].isnull()].index\n",
    "employee_data.loc[null_index, 'recently_promoted'] = 0"
   ]
  },
  {
   "cell_type": "code",
   "execution_count": 21,
   "metadata": {},
   "outputs": [
    {
     "data": {
      "text/plain": [
       "avg_monthly_hrs         0\n",
       "department            706\n",
       "filed_complaint         0\n",
       "last_evaluation      1487\n",
       "n_projects              0\n",
       "recently_promoted       0\n",
       "salary                  0\n",
       "satisfaction          150\n",
       "status                  0\n",
       "tenure                150\n",
       "employee_id             0\n",
       "dtype: int64"
      ]
     },
     "execution_count": 21,
     "metadata": {},
     "output_type": "execute_result"
    }
   ],
   "source": [
    "employee_data.isnull().sum()"
   ]
  },
  {
   "cell_type": "code",
   "execution_count": null,
   "metadata": {},
   "outputs": [],
   "source": []
  },
  {
   "cell_type": "code",
   "execution_count": null,
   "metadata": {},
   "outputs": [],
   "source": []
  },
  {
   "cell_type": "markdown",
   "metadata": {},
   "source": [
    "### Fixing Last evaluation column"
   ]
  },
  {
   "cell_type": "code",
   "execution_count": 22,
   "metadata": {},
   "outputs": [
    {
     "data": {
      "text/plain": [
       "count    12629.000000\n",
       "mean         0.718322\n",
       "std          0.173069\n",
       "min          0.316175\n",
       "25%          0.563680\n",
       "50%          0.724428\n",
       "75%          0.871345\n",
       "max          1.000000\n",
       "Name: last_evaluation, dtype: float64"
      ]
     },
     "execution_count": 22,
     "metadata": {},
     "output_type": "execute_result"
    }
   ],
   "source": [
    "employee_data['last_evaluation'].describe()"
   ]
  },
  {
   "cell_type": "code",
   "execution_count": 23,
   "metadata": {},
   "outputs": [
    {
     "data": {
      "text/plain": [
       "<matplotlib.axes._subplots.AxesSubplot at 0xc3c3648>"
      ]
     },
     "execution_count": 23,
     "metadata": {},
     "output_type": "execute_result"
    },
    {
     "data": {
      "image/png": "[encoded data removed]",
      "text/plain": [
       "<Figure size 432x288 with 1 Axes>"
      ]
     },
     "metadata": {
      "needs_background": "light"
     },
     "output_type": "display_data"
    }
   ],
   "source": [
    "sns.distplot(employee_data['last_evaluation'])"
   ]
  },
  {
   "cell_type": "code",
   "execution_count": 24,
   "metadata": {},
   "outputs": [
    {
     "data": {
      "text/plain": [
       "Index(['avg_monthly_hrs', 'department', 'filed_complaint', 'last_evaluation',\n",
       "       'n_projects', 'recently_promoted', 'salary', 'satisfaction', 'status',\n",
       "       'tenure', 'employee_id'],\n",
       "      dtype='object')"
      ]
     },
     "execution_count": 24,
     "metadata": {},
     "output_type": "execute_result"
    }
   ],
   "source": [
    "employee_data.columns"
   ]
  },
  {
   "cell_type": "code",
   "execution_count": 25,
   "metadata": {},
   "outputs": [
    {
     "data": {
      "text/html": [
       "<div>\n",
       "<style scoped>\n",
       "    .dataframe tbody tr th:only-of-type {\n",
       "        vertical-align: middle;\n",
       "    }\n",
       "\n",
       "    .dataframe tbody tr th {\n",
       "        vertical-align: top;\n",
       "    }\n",
       "\n",
       "    .dataframe thead th {\n",
       "        text-align: right;\n",
       "    }\n",
       "</style>\n",
       "<table border=\"1\" class=\"dataframe\">\n",
       "  <thead>\n",
       "    <tr style=\"text-align: right;\">\n",
       "      <th></th>\n",
       "      <th>avg_monthly_hrs</th>\n",
       "      <th>department</th>\n",
       "      <th>filed_complaint</th>\n",
       "      <th>last_evaluation</th>\n",
       "      <th>n_projects</th>\n",
       "      <th>recently_promoted</th>\n",
       "      <th>salary</th>\n",
       "      <th>satisfaction</th>\n",
       "      <th>status</th>\n",
       "      <th>tenure</th>\n",
       "    </tr>\n",
       "  </thead>\n",
       "  <tbody>\n",
       "    <tr>\n",
       "      <th>0</th>\n",
       "      <td>246.0</td>\n",
       "      <td>None</td>\n",
       "      <td>0.0</td>\n",
       "      <td>0.866838</td>\n",
       "      <td>6</td>\n",
       "      <td>0.0</td>\n",
       "      <td>medium</td>\n",
       "      <td>0.134415</td>\n",
       "      <td>Left</td>\n",
       "      <td>4.0</td>\n",
       "    </tr>\n",
       "    <tr>\n",
       "      <th>1</th>\n",
       "      <td>134.0</td>\n",
       "      <td>None</td>\n",
       "      <td>0.0</td>\n",
       "      <td>0.555718</td>\n",
       "      <td>2</td>\n",
       "      <td>0.0</td>\n",
       "      <td>low</td>\n",
       "      <td>0.511041</td>\n",
       "      <td>Left</td>\n",
       "      <td>3.0</td>\n",
       "    </tr>\n",
       "    <tr>\n",
       "      <th>2</th>\n",
       "      <td>156.0</td>\n",
       "      <td>D00-SS</td>\n",
       "      <td>1.0</td>\n",
       "      <td>0.474082</td>\n",
       "      <td>2</td>\n",
       "      <td>0.0</td>\n",
       "      <td>medium</td>\n",
       "      <td>0.405101</td>\n",
       "      <td>Left</td>\n",
       "      <td>3.0</td>\n",
       "    </tr>\n",
       "    <tr>\n",
       "      <th>3</th>\n",
       "      <td>256.0</td>\n",
       "      <td>D00-SP</td>\n",
       "      <td>0.0</td>\n",
       "      <td>0.961360</td>\n",
       "      <td>6</td>\n",
       "      <td>0.0</td>\n",
       "      <td>low</td>\n",
       "      <td>0.152974</td>\n",
       "      <td>Left</td>\n",
       "      <td>4.0</td>\n",
       "    </tr>\n",
       "    <tr>\n",
       "      <th>4</th>\n",
       "      <td>146.0</td>\n",
       "      <td>D00-SS</td>\n",
       "      <td>0.0</td>\n",
       "      <td>0.507349</td>\n",
       "      <td>2</td>\n",
       "      <td>0.0</td>\n",
       "      <td>medium</td>\n",
       "      <td>0.434845</td>\n",
       "      <td>Left</td>\n",
       "      <td>3.0</td>\n",
       "    </tr>\n",
       "  </tbody>\n",
       "</table>\n",
       "</div>"
      ],
      "text/plain": [
       "   avg_monthly_hrs department  filed_complaint  last_evaluation  n_projects  \\\n",
       "0            246.0       None              0.0         0.866838           6   \n",
       "1            134.0       None              0.0         0.555718           2   \n",
       "2            156.0     D00-SS              1.0         0.474082           2   \n",
       "3            256.0     D00-SP              0.0         0.961360           6   \n",
       "4            146.0     D00-SS              0.0         0.507349           2   \n",
       "\n",
       "   recently_promoted  salary  satisfaction status  tenure  \n",
       "0                0.0  medium      0.134415   Left     4.0  \n",
       "1                0.0     low      0.511041   Left     3.0  \n",
       "2                0.0  medium      0.405101   Left     3.0  \n",
       "3                0.0     low      0.152974   Left     4.0  \n",
       "4                0.0  medium      0.434845   Left     3.0  "
      ]
     },
     "execution_count": 25,
     "metadata": {},
     "output_type": "execute_result"
    }
   ],
   "source": [
    "last_eval_dataset = employee_data.drop(['employee_id'], axis=1)\n",
    "last_eval_dataset.head()"
   ]
  },
  {
   "cell_type": "code",
   "execution_count": 26,
   "metadata": {},
   "outputs": [
    {
     "data": {
      "text/plain": [
       "avg_monthly_hrs         0\n",
       "department            706\n",
       "filed_complaint         0\n",
       "last_evaluation      1487\n",
       "n_projects              0\n",
       "recently_promoted       0\n",
       "salary                  0\n",
       "satisfaction          150\n",
       "status                  0\n",
       "tenure                150\n",
       "dtype: int64"
      ]
     },
     "execution_count": 26,
     "metadata": {},
     "output_type": "execute_result"
    }
   ],
   "source": [
    "last_eval_dataset.isnull().sum()"
   ]
  },
  {
   "cell_type": "code",
   "execution_count": 27,
   "metadata": {},
   "outputs": [
    {
     "data": {
      "text/html": [
       "<div>\n",
       "<style scoped>\n",
       "    .dataframe tbody tr th:only-of-type {\n",
       "        vertical-align: middle;\n",
       "    }\n",
       "\n",
       "    .dataframe tbody tr th {\n",
       "        vertical-align: top;\n",
       "    }\n",
       "\n",
       "    .dataframe thead th {\n",
       "        text-align: right;\n",
       "    }\n",
       "</style>\n",
       "<table border=\"1\" class=\"dataframe\">\n",
       "  <thead>\n",
       "    <tr style=\"text-align: right;\">\n",
       "      <th></th>\n",
       "      <th>avg_monthly_hrs</th>\n",
       "      <th>last_evaluation</th>\n",
       "      <th>n_projects</th>\n",
       "      <th>satisfaction</th>\n",
       "      <th>tenure</th>\n",
       "    </tr>\n",
       "  </thead>\n",
       "  <tbody>\n",
       "    <tr>\n",
       "      <th>avg_monthly_hrs</th>\n",
       "      <td>1.00</td>\n",
       "      <td>0.34</td>\n",
       "      <td>0.44</td>\n",
       "      <td>-0.02</td>\n",
       "      <td>0.13</td>\n",
       "    </tr>\n",
       "    <tr>\n",
       "      <th>last_evaluation</th>\n",
       "      <td>0.34</td>\n",
       "      <td>1.00</td>\n",
       "      <td>0.35</td>\n",
       "      <td>0.09</td>\n",
       "      <td>0.13</td>\n",
       "    </tr>\n",
       "    <tr>\n",
       "      <th>n_projects</th>\n",
       "      <td>0.44</td>\n",
       "      <td>0.35</td>\n",
       "      <td>1.00</td>\n",
       "      <td>-0.14</td>\n",
       "      <td>0.19</td>\n",
       "    </tr>\n",
       "    <tr>\n",
       "      <th>satisfaction</th>\n",
       "      <td>-0.02</td>\n",
       "      <td>0.09</td>\n",
       "      <td>-0.14</td>\n",
       "      <td>1.00</td>\n",
       "      <td>-0.10</td>\n",
       "    </tr>\n",
       "    <tr>\n",
       "      <th>tenure</th>\n",
       "      <td>0.13</td>\n",
       "      <td>0.13</td>\n",
       "      <td>0.19</td>\n",
       "      <td>-0.10</td>\n",
       "      <td>1.00</td>\n",
       "    </tr>\n",
       "  </tbody>\n",
       "</table>\n",
       "</div>"
      ],
      "text/plain": [
       "                 avg_monthly_hrs  last_evaluation  n_projects  satisfaction  \\\n",
       "avg_monthly_hrs             1.00             0.34        0.44         -0.02   \n",
       "last_evaluation             0.34             1.00        0.35          0.09   \n",
       "n_projects                  0.44             0.35        1.00         -0.14   \n",
       "satisfaction               -0.02             0.09       -0.14          1.00   \n",
       "tenure                      0.13             0.13        0.19         -0.10   \n",
       "\n",
       "                 tenure  \n",
       "avg_monthly_hrs    0.13  \n",
       "last_evaluation    0.13  \n",
       "n_projects         0.19  \n",
       "satisfaction      -0.10  \n",
       "tenure             1.00  "
      ]
     },
     "execution_count": 27,
     "metadata": {},
     "output_type": "execute_result"
    }
   ],
   "source": [
    "corr_columns = ['avg_monthly_hrs', 'last_evaluation', 'n_projects', 'satisfaction', 'tenure']\n",
    "round(last_eval_dataset[corr_columns].corr(),2)"
   ]
  },
  {
   "cell_type": "markdown",
   "metadata": {},
   "source": [
    "##### Prepare the last_eval_dataset for prediction. So, remove the null values in department and satisfaction & tenure"
   ]
  },
  {
   "cell_type": "code",
   "execution_count": 28,
   "metadata": {},
   "outputs": [],
   "source": [
    "last_eval_dataset_prep = last_eval_dataset.dropna(subset=['department', 'satisfaction', 'tenure'])"
   ]
  },
  {
   "cell_type": "code",
   "execution_count": 29,
   "metadata": {},
   "outputs": [
    {
     "data": {
      "text/plain": [
       "avg_monthly_hrs         0\n",
       "department              0\n",
       "filed_complaint         0\n",
       "last_evaluation      1271\n",
       "n_projects              0\n",
       "recently_promoted       0\n",
       "salary                  0\n",
       "satisfaction            0\n",
       "status                  0\n",
       "tenure                  0\n",
       "dtype: int64"
      ]
     },
     "execution_count": 29,
     "metadata": {},
     "output_type": "execute_result"
    }
   ],
   "source": [
    "last_eval_dataset_prep.isnull().sum()"
   ]
  },
  {
   "cell_type": "code",
   "execution_count": 30,
   "metadata": {},
   "outputs": [
    {
     "name": "stdout",
     "output_type": "stream",
     "text": [
      "(13260, 10)\n"
     ]
    }
   ],
   "source": [
    "print(last_eval_dataset_prep.shape)"
   ]
  },
  {
   "cell_type": "code",
   "execution_count": 31,
   "metadata": {},
   "outputs": [
    {
     "data": {
      "text/plain": [
       "avg_monthly_hrs      float64\n",
       "department            object\n",
       "filed_complaint      float64\n",
       "last_evaluation      float64\n",
       "n_projects             int64\n",
       "recently_promoted    float64\n",
       "salary                object\n",
       "satisfaction         float64\n",
       "status                object\n",
       "tenure               float64\n",
       "dtype: object"
      ]
     },
     "execution_count": 31,
     "metadata": {},
     "output_type": "execute_result"
    }
   ],
   "source": [
    "last_eval_dataset_prep.dtypes"
   ]
  },
  {
   "cell_type": "markdown",
   "metadata": {},
   "source": [
    "#### Dummify the categorical columns"
   ]
  },
  {
   "cell_type": "code",
   "execution_count": 32,
   "metadata": {},
   "outputs": [],
   "source": [
    "last_eval_dataset_prep_dummy = pd.get_dummies(last_eval_dataset_prep, columns=['department', 'salary', 'status'], drop_first=True)"
   ]
  },
  {
   "cell_type": "code",
   "execution_count": null,
   "metadata": {},
   "outputs": [],
   "source": []
  },
  {
   "cell_type": "markdown",
   "metadata": {},
   "source": [
    "#### Prepare the train & test dataset for last_evaluation regression"
   ]
  },
  {
   "cell_type": "markdown",
   "metadata": {},
   "source": [
    "Null value rows of last evaluation goes into the test dataset"
   ]
  },
  {
   "cell_type": "code",
   "execution_count": 33,
   "metadata": {},
   "outputs": [],
   "source": [
    "last_eval_train = last_eval_dataset_prep_dummy[~last_eval_dataset_prep_dummy['last_evaluation'].isnull()]\n",
    "last_eval_test = last_eval_dataset_prep_dummy[last_eval_dataset_prep_dummy['last_evaluation'].isnull()]"
   ]
  },
  {
   "cell_type": "code",
   "execution_count": 34,
   "metadata": {},
   "outputs": [
    {
     "name": "stdout",
     "output_type": "stream",
     "text": [
      "(11989, 19)\n",
      "(1271, 19)\n"
     ]
    }
   ],
   "source": [
    "print(last_eval_train.shape)\n",
    "print(last_eval_test.shape)"
   ]
  },
  {
   "cell_type": "code",
   "execution_count": 35,
   "metadata": {},
   "outputs": [
    {
     "data": {
      "text/html": [
       "<div>\n",
       "<style scoped>\n",
       "    .dataframe tbody tr th:only-of-type {\n",
       "        vertical-align: middle;\n",
       "    }\n",
       "\n",
       "    .dataframe tbody tr th {\n",
       "        vertical-align: top;\n",
       "    }\n",
       "\n",
       "    .dataframe thead th {\n",
       "        text-align: right;\n",
       "    }\n",
       "</style>\n",
       "<table border=\"1\" class=\"dataframe\">\n",
       "  <thead>\n",
       "    <tr style=\"text-align: right;\">\n",
       "      <th></th>\n",
       "      <th>avg_monthly_hrs</th>\n",
       "      <th>filed_complaint</th>\n",
       "      <th>last_evaluation</th>\n",
       "      <th>n_projects</th>\n",
       "      <th>recently_promoted</th>\n",
       "      <th>satisfaction</th>\n",
       "      <th>tenure</th>\n",
       "      <th>department_D00-ENG</th>\n",
       "      <th>department_D00-FN</th>\n",
       "      <th>department_D00-IT</th>\n",
       "      <th>department_D00-MN</th>\n",
       "      <th>department_D00-MT</th>\n",
       "      <th>department_D00-PD</th>\n",
       "      <th>department_D00-PR</th>\n",
       "      <th>department_D00-SP</th>\n",
       "      <th>department_D00-SS</th>\n",
       "      <th>salary_low</th>\n",
       "      <th>salary_medium</th>\n",
       "      <th>status_Left</th>\n",
       "    </tr>\n",
       "  </thead>\n",
       "  <tbody>\n",
       "    <tr>\n",
       "      <th>2</th>\n",
       "      <td>156.0</td>\n",
       "      <td>1.0</td>\n",
       "      <td>0.474082</td>\n",
       "      <td>2</td>\n",
       "      <td>0.0</td>\n",
       "      <td>0.405101</td>\n",
       "      <td>3.0</td>\n",
       "      <td>0</td>\n",
       "      <td>0</td>\n",
       "      <td>0</td>\n",
       "      <td>0</td>\n",
       "      <td>0</td>\n",
       "      <td>0</td>\n",
       "      <td>0</td>\n",
       "      <td>0</td>\n",
       "      <td>1</td>\n",
       "      <td>0</td>\n",
       "      <td>1</td>\n",
       "      <td>1</td>\n",
       "    </tr>\n",
       "    <tr>\n",
       "      <th>3</th>\n",
       "      <td>256.0</td>\n",
       "      <td>0.0</td>\n",
       "      <td>0.961360</td>\n",
       "      <td>6</td>\n",
       "      <td>0.0</td>\n",
       "      <td>0.152974</td>\n",
       "      <td>4.0</td>\n",
       "      <td>0</td>\n",
       "      <td>0</td>\n",
       "      <td>0</td>\n",
       "      <td>0</td>\n",
       "      <td>0</td>\n",
       "      <td>0</td>\n",
       "      <td>0</td>\n",
       "      <td>1</td>\n",
       "      <td>0</td>\n",
       "      <td>1</td>\n",
       "      <td>0</td>\n",
       "      <td>1</td>\n",
       "    </tr>\n",
       "    <tr>\n",
       "      <th>4</th>\n",
       "      <td>146.0</td>\n",
       "      <td>0.0</td>\n",
       "      <td>0.507349</td>\n",
       "      <td>2</td>\n",
       "      <td>0.0</td>\n",
       "      <td>0.434845</td>\n",
       "      <td>3.0</td>\n",
       "      <td>0</td>\n",
       "      <td>0</td>\n",
       "      <td>0</td>\n",
       "      <td>0</td>\n",
       "      <td>0</td>\n",
       "      <td>0</td>\n",
       "      <td>0</td>\n",
       "      <td>0</td>\n",
       "      <td>1</td>\n",
       "      <td>0</td>\n",
       "      <td>1</td>\n",
       "      <td>1</td>\n",
       "    </tr>\n",
       "    <tr>\n",
       "      <th>5</th>\n",
       "      <td>135.0</td>\n",
       "      <td>0.0</td>\n",
       "      <td>0.482184</td>\n",
       "      <td>2</td>\n",
       "      <td>0.0</td>\n",
       "      <td>0.381545</td>\n",
       "      <td>3.0</td>\n",
       "      <td>0</td>\n",
       "      <td>0</td>\n",
       "      <td>0</td>\n",
       "      <td>0</td>\n",
       "      <td>1</td>\n",
       "      <td>0</td>\n",
       "      <td>0</td>\n",
       "      <td>0</td>\n",
       "      <td>0</td>\n",
       "      <td>1</td>\n",
       "      <td>0</td>\n",
       "      <td>1</td>\n",
       "    </tr>\n",
       "    <tr>\n",
       "      <th>6</th>\n",
       "      <td>270.0</td>\n",
       "      <td>0.0</td>\n",
       "      <td>0.867087</td>\n",
       "      <td>6</td>\n",
       "      <td>0.0</td>\n",
       "      <td>0.172575</td>\n",
       "      <td>4.0</td>\n",
       "      <td>0</td>\n",
       "      <td>0</td>\n",
       "      <td>0</td>\n",
       "      <td>0</td>\n",
       "      <td>0</td>\n",
       "      <td>1</td>\n",
       "      <td>0</td>\n",
       "      <td>0</td>\n",
       "      <td>0</td>\n",
       "      <td>1</td>\n",
       "      <td>0</td>\n",
       "      <td>1</td>\n",
       "    </tr>\n",
       "  </tbody>\n",
       "</table>\n",
       "</div>"
      ],
      "text/plain": [
       "   avg_monthly_hrs  filed_complaint  last_evaluation  n_projects  \\\n",
       "2            156.0              1.0         0.474082           2   \n",
       "3            256.0              0.0         0.961360           6   \n",
       "4            146.0              0.0         0.507349           2   \n",
       "5            135.0              0.0         0.482184           2   \n",
       "6            270.0              0.0         0.867087           6   \n",
       "\n",
       "   recently_promoted  satisfaction  tenure  department_D00-ENG  \\\n",
       "2                0.0      0.405101     3.0                   0   \n",
       "3                0.0      0.152974     4.0                   0   \n",
       "4                0.0      0.434845     3.0                   0   \n",
       "5                0.0      0.381545     3.0                   0   \n",
       "6                0.0      0.172575     4.0                   0   \n",
       "\n",
       "   department_D00-FN  department_D00-IT  department_D00-MN  department_D00-MT  \\\n",
       "2                  0                  0                  0                  0   \n",
       "3                  0                  0                  0                  0   \n",
       "4                  0                  0                  0                  0   \n",
       "5                  0                  0                  0                  1   \n",
       "6                  0                  0                  0                  0   \n",
       "\n",
       "   department_D00-PD  department_D00-PR  department_D00-SP  department_D00-SS  \\\n",
       "2                  0                  0                  0                  1   \n",
       "3                  0                  0                  1                  0   \n",
       "4                  0                  0                  0                  1   \n",
       "5                  0                  0                  0                  0   \n",
       "6                  1                  0                  0                  0   \n",
       "\n",
       "   salary_low  salary_medium  status_Left  \n",
       "2           0              1            1  \n",
       "3           1              0            1  \n",
       "4           0              1            1  \n",
       "5           1              0            1  \n",
       "6           1              0            1  "
      ]
     },
     "execution_count": 35,
     "metadata": {},
     "output_type": "execute_result"
    }
   ],
   "source": [
    "last_eval_train.head()"
   ]
  },
  {
   "cell_type": "markdown",
   "metadata": {},
   "source": [
    "#### Prepare the X & y target variables"
   ]
  },
  {
   "cell_type": "code",
   "execution_count": 36,
   "metadata": {},
   "outputs": [],
   "source": [
    "X_train = last_eval_train.loc[:, last_eval_train.columns!='last_evaluation']\n",
    "y_train = last_eval_train.loc[:, 'last_evaluation']"
   ]
  },
  {
   "cell_type": "code",
   "execution_count": 37,
   "metadata": {},
   "outputs": [
    {
     "name": "stdout",
     "output_type": "stream",
     "text": [
      "(11989, 18)\n",
      "(11989,)\n"
     ]
    }
   ],
   "source": [
    "print(X_train.shape)\n",
    "print(y_train.shape)"
   ]
  },
  {
   "cell_type": "code",
   "execution_count": 38,
   "metadata": {},
   "outputs": [],
   "source": [
    "X_test = last_eval_test.loc[:, last_eval_train.columns!='last_evaluation']"
   ]
  },
  {
   "cell_type": "code",
   "execution_count": 39,
   "metadata": {},
   "outputs": [
    {
     "name": "stdout",
     "output_type": "stream",
     "text": [
      "(1271, 18)\n"
     ]
    }
   ],
   "source": [
    "print(X_test.shape)"
   ]
  },
  {
   "cell_type": "code",
   "execution_count": null,
   "metadata": {},
   "outputs": [],
   "source": []
  },
  {
   "cell_type": "code",
   "execution_count": 40,
   "metadata": {},
   "outputs": [],
   "source": [
    "from sklearn.linear_model import LinearRegression\n",
    "from sklearn.neighbors import KNeighborsRegressor\n",
    "from sklearn.tree import DecisionTreeRegressor\n",
    "from sklearn import metrics"
   ]
  },
  {
   "cell_type": "code",
   "execution_count": 41,
   "metadata": {},
   "outputs": [],
   "source": [
    "#obj = LinearRegression()\n",
    "#obj = KNeighborsRegressor()\n",
    "obj = DecisionTreeRegressor(min_samples_split=3, max_features=15)"
   ]
  },
  {
   "cell_type": "code",
   "execution_count": 42,
   "metadata": {},
   "outputs": [],
   "source": [
    "obj.fit(X_train, y_train)\n",
    "y_train_pred = obj.predict(X_train)"
   ]
  },
  {
   "cell_type": "markdown",
   "metadata": {},
   "source": [
    "#### Check prediction MSE & RMSE of Last_eval score"
   ]
  },
  {
   "cell_type": "code",
   "execution_count": 43,
   "metadata": {},
   "outputs": [
    {
     "name": "stdout",
     "output_type": "stream",
     "text": [
      "MSE of last_evaluation prediction 0.0\n",
      "R2_Score of last_evaluation prediction 0.98\n"
     ]
    }
   ],
   "source": [
    "mse_train = metrics.mean_squared_error(y_train, y_train_pred)\n",
    "r2_score = metrics.r2_score(y_train, y_train_pred)\n",
    "print('MSE of last_evaluation prediction', round(mse_train,2))\n",
    "print('R2_Score of last_evaluation prediction', round(r2_score,2))"
   ]
  },
  {
   "cell_type": "markdown",
   "metadata": {},
   "source": [
    "##### Predict for the null values"
   ]
  },
  {
   "cell_type": "code",
   "execution_count": 44,
   "metadata": {},
   "outputs": [
    {
     "data": {
      "text/plain": [
       "array([0.443835, 0.581183, 0.457284, ..., 0.416612, 0.659448, 0.601885])"
      ]
     },
     "execution_count": 44,
     "metadata": {},
     "output_type": "execute_result"
    }
   ],
   "source": [
    "y_test_pred = obj.predict(X_test)\n",
    "y_test_pred"
   ]
  },
  {
   "cell_type": "markdown",
   "metadata": {},
   "source": [
    "#### Update the null values with the predicited satisfaction scores"
   ]
  },
  {
   "cell_type": "code",
   "execution_count": 45,
   "metadata": {},
   "outputs": [
    {
     "data": {
      "text/plain": [
       "Int64Index([   21,    39,    49,    57,    94,   104,   110,   121,   131,\n",
       "              149,\n",
       "            ...\n",
       "            14032, 14040, 14045, 14048, 14049, 14068, 14083, 14097, 14110,\n",
       "            14118],\n",
       "           dtype='int64', length=1271)"
      ]
     },
     "execution_count": 45,
     "metadata": {},
     "output_type": "execute_result"
    }
   ],
   "source": [
    "null_index = last_eval_test[last_eval_test['last_evaluation'].isnull()].index\n",
    "null_index"
   ]
  },
  {
   "cell_type": "markdown",
   "metadata": {},
   "source": [
    "#### check if this corresponds to the null values in the employee dataset"
   ]
  },
  {
   "cell_type": "code",
   "execution_count": 46,
   "metadata": {},
   "outputs": [
    {
     "data": {
      "text/plain": [
       "21      NaN\n",
       "39      NaN\n",
       "49      NaN\n",
       "57      NaN\n",
       "94      NaN\n",
       "         ..\n",
       "14068   NaN\n",
       "14083   NaN\n",
       "14097   NaN\n",
       "14110   NaN\n",
       "14118   NaN\n",
       "Name: last_evaluation, Length: 1271, dtype: float64"
      ]
     },
     "execution_count": 46,
     "metadata": {},
     "output_type": "execute_result"
    }
   ],
   "source": [
    "# copy the employee_data for comparison of new & old distribution\n",
    "employee_data_copy = employee_data.copy()\n",
    "employee_data_copy.loc[null_index, 'last_evaluation']"
   ]
  },
  {
   "cell_type": "code",
   "execution_count": 47,
   "metadata": {},
   "outputs": [],
   "source": [
    "employee_data_copy.loc[null_index, 'last_evaluation'] = y_test_pred"
   ]
  },
  {
   "cell_type": "markdown",
   "metadata": {},
   "source": [
    "#### Check for null values of last_evaluation column again"
   ]
  },
  {
   "cell_type": "code",
   "execution_count": 48,
   "metadata": {},
   "outputs": [
    {
     "data": {
      "text/plain": [
       "216"
      ]
     },
     "execution_count": 48,
     "metadata": {},
     "output_type": "execute_result"
    }
   ],
   "source": [
    "employee_data_copy['last_evaluation'].isnull().sum()"
   ]
  },
  {
   "cell_type": "code",
   "execution_count": 49,
   "metadata": {},
   "outputs": [
    {
     "data": {
      "text/html": [
       "<div>\n",
       "<style scoped>\n",
       "    .dataframe tbody tr th:only-of-type {\n",
       "        vertical-align: middle;\n",
       "    }\n",
       "\n",
       "    .dataframe tbody tr th {\n",
       "        vertical-align: top;\n",
       "    }\n",
       "\n",
       "    .dataframe thead th {\n",
       "        text-align: right;\n",
       "    }\n",
       "</style>\n",
       "<table border=\"1\" class=\"dataframe\">\n",
       "  <thead>\n",
       "    <tr style=\"text-align: right;\">\n",
       "      <th></th>\n",
       "      <th>avg_monthly_hrs</th>\n",
       "      <th>department</th>\n",
       "      <th>filed_complaint</th>\n",
       "      <th>last_evaluation</th>\n",
       "      <th>n_projects</th>\n",
       "      <th>recently_promoted</th>\n",
       "      <th>salary</th>\n",
       "      <th>satisfaction</th>\n",
       "      <th>status</th>\n",
       "      <th>tenure</th>\n",
       "      <th>employee_id</th>\n",
       "    </tr>\n",
       "  </thead>\n",
       "  <tbody>\n",
       "    <tr>\n",
       "      <th>28</th>\n",
       "      <td>156.0</td>\n",
       "      <td>None</td>\n",
       "      <td>0.0</td>\n",
       "      <td>NaN</td>\n",
       "      <td>2</td>\n",
       "      <td>0.0</td>\n",
       "      <td>medium</td>\n",
       "      <td>0.465747</td>\n",
       "      <td>Left</td>\n",
       "      <td>3.0</td>\n",
       "      <td>128509</td>\n",
       "    </tr>\n",
       "    <tr>\n",
       "      <th>44</th>\n",
       "      <td>125.0</td>\n",
       "      <td>D00-TP</td>\n",
       "      <td>0.0</td>\n",
       "      <td>NaN</td>\n",
       "      <td>3</td>\n",
       "      <td>0.0</td>\n",
       "      <td>medium</td>\n",
       "      <td>NaN</td>\n",
       "      <td>Left</td>\n",
       "      <td>NaN</td>\n",
       "      <td>120360</td>\n",
       "    </tr>\n",
       "    <tr>\n",
       "      <th>71</th>\n",
       "      <td>153.0</td>\n",
       "      <td>None</td>\n",
       "      <td>0.0</td>\n",
       "      <td>NaN</td>\n",
       "      <td>2</td>\n",
       "      <td>0.0</td>\n",
       "      <td>low</td>\n",
       "      <td>0.455101</td>\n",
       "      <td>Left</td>\n",
       "      <td>3.0</td>\n",
       "      <td>121337</td>\n",
       "    </tr>\n",
       "    <tr>\n",
       "      <th>245</th>\n",
       "      <td>124.0</td>\n",
       "      <td>D00-TP</td>\n",
       "      <td>0.0</td>\n",
       "      <td>NaN</td>\n",
       "      <td>3</td>\n",
       "      <td>0.0</td>\n",
       "      <td>low</td>\n",
       "      <td>NaN</td>\n",
       "      <td>Left</td>\n",
       "      <td>NaN</td>\n",
       "      <td>116012</td>\n",
       "    </tr>\n",
       "    <tr>\n",
       "      <th>251</th>\n",
       "      <td>119.0</td>\n",
       "      <td>D00-TP</td>\n",
       "      <td>0.0</td>\n",
       "      <td>NaN</td>\n",
       "      <td>2</td>\n",
       "      <td>0.0</td>\n",
       "      <td>medium</td>\n",
       "      <td>NaN</td>\n",
       "      <td>Left</td>\n",
       "      <td>NaN</td>\n",
       "      <td>116287</td>\n",
       "    </tr>\n",
       "    <tr>\n",
       "      <th>...</th>\n",
       "      <td>...</td>\n",
       "      <td>...</td>\n",
       "      <td>...</td>\n",
       "      <td>...</td>\n",
       "      <td>...</td>\n",
       "      <td>...</td>\n",
       "      <td>...</td>\n",
       "      <td>...</td>\n",
       "      <td>...</td>\n",
       "      <td>...</td>\n",
       "      <td>...</td>\n",
       "    </tr>\n",
       "    <tr>\n",
       "      <th>13905</th>\n",
       "      <td>132.0</td>\n",
       "      <td>D00-TP</td>\n",
       "      <td>0.0</td>\n",
       "      <td>NaN</td>\n",
       "      <td>2</td>\n",
       "      <td>0.0</td>\n",
       "      <td>medium</td>\n",
       "      <td>NaN</td>\n",
       "      <td>Left</td>\n",
       "      <td>NaN</td>\n",
       "      <td>106482</td>\n",
       "    </tr>\n",
       "    <tr>\n",
       "      <th>13921</th>\n",
       "      <td>208.0</td>\n",
       "      <td>None</td>\n",
       "      <td>0.0</td>\n",
       "      <td>NaN</td>\n",
       "      <td>2</td>\n",
       "      <td>0.0</td>\n",
       "      <td>low</td>\n",
       "      <td>0.544351</td>\n",
       "      <td>Employed</td>\n",
       "      <td>2.0</td>\n",
       "      <td>111454</td>\n",
       "    </tr>\n",
       "    <tr>\n",
       "      <th>13960</th>\n",
       "      <td>116.0</td>\n",
       "      <td>D00-TP</td>\n",
       "      <td>0.0</td>\n",
       "      <td>NaN</td>\n",
       "      <td>2</td>\n",
       "      <td>0.0</td>\n",
       "      <td>low</td>\n",
       "      <td>NaN</td>\n",
       "      <td>Employed</td>\n",
       "      <td>NaN</td>\n",
       "      <td>105231</td>\n",
       "    </tr>\n",
       "    <tr>\n",
       "      <th>14004</th>\n",
       "      <td>151.0</td>\n",
       "      <td>None</td>\n",
       "      <td>0.0</td>\n",
       "      <td>NaN</td>\n",
       "      <td>4</td>\n",
       "      <td>0.0</td>\n",
       "      <td>medium</td>\n",
       "      <td>0.676767</td>\n",
       "      <td>Employed</td>\n",
       "      <td>3.0</td>\n",
       "      <td>101742</td>\n",
       "    </tr>\n",
       "    <tr>\n",
       "      <th>14088</th>\n",
       "      <td>230.0</td>\n",
       "      <td>None</td>\n",
       "      <td>0.0</td>\n",
       "      <td>NaN</td>\n",
       "      <td>4</td>\n",
       "      <td>0.0</td>\n",
       "      <td>medium</td>\n",
       "      <td>0.903135</td>\n",
       "      <td>Employed</td>\n",
       "      <td>3.0</td>\n",
       "      <td>106592</td>\n",
       "    </tr>\n",
       "  </tbody>\n",
       "</table>\n",
       "<p>216 rows × 11 columns</p>\n",
       "</div>"
      ],
      "text/plain": [
       "       avg_monthly_hrs department  filed_complaint  last_evaluation  \\\n",
       "28               156.0       None              0.0              NaN   \n",
       "44               125.0     D00-TP              0.0              NaN   \n",
       "71               153.0       None              0.0              NaN   \n",
       "245              124.0     D00-TP              0.0              NaN   \n",
       "251              119.0     D00-TP              0.0              NaN   \n",
       "...                ...        ...              ...              ...   \n",
       "13905            132.0     D00-TP              0.0              NaN   \n",
       "13921            208.0       None              0.0              NaN   \n",
       "13960            116.0     D00-TP              0.0              NaN   \n",
       "14004            151.0       None              0.0              NaN   \n",
       "14088            230.0       None              0.0              NaN   \n",
       "\n",
       "       n_projects  recently_promoted  salary  satisfaction    status  tenure  \\\n",
       "28              2                0.0  medium      0.465747      Left     3.0   \n",
       "44              3                0.0  medium           NaN      Left     NaN   \n",
       "71              2                0.0     low      0.455101      Left     3.0   \n",
       "245             3                0.0     low           NaN      Left     NaN   \n",
       "251             2                0.0  medium           NaN      Left     NaN   \n",
       "...           ...                ...     ...           ...       ...     ...   \n",
       "13905           2                0.0  medium           NaN      Left     NaN   \n",
       "13921           2                0.0     low      0.544351  Employed     2.0   \n",
       "13960           2                0.0     low           NaN  Employed     NaN   \n",
       "14004           4                0.0  medium      0.676767  Employed     3.0   \n",
       "14088           4                0.0  medium      0.903135  Employed     3.0   \n",
       "\n",
       "       employee_id  \n",
       "28          128509  \n",
       "44          120360  \n",
       "71          121337  \n",
       "245         116012  \n",
       "251         116287  \n",
       "...            ...  \n",
       "13905       106482  \n",
       "13921       111454  \n",
       "13960       105231  \n",
       "14004       101742  \n",
       "14088       106592  \n",
       "\n",
       "[216 rows x 11 columns]"
      ]
     },
     "execution_count": 49,
     "metadata": {},
     "output_type": "execute_result"
    }
   ],
   "source": [
    "employee_data_copy[employee_data_copy['last_evaluation'].isnull()]"
   ]
  },
  {
   "cell_type": "markdown",
   "metadata": {},
   "source": [
    "There are 216 null values remaining. This we can choose to drop or fill it with mean values. <br>\n",
    "Proceeding with filling up with mean values"
   ]
  },
  {
   "cell_type": "code",
   "execution_count": 50,
   "metadata": {},
   "outputs": [
    {
     "name": "stdout",
     "output_type": "stream",
     "text": [
      "Mean last eval score:  0.7153931332374074\n"
     ]
    }
   ],
   "source": [
    "last_eval_mean = employee_data_copy['last_evaluation'].mean()\n",
    "print('Mean last eval score: ', last_eval_mean)"
   ]
  },
  {
   "cell_type": "code",
   "execution_count": 51,
   "metadata": {},
   "outputs": [],
   "source": [
    "employee_data_copy['last_evaluation'].fillna(value=last_eval_mean, inplace=True)"
   ]
  },
  {
   "cell_type": "code",
   "execution_count": 52,
   "metadata": {},
   "outputs": [
    {
     "data": {
      "text/plain": [
       "0"
      ]
     },
     "execution_count": 52,
     "metadata": {},
     "output_type": "execute_result"
    }
   ],
   "source": [
    "employee_data_copy['last_evaluation'].isnull().sum()"
   ]
  },
  {
   "cell_type": "markdown",
   "metadata": {},
   "source": [
    "#### Re-check the distrbution if there is any deviation introduced"
   ]
  },
  {
   "cell_type": "code",
   "execution_count": 53,
   "metadata": {},
   "outputs": [
    {
     "data": {
      "text/plain": [
       "count    12629.000000\n",
       "mean         0.718322\n",
       "std          0.173069\n",
       "min          0.316175\n",
       "25%          0.563680\n",
       "50%          0.724428\n",
       "75%          0.871345\n",
       "max          1.000000\n",
       "Name: last_evaluation, dtype: float64"
      ]
     },
     "execution_count": 53,
     "metadata": {},
     "output_type": "execute_result"
    }
   ],
   "source": [
    "employee_data['last_evaluation'].describe()"
   ]
  },
  {
   "cell_type": "code",
   "execution_count": 54,
   "metadata": {},
   "outputs": [
    {
     "data": {
      "text/plain": [
       "count    14116.000000\n",
       "mean         0.715393\n",
       "std          0.171745\n",
       "min          0.316175\n",
       "25%          0.563437\n",
       "50%          0.715393\n",
       "75%          0.867281\n",
       "max          1.000000\n",
       "Name: last_evaluation, dtype: float64"
      ]
     },
     "execution_count": 54,
     "metadata": {},
     "output_type": "execute_result"
    }
   ],
   "source": [
    "employee_data_copy['last_evaluation'].describe()"
   ]
  },
  {
   "cell_type": "code",
   "execution_count": 55,
   "metadata": {},
   "outputs": [
    {
     "data": {
      "text/plain": [
       "<matplotlib.axes._subplots.AxesSubplot at 0xccfa708>"
      ]
     },
     "execution_count": 55,
     "metadata": {},
     "output_type": "execute_result"
    },
    {
     "data": {
      "image/png": "[encoded data removed]",
      "text/plain": [
       "<Figure size 432x288 with 1 Axes>"
      ]
     },
     "metadata": {
      "needs_background": "light"
     },
     "output_type": "display_data"
    }
   ],
   "source": [
    "sns.distplot(employee_data['last_evaluation'])"
   ]
  },
  {
   "cell_type": "code",
   "execution_count": 56,
   "metadata": {},
   "outputs": [
    {
     "data": {
      "text/plain": [
       "<matplotlib.axes._subplots.AxesSubplot at 0xcd9ba48>"
      ]
     },
     "execution_count": 56,
     "metadata": {},
     "output_type": "execute_result"
    },
    {
     "data": {
      "image/png": "[encoded data removed]",
      "text/plain": [
       "<Figure size 432x288 with 1 Axes>"
      ]
     },
     "metadata": {
      "needs_background": "light"
     },
     "output_type": "display_data"
    }
   ],
   "source": [
    "sns.distplot(employee_data_copy['last_evaluation'])"
   ]
  },
  {
   "cell_type": "markdown",
   "metadata": {},
   "source": [
    "A little peak has been introduced, but lets go with it for now"
   ]
  },
  {
   "cell_type": "code",
   "execution_count": 57,
   "metadata": {},
   "outputs": [],
   "source": [
    "employee_data.loc[:,'last_evaluation'] = employee_data_copy['last_evaluation']"
   ]
  },
  {
   "cell_type": "code",
   "execution_count": 58,
   "metadata": {},
   "outputs": [
    {
     "data": {
      "text/plain": [
       "0"
      ]
     },
     "execution_count": 58,
     "metadata": {},
     "output_type": "execute_result"
    }
   ],
   "source": [
    "# checking for null\n",
    "employee_data['last_evaluation'].isnull().sum()"
   ]
  },
  {
   "cell_type": "markdown",
   "metadata": {},
   "source": [
    "## FIxing the department column"
   ]
  },
  {
   "cell_type": "code",
   "execution_count": 59,
   "metadata": {},
   "outputs": [
    {
     "data": {
      "text/plain": [
       "706"
      ]
     },
     "execution_count": 59,
     "metadata": {},
     "output_type": "execute_result"
    }
   ],
   "source": [
    "employee_data['department'].isnull().sum()"
   ]
  },
  {
   "cell_type": "markdown",
   "metadata": {},
   "source": [
    "#### Prepare the employee data for department prediction"
   ]
  },
  {
   "cell_type": "code",
   "execution_count": 60,
   "metadata": {},
   "outputs": [
    {
     "data": {
      "text/plain": [
       "avg_monthly_hrs        0\n",
       "department           706\n",
       "filed_complaint        0\n",
       "last_evaluation        0\n",
       "n_projects             0\n",
       "recently_promoted      0\n",
       "salary                 0\n",
       "satisfaction           0\n",
       "status                 0\n",
       "tenure                 0\n",
       "employee_id            0\n",
       "dtype: int64"
      ]
     },
     "execution_count": 60,
     "metadata": {},
     "output_type": "execute_result"
    }
   ],
   "source": [
    "# Dropping the null values of satisfaction & tenure\n",
    "dept_data = employee_data.dropna(subset=['satisfaction', 'tenure'], axis=0)\n",
    "dept_data.isnull().sum()"
   ]
  },
  {
   "cell_type": "code",
   "execution_count": 61,
   "metadata": {},
   "outputs": [
    {
     "data": {
      "text/plain": [
       "array([None, 'D00-SS', 'D00-SP', 'D00-MT', 'D00-PD', 'D00-IT', 'D00-AD',\n",
       "       'D00-MN', 'D00-ENG', 'D00-PR', 'D00-FN'], dtype=object)"
      ]
     },
     "execution_count": 61,
     "metadata": {},
     "output_type": "execute_result"
    }
   ],
   "source": [
    "dept_data['department'].unique()"
   ]
  },
  {
   "cell_type": "markdown",
   "metadata": {},
   "source": [
    "#### Label encode the department data"
   ]
  },
  {
   "cell_type": "code",
   "execution_count": 62,
   "metadata": {},
   "outputs": [
    {
     "name": "stderr",
     "output_type": "stream",
     "text": [
      "C:\\Users\\sudeepm\\anaconda3\\lib\\site-packages\\pandas\\core\\indexing.py:966: SettingWithCopyWarning: \n",
      "A value is trying to be set on a copy of a slice from a DataFrame.\n",
      "Try using .loc[row_indexer,col_indexer] = value instead\n",
      "\n",
      "See the caveats in the documentation: https://pandas.pydata.org/pandas-docs/stable/user_guide/indexing.html#returning-a-view-versus-a-copy\n",
      "  self.obj[item] = s\n"
     ]
    }
   ],
   "source": [
    "labels = dept_data['department'].map({None:None, 'D00-SS':1, 'D00-SP':2, 'D00-MT':3, 'D00-PD':4, 'D00-IT':5, 'D00-AD':6,\n",
    "                                      'D00-MN':7, 'D00-ENG':8, 'D00-PR':9, 'D00-FN':10})\n",
    "dept_data.loc[labels.index, 'department'] = labels.values"
   ]
  },
  {
   "cell_type": "code",
   "execution_count": 63,
   "metadata": {},
   "outputs": [
    {
     "data": {
      "text/html": [
       "<div>\n",
       "<style scoped>\n",
       "    .dataframe tbody tr th:only-of-type {\n",
       "        vertical-align: middle;\n",
       "    }\n",
       "\n",
       "    .dataframe tbody tr th {\n",
       "        vertical-align: top;\n",
       "    }\n",
       "\n",
       "    .dataframe thead th {\n",
       "        text-align: right;\n",
       "    }\n",
       "</style>\n",
       "<table border=\"1\" class=\"dataframe\">\n",
       "  <thead>\n",
       "    <tr style=\"text-align: right;\">\n",
       "      <th></th>\n",
       "      <th>avg_monthly_hrs</th>\n",
       "      <th>department</th>\n",
       "      <th>filed_complaint</th>\n",
       "      <th>last_evaluation</th>\n",
       "      <th>n_projects</th>\n",
       "      <th>recently_promoted</th>\n",
       "      <th>salary</th>\n",
       "      <th>satisfaction</th>\n",
       "      <th>status</th>\n",
       "      <th>tenure</th>\n",
       "      <th>employee_id</th>\n",
       "    </tr>\n",
       "  </thead>\n",
       "  <tbody>\n",
       "    <tr>\n",
       "      <th>0</th>\n",
       "      <td>246.0</td>\n",
       "      <td>NaN</td>\n",
       "      <td>0.0</td>\n",
       "      <td>0.866838</td>\n",
       "      <td>6</td>\n",
       "      <td>0.0</td>\n",
       "      <td>medium</td>\n",
       "      <td>0.134415</td>\n",
       "      <td>Left</td>\n",
       "      <td>4.0</td>\n",
       "      <td>124467</td>\n",
       "    </tr>\n",
       "    <tr>\n",
       "      <th>1</th>\n",
       "      <td>134.0</td>\n",
       "      <td>NaN</td>\n",
       "      <td>0.0</td>\n",
       "      <td>0.555718</td>\n",
       "      <td>2</td>\n",
       "      <td>0.0</td>\n",
       "      <td>low</td>\n",
       "      <td>0.511041</td>\n",
       "      <td>Left</td>\n",
       "      <td>3.0</td>\n",
       "      <td>112210</td>\n",
       "    </tr>\n",
       "    <tr>\n",
       "      <th>2</th>\n",
       "      <td>156.0</td>\n",
       "      <td>1.0</td>\n",
       "      <td>1.0</td>\n",
       "      <td>0.474082</td>\n",
       "      <td>2</td>\n",
       "      <td>0.0</td>\n",
       "      <td>medium</td>\n",
       "      <td>0.405101</td>\n",
       "      <td>Left</td>\n",
       "      <td>3.0</td>\n",
       "      <td>126150</td>\n",
       "    </tr>\n",
       "    <tr>\n",
       "      <th>3</th>\n",
       "      <td>256.0</td>\n",
       "      <td>2.0</td>\n",
       "      <td>0.0</td>\n",
       "      <td>0.961360</td>\n",
       "      <td>6</td>\n",
       "      <td>0.0</td>\n",
       "      <td>low</td>\n",
       "      <td>0.152974</td>\n",
       "      <td>Left</td>\n",
       "      <td>4.0</td>\n",
       "      <td>125346</td>\n",
       "    </tr>\n",
       "    <tr>\n",
       "      <th>4</th>\n",
       "      <td>146.0</td>\n",
       "      <td>1.0</td>\n",
       "      <td>0.0</td>\n",
       "      <td>0.507349</td>\n",
       "      <td>2</td>\n",
       "      <td>0.0</td>\n",
       "      <td>medium</td>\n",
       "      <td>0.434845</td>\n",
       "      <td>Left</td>\n",
       "      <td>3.0</td>\n",
       "      <td>113707</td>\n",
       "    </tr>\n",
       "  </tbody>\n",
       "</table>\n",
       "</div>"
      ],
      "text/plain": [
       "   avg_monthly_hrs  department  filed_complaint  last_evaluation  n_projects  \\\n",
       "0            246.0         NaN              0.0         0.866838           6   \n",
       "1            134.0         NaN              0.0         0.555718           2   \n",
       "2            156.0         1.0              1.0         0.474082           2   \n",
       "3            256.0         2.0              0.0         0.961360           6   \n",
       "4            146.0         1.0              0.0         0.507349           2   \n",
       "\n",
       "   recently_promoted  salary  satisfaction status  tenure  employee_id  \n",
       "0                0.0  medium      0.134415   Left     4.0       124467  \n",
       "1                0.0     low      0.511041   Left     3.0       112210  \n",
       "2                0.0  medium      0.405101   Left     3.0       126150  \n",
       "3                0.0     low      0.152974   Left     4.0       125346  \n",
       "4                0.0  medium      0.434845   Left     3.0       113707  "
      ]
     },
     "execution_count": 63,
     "metadata": {},
     "output_type": "execute_result"
    }
   ],
   "source": [
    "dept_data.head()"
   ]
  },
  {
   "cell_type": "markdown",
   "metadata": {},
   "source": [
    "#### Drop columns which may not be useful in  determing the department_id"
   ]
  },
  {
   "cell_type": "code",
   "execution_count": 64,
   "metadata": {},
   "outputs": [],
   "source": [
    "dept_data = dept_data.drop('employee_id', axis=1)"
   ]
  },
  {
   "cell_type": "code",
   "execution_count": 65,
   "metadata": {},
   "outputs": [
    {
     "data": {
      "text/html": [
       "<div>\n",
       "<style scoped>\n",
       "    .dataframe tbody tr th:only-of-type {\n",
       "        vertical-align: middle;\n",
       "    }\n",
       "\n",
       "    .dataframe tbody tr th {\n",
       "        vertical-align: top;\n",
       "    }\n",
       "\n",
       "    .dataframe thead th {\n",
       "        text-align: right;\n",
       "    }\n",
       "</style>\n",
       "<table border=\"1\" class=\"dataframe\">\n",
       "  <thead>\n",
       "    <tr style=\"text-align: right;\">\n",
       "      <th></th>\n",
       "      <th>avg_monthly_hrs</th>\n",
       "      <th>department</th>\n",
       "      <th>filed_complaint</th>\n",
       "      <th>last_evaluation</th>\n",
       "      <th>n_projects</th>\n",
       "      <th>recently_promoted</th>\n",
       "      <th>salary</th>\n",
       "      <th>satisfaction</th>\n",
       "      <th>status</th>\n",
       "      <th>tenure</th>\n",
       "    </tr>\n",
       "  </thead>\n",
       "  <tbody>\n",
       "    <tr>\n",
       "      <th>0</th>\n",
       "      <td>246.0</td>\n",
       "      <td>NaN</td>\n",
       "      <td>0.0</td>\n",
       "      <td>0.866838</td>\n",
       "      <td>6</td>\n",
       "      <td>0.0</td>\n",
       "      <td>medium</td>\n",
       "      <td>0.134415</td>\n",
       "      <td>Left</td>\n",
       "      <td>4.0</td>\n",
       "    </tr>\n",
       "    <tr>\n",
       "      <th>1</th>\n",
       "      <td>134.0</td>\n",
       "      <td>NaN</td>\n",
       "      <td>0.0</td>\n",
       "      <td>0.555718</td>\n",
       "      <td>2</td>\n",
       "      <td>0.0</td>\n",
       "      <td>low</td>\n",
       "      <td>0.511041</td>\n",
       "      <td>Left</td>\n",
       "      <td>3.0</td>\n",
       "    </tr>\n",
       "    <tr>\n",
       "      <th>2</th>\n",
       "      <td>156.0</td>\n",
       "      <td>1.0</td>\n",
       "      <td>1.0</td>\n",
       "      <td>0.474082</td>\n",
       "      <td>2</td>\n",
       "      <td>0.0</td>\n",
       "      <td>medium</td>\n",
       "      <td>0.405101</td>\n",
       "      <td>Left</td>\n",
       "      <td>3.0</td>\n",
       "    </tr>\n",
       "    <tr>\n",
       "      <th>3</th>\n",
       "      <td>256.0</td>\n",
       "      <td>2.0</td>\n",
       "      <td>0.0</td>\n",
       "      <td>0.961360</td>\n",
       "      <td>6</td>\n",
       "      <td>0.0</td>\n",
       "      <td>low</td>\n",
       "      <td>0.152974</td>\n",
       "      <td>Left</td>\n",
       "      <td>4.0</td>\n",
       "    </tr>\n",
       "    <tr>\n",
       "      <th>4</th>\n",
       "      <td>146.0</td>\n",
       "      <td>1.0</td>\n",
       "      <td>0.0</td>\n",
       "      <td>0.507349</td>\n",
       "      <td>2</td>\n",
       "      <td>0.0</td>\n",
       "      <td>medium</td>\n",
       "      <td>0.434845</td>\n",
       "      <td>Left</td>\n",
       "      <td>3.0</td>\n",
       "    </tr>\n",
       "  </tbody>\n",
       "</table>\n",
       "</div>"
      ],
      "text/plain": [
       "   avg_monthly_hrs  department  filed_complaint  last_evaluation  n_projects  \\\n",
       "0            246.0         NaN              0.0         0.866838           6   \n",
       "1            134.0         NaN              0.0         0.555718           2   \n",
       "2            156.0         1.0              1.0         0.474082           2   \n",
       "3            256.0         2.0              0.0         0.961360           6   \n",
       "4            146.0         1.0              0.0         0.507349           2   \n",
       "\n",
       "   recently_promoted  salary  satisfaction status  tenure  \n",
       "0                0.0  medium      0.134415   Left     4.0  \n",
       "1                0.0     low      0.511041   Left     3.0  \n",
       "2                0.0  medium      0.405101   Left     3.0  \n",
       "3                0.0     low      0.152974   Left     4.0  \n",
       "4                0.0  medium      0.434845   Left     3.0  "
      ]
     },
     "execution_count": 65,
     "metadata": {},
     "output_type": "execute_result"
    }
   ],
   "source": [
    "dept_data.head()"
   ]
  },
  {
   "cell_type": "markdown",
   "metadata": {},
   "source": [
    "#### Dummify the categorical columns"
   ]
  },
  {
   "cell_type": "code",
   "execution_count": 66,
   "metadata": {},
   "outputs": [],
   "source": [
    "dept_data_dummy = pd.get_dummies(dept_data, columns=['salary', 'status'])"
   ]
  },
  {
   "cell_type": "code",
   "execution_count": 67,
   "metadata": {},
   "outputs": [
    {
     "data": {
      "text/html": [
       "<div>\n",
       "<style scoped>\n",
       "    .dataframe tbody tr th:only-of-type {\n",
       "        vertical-align: middle;\n",
       "    }\n",
       "\n",
       "    .dataframe tbody tr th {\n",
       "        vertical-align: top;\n",
       "    }\n",
       "\n",
       "    .dataframe thead th {\n",
       "        text-align: right;\n",
       "    }\n",
       "</style>\n",
       "<table border=\"1\" class=\"dataframe\">\n",
       "  <thead>\n",
       "    <tr style=\"text-align: right;\">\n",
       "      <th></th>\n",
       "      <th>avg_monthly_hrs</th>\n",
       "      <th>department</th>\n",
       "      <th>filed_complaint</th>\n",
       "      <th>last_evaluation</th>\n",
       "      <th>n_projects</th>\n",
       "      <th>recently_promoted</th>\n",
       "      <th>satisfaction</th>\n",
       "      <th>tenure</th>\n",
       "      <th>salary_high</th>\n",
       "      <th>salary_low</th>\n",
       "      <th>salary_medium</th>\n",
       "      <th>status_Employed</th>\n",
       "      <th>status_Left</th>\n",
       "    </tr>\n",
       "  </thead>\n",
       "  <tbody>\n",
       "    <tr>\n",
       "      <th>0</th>\n",
       "      <td>246.0</td>\n",
       "      <td>NaN</td>\n",
       "      <td>0.0</td>\n",
       "      <td>0.866838</td>\n",
       "      <td>6</td>\n",
       "      <td>0.0</td>\n",
       "      <td>0.134415</td>\n",
       "      <td>4.0</td>\n",
       "      <td>0</td>\n",
       "      <td>0</td>\n",
       "      <td>1</td>\n",
       "      <td>0</td>\n",
       "      <td>1</td>\n",
       "    </tr>\n",
       "    <tr>\n",
       "      <th>1</th>\n",
       "      <td>134.0</td>\n",
       "      <td>NaN</td>\n",
       "      <td>0.0</td>\n",
       "      <td>0.555718</td>\n",
       "      <td>2</td>\n",
       "      <td>0.0</td>\n",
       "      <td>0.511041</td>\n",
       "      <td>3.0</td>\n",
       "      <td>0</td>\n",
       "      <td>1</td>\n",
       "      <td>0</td>\n",
       "      <td>0</td>\n",
       "      <td>1</td>\n",
       "    </tr>\n",
       "    <tr>\n",
       "      <th>2</th>\n",
       "      <td>156.0</td>\n",
       "      <td>1.0</td>\n",
       "      <td>1.0</td>\n",
       "      <td>0.474082</td>\n",
       "      <td>2</td>\n",
       "      <td>0.0</td>\n",
       "      <td>0.405101</td>\n",
       "      <td>3.0</td>\n",
       "      <td>0</td>\n",
       "      <td>0</td>\n",
       "      <td>1</td>\n",
       "      <td>0</td>\n",
       "      <td>1</td>\n",
       "    </tr>\n",
       "    <tr>\n",
       "      <th>3</th>\n",
       "      <td>256.0</td>\n",
       "      <td>2.0</td>\n",
       "      <td>0.0</td>\n",
       "      <td>0.961360</td>\n",
       "      <td>6</td>\n",
       "      <td>0.0</td>\n",
       "      <td>0.152974</td>\n",
       "      <td>4.0</td>\n",
       "      <td>0</td>\n",
       "      <td>1</td>\n",
       "      <td>0</td>\n",
       "      <td>0</td>\n",
       "      <td>1</td>\n",
       "    </tr>\n",
       "    <tr>\n",
       "      <th>4</th>\n",
       "      <td>146.0</td>\n",
       "      <td>1.0</td>\n",
       "      <td>0.0</td>\n",
       "      <td>0.507349</td>\n",
       "      <td>2</td>\n",
       "      <td>0.0</td>\n",
       "      <td>0.434845</td>\n",
       "      <td>3.0</td>\n",
       "      <td>0</td>\n",
       "      <td>0</td>\n",
       "      <td>1</td>\n",
       "      <td>0</td>\n",
       "      <td>1</td>\n",
       "    </tr>\n",
       "  </tbody>\n",
       "</table>\n",
       "</div>"
      ],
      "text/plain": [
       "   avg_monthly_hrs  department  filed_complaint  last_evaluation  n_projects  \\\n",
       "0            246.0         NaN              0.0         0.866838           6   \n",
       "1            134.0         NaN              0.0         0.555718           2   \n",
       "2            156.0         1.0              1.0         0.474082           2   \n",
       "3            256.0         2.0              0.0         0.961360           6   \n",
       "4            146.0         1.0              0.0         0.507349           2   \n",
       "\n",
       "   recently_promoted  satisfaction  tenure  salary_high  salary_low  \\\n",
       "0                0.0      0.134415     4.0            0           0   \n",
       "1                0.0      0.511041     3.0            0           1   \n",
       "2                0.0      0.405101     3.0            0           0   \n",
       "3                0.0      0.152974     4.0            0           1   \n",
       "4                0.0      0.434845     3.0            0           0   \n",
       "\n",
       "   salary_medium  status_Employed  status_Left  \n",
       "0              1                0            1  \n",
       "1              0                0            1  \n",
       "2              1                0            1  \n",
       "3              0                0            1  \n",
       "4              1                0            1  "
      ]
     },
     "execution_count": 67,
     "metadata": {},
     "output_type": "execute_result"
    }
   ],
   "source": [
    "dept_data_dummy.head()"
   ]
  },
  {
   "cell_type": "code",
   "execution_count": null,
   "metadata": {},
   "outputs": [],
   "source": []
  },
  {
   "cell_type": "markdown",
   "metadata": {},
   "source": [
    "### Using ML algorithms to impute null values in Department table"
   ]
  },
  {
   "cell_type": "code",
   "execution_count": 68,
   "metadata": {},
   "outputs": [],
   "source": [
    "dept_data_train = dept_data_dummy[~dept_data_dummy['department'].isnull()]\n",
    "dept_data_test = dept_data_dummy[dept_data_dummy['department'].isnull()]"
   ]
  },
  {
   "cell_type": "code",
   "execution_count": 69,
   "metadata": {},
   "outputs": [
    {
     "name": "stdout",
     "output_type": "stream",
     "text": [
      "0\n",
      "706\n"
     ]
    }
   ],
   "source": [
    "print(dept_data_train['department'].isnull().sum())\n",
    "print(dept_data_test['department'].isnull().sum())"
   ]
  },
  {
   "cell_type": "markdown",
   "metadata": {},
   "source": [
    "#### Putting all the non-values into train dataset and the null values into a test dataset"
   ]
  },
  {
   "cell_type": "code",
   "execution_count": 70,
   "metadata": {},
   "outputs": [],
   "source": [
    "X_train = dept_data_train.loc[:, dept_data_train.columns!='department']\n",
    "y_train = dept_data_train.loc[:, 'department']"
   ]
  },
  {
   "cell_type": "code",
   "execution_count": 71,
   "metadata": {},
   "outputs": [
    {
     "name": "stdout",
     "output_type": "stream",
     "text": [
      "(13260, 12)\n",
      "(13260,)\n"
     ]
    }
   ],
   "source": [
    "print(X_train.shape)\n",
    "print(y_train.shape)"
   ]
  },
  {
   "cell_type": "code",
   "execution_count": 72,
   "metadata": {},
   "outputs": [],
   "source": [
    "X_test = dept_data_test.loc[:, dept_data_test.columns!='department']"
   ]
  },
  {
   "cell_type": "code",
   "execution_count": null,
   "metadata": {},
   "outputs": [],
   "source": [
    "print(X_test.shape)"
   ]
  },
  {
   "cell_type": "markdown",
   "metadata": {},
   "source": [
    "### Check for null"
   ]
  },
  {
   "cell_type": "code",
   "execution_count": 73,
   "metadata": {},
   "outputs": [
    {
     "data": {
      "text/plain": [
       "avg_monthly_hrs      0\n",
       "filed_complaint      0\n",
       "last_evaluation      0\n",
       "n_projects           0\n",
       "recently_promoted    0\n",
       "satisfaction         0\n",
       "tenure               0\n",
       "salary_high          0\n",
       "salary_low           0\n",
       "salary_medium        0\n",
       "status_Employed      0\n",
       "status_Left          0\n",
       "dtype: int64"
      ]
     },
     "execution_count": 73,
     "metadata": {},
     "output_type": "execute_result"
    }
   ],
   "source": [
    "X_train.isnull().sum()"
   ]
  },
  {
   "cell_type": "code",
   "execution_count": 74,
   "metadata": {},
   "outputs": [
    {
     "data": {
      "text/plain": [
       "avg_monthly_hrs      0\n",
       "filed_complaint      0\n",
       "last_evaluation      0\n",
       "n_projects           0\n",
       "recently_promoted    0\n",
       "satisfaction         0\n",
       "tenure               0\n",
       "salary_high          0\n",
       "salary_low           0\n",
       "salary_medium        0\n",
       "status_Employed      0\n",
       "status_Left          0\n",
       "dtype: int64"
      ]
     },
     "execution_count": 74,
     "metadata": {},
     "output_type": "execute_result"
    }
   ],
   "source": [
    "X_test.isnull().sum()"
   ]
  },
  {
   "cell_type": "code",
   "execution_count": null,
   "metadata": {},
   "outputs": [],
   "source": []
  },
  {
   "cell_type": "markdown",
   "metadata": {},
   "source": [
    "### Scaling the dataset prior to ML algorithm"
   ]
  },
  {
   "cell_type": "code",
   "execution_count": 75,
   "metadata": {},
   "outputs": [],
   "source": [
    "from sklearn.preprocessing import StandardScaler\n",
    "\n",
    "std = StandardScaler()\n",
    "std.fit(X_train)\n",
    "X_train_scaled = std.transform(X_train)"
   ]
  },
  {
   "cell_type": "code",
   "execution_count": 76,
   "metadata": {},
   "outputs": [],
   "source": [
    "from sklearn.neighbors import KNeighborsClassifier\n",
    "from sklearn.tree import DecisionTreeClassifier\n",
    "\n",
    "obj = DecisionTreeClassifier(min_samples_split=3, max_features=10)\n",
    "#obj.fit(X_train_scaled, y_train) # not required for Dtree\n",
    "obj.fit(X_train, y_train)\n",
    "y_train_pred = obj.predict(X_train_scaled)\n",
    "#y_train_pred = obj.predict(X_train) #not required for Dtree"
   ]
  },
  {
   "cell_type": "code",
   "execution_count": 77,
   "metadata": {},
   "outputs": [
    {
     "data": {
      "text/plain": [
       "array([1., 2., 1., ..., 2., 5., 2.])"
      ]
     },
     "execution_count": 77,
     "metadata": {},
     "output_type": "execute_result"
    }
   ],
   "source": [
    "y_train_pred"
   ]
  },
  {
   "cell_type": "markdown",
   "metadata": {},
   "source": [
    "#### Model Evaluation"
   ]
  },
  {
   "cell_type": "code",
   "execution_count": 78,
   "metadata": {},
   "outputs": [],
   "source": [
    "from sklearn import metrics"
   ]
  },
  {
   "cell_type": "code",
   "execution_count": 79,
   "metadata": {},
   "outputs": [
    {
     "name": "stdout",
     "output_type": "stream",
     "text": [
      "Accuracy for training set is 0.9052790346907994\n"
     ]
    }
   ],
   "source": [
    "train_accuracy = metrics.accuracy_score(y_train, y_train_pred)\n",
    "print('Accuracy for training set is {}'.format(train_accuracy))"
   ]
  },
  {
   "cell_type": "markdown",
   "metadata": {},
   "source": [
    "#### Updated the test dataset with the predicted values"
   ]
  },
  {
   "cell_type": "code",
   "execution_count": 80,
   "metadata": {},
   "outputs": [
    {
     "name": "stdout",
     "output_type": "stream",
     "text": [
      "706\n"
     ]
    }
   ],
   "source": [
    "y_test_pred = obj.predict(X_test)\n",
    "print(len(y_test_pred))"
   ]
  },
  {
   "cell_type": "code",
   "execution_count": 81,
   "metadata": {},
   "outputs": [
    {
     "name": "stderr",
     "output_type": "stream",
     "text": [
      "C:\\Users\\sudeepm\\anaconda3\\lib\\site-packages\\pandas\\core\\indexing.py:966: SettingWithCopyWarning: \n",
      "A value is trying to be set on a copy of a slice from a DataFrame.\n",
      "Try using .loc[row_indexer,col_indexer] = value instead\n",
      "\n",
      "See the caveats in the documentation: https://pandas.pydata.org/pandas-docs/stable/user_guide/indexing.html#returning-a-view-versus-a-copy\n",
      "  self.obj[item] = s\n"
     ]
    }
   ],
   "source": [
    "dept_data_test.loc[:,'department'] = y_test_pred"
   ]
  },
  {
   "cell_type": "markdown",
   "metadata": {},
   "source": [
    "#### Reverse the label mapping for department table"
   ]
  },
  {
   "cell_type": "code",
   "execution_count": 82,
   "metadata": {},
   "outputs": [],
   "source": [
    "rev_labels = dept_data_test['department'].map({None:None, 1:'D00-SS', 2:'D00-SP', 3:'D00-MT', 4:'D00-PD', 5:'D00-IT',\n",
    "                                           6:'D00-AD', 7:'D00-MN', 8:'D00-ENG', 9:'D00-PR', 10:'D00-FN'})\n",
    "dept_data_test.loc[rev_labels.index, 'department'] = rev_labels.values"
   ]
  },
  {
   "cell_type": "code",
   "execution_count": 83,
   "metadata": {},
   "outputs": [
    {
     "data": {
      "text/html": [
       "<div>\n",
       "<style scoped>\n",
       "    .dataframe tbody tr th:only-of-type {\n",
       "        vertical-align: middle;\n",
       "    }\n",
       "\n",
       "    .dataframe tbody tr th {\n",
       "        vertical-align: top;\n",
       "    }\n",
       "\n",
       "    .dataframe thead th {\n",
       "        text-align: right;\n",
       "    }\n",
       "</style>\n",
       "<table border=\"1\" class=\"dataframe\">\n",
       "  <thead>\n",
       "    <tr style=\"text-align: right;\">\n",
       "      <th></th>\n",
       "      <th>avg_monthly_hrs</th>\n",
       "      <th>department</th>\n",
       "      <th>filed_complaint</th>\n",
       "      <th>last_evaluation</th>\n",
       "      <th>n_projects</th>\n",
       "      <th>recently_promoted</th>\n",
       "      <th>satisfaction</th>\n",
       "      <th>tenure</th>\n",
       "      <th>salary_high</th>\n",
       "      <th>salary_low</th>\n",
       "      <th>salary_medium</th>\n",
       "      <th>status_Employed</th>\n",
       "      <th>status_Left</th>\n",
       "    </tr>\n",
       "  </thead>\n",
       "  <tbody>\n",
       "    <tr>\n",
       "      <th>0</th>\n",
       "      <td>246.0</td>\n",
       "      <td>D00-AD</td>\n",
       "      <td>0.0</td>\n",
       "      <td>0.866838</td>\n",
       "      <td>6</td>\n",
       "      <td>0.0</td>\n",
       "      <td>0.134415</td>\n",
       "      <td>4.0</td>\n",
       "      <td>0</td>\n",
       "      <td>0</td>\n",
       "      <td>1</td>\n",
       "      <td>0</td>\n",
       "      <td>1</td>\n",
       "    </tr>\n",
       "    <tr>\n",
       "      <th>1</th>\n",
       "      <td>134.0</td>\n",
       "      <td>D00-SP</td>\n",
       "      <td>0.0</td>\n",
       "      <td>0.555718</td>\n",
       "      <td>2</td>\n",
       "      <td>0.0</td>\n",
       "      <td>0.511041</td>\n",
       "      <td>3.0</td>\n",
       "      <td>0</td>\n",
       "      <td>1</td>\n",
       "      <td>0</td>\n",
       "      <td>0</td>\n",
       "      <td>1</td>\n",
       "    </tr>\n",
       "    <tr>\n",
       "      <th>25</th>\n",
       "      <td>155.0</td>\n",
       "      <td>D00-FN</td>\n",
       "      <td>0.0</td>\n",
       "      <td>0.464598</td>\n",
       "      <td>2</td>\n",
       "      <td>0.0</td>\n",
       "      <td>0.414451</td>\n",
       "      <td>3.0</td>\n",
       "      <td>0</td>\n",
       "      <td>0</td>\n",
       "      <td>1</td>\n",
       "      <td>0</td>\n",
       "      <td>1</td>\n",
       "    </tr>\n",
       "    <tr>\n",
       "      <th>28</th>\n",
       "      <td>156.0</td>\n",
       "      <td>D00-SS</td>\n",
       "      <td>0.0</td>\n",
       "      <td>0.715393</td>\n",
       "      <td>2</td>\n",
       "      <td>0.0</td>\n",
       "      <td>0.465747</td>\n",
       "      <td>3.0</td>\n",
       "      <td>0</td>\n",
       "      <td>0</td>\n",
       "      <td>1</td>\n",
       "      <td>0</td>\n",
       "      <td>1</td>\n",
       "    </tr>\n",
       "    <tr>\n",
       "      <th>40</th>\n",
       "      <td>233.0</td>\n",
       "      <td>D00-ENG</td>\n",
       "      <td>0.0</td>\n",
       "      <td>0.965382</td>\n",
       "      <td>5</td>\n",
       "      <td>0.0</td>\n",
       "      <td>0.962314</td>\n",
       "      <td>5.0</td>\n",
       "      <td>0</td>\n",
       "      <td>0</td>\n",
       "      <td>1</td>\n",
       "      <td>0</td>\n",
       "      <td>1</td>\n",
       "    </tr>\n",
       "  </tbody>\n",
       "</table>\n",
       "</div>"
      ],
      "text/plain": [
       "    avg_monthly_hrs department  filed_complaint  last_evaluation  n_projects  \\\n",
       "0             246.0     D00-AD              0.0         0.866838           6   \n",
       "1             134.0     D00-SP              0.0         0.555718           2   \n",
       "25            155.0     D00-FN              0.0         0.464598           2   \n",
       "28            156.0     D00-SS              0.0         0.715393           2   \n",
       "40            233.0    D00-ENG              0.0         0.965382           5   \n",
       "\n",
       "    recently_promoted  satisfaction  tenure  salary_high  salary_low  \\\n",
       "0                 0.0      0.134415     4.0            0           0   \n",
       "1                 0.0      0.511041     3.0            0           1   \n",
       "25                0.0      0.414451     3.0            0           0   \n",
       "28                0.0      0.465747     3.0            0           0   \n",
       "40                0.0      0.962314     5.0            0           0   \n",
       "\n",
       "    salary_medium  status_Employed  status_Left  \n",
       "0               1                0            1  \n",
       "1               0                0            1  \n",
       "25              1                0            1  \n",
       "28              1                0            1  \n",
       "40              1                0            1  "
      ]
     },
     "execution_count": 83,
     "metadata": {},
     "output_type": "execute_result"
    }
   ],
   "source": [
    "dept_data_test.head()"
   ]
  },
  {
   "cell_type": "code",
   "execution_count": 84,
   "metadata": {},
   "outputs": [],
   "source": [
    "null_dept_index = employee_data[employee_data['department'].isnull()].index"
   ]
  },
  {
   "cell_type": "code",
   "execution_count": 85,
   "metadata": {},
   "outputs": [],
   "source": [
    "employee_data_copy = employee_data.copy()"
   ]
  },
  {
   "cell_type": "code",
   "execution_count": 86,
   "metadata": {},
   "outputs": [],
   "source": [
    "employee_data_copy.loc[null_dept_index, 'department'] = dept_data_test['department']"
   ]
  },
  {
   "cell_type": "code",
   "execution_count": 87,
   "metadata": {},
   "outputs": [
    {
     "data": {
      "text/plain": [
       "D00-SS     3895\n",
       "D00-ENG    2573\n",
       "D00-SP     2108\n",
       "D00-IT     1359\n",
       "D00-PD      853\n",
       "D00-MT      812\n",
       "D00-FN      722\n",
       "D00-MN      590\n",
       "D00-AD      175\n",
       "D00-PR      173\n",
       "D00-TP      150\n",
       "Name: department, dtype: int64"
      ]
     },
     "execution_count": 87,
     "metadata": {},
     "output_type": "execute_result"
    }
   ],
   "source": [
    "employee_data['department'].value_counts()"
   ]
  },
  {
   "cell_type": "code",
   "execution_count": 88,
   "metadata": {},
   "outputs": [
    {
     "data": {
      "text/plain": [
       "D00-SS     4133\n",
       "D00-ENG    2710\n",
       "D00-SP     2218\n",
       "D00-IT     1423\n",
       "D00-PD      902\n",
       "D00-MT      847\n",
       "D00-FN      762\n",
       "D00-MN      607\n",
       "D00-AD      187\n",
       "D00-PR      177\n",
       "D00-TP      150\n",
       "Name: department, dtype: int64"
      ]
     },
     "execution_count": 88,
     "metadata": {},
     "output_type": "execute_result"
    }
   ],
   "source": [
    "employee_data_copy['department'].value_counts()"
   ]
  },
  {
   "cell_type": "code",
   "execution_count": 103,
   "metadata": {},
   "outputs": [],
   "source": [
    "employee_data.loc[:, 'department'] = employee_data_copy['department']"
   ]
  },
  {
   "cell_type": "code",
   "execution_count": 104,
   "metadata": {},
   "outputs": [
    {
     "data": {
      "text/plain": [
       "avg_monthly_hrs        0\n",
       "department             0\n",
       "filed_complaint        0\n",
       "last_evaluation        0\n",
       "n_projects             0\n",
       "recently_promoted      0\n",
       "salary                 0\n",
       "satisfaction         150\n",
       "status                 0\n",
       "tenure               150\n",
       "employee_id            0\n",
       "dtype: int64"
      ]
     },
     "execution_count": 104,
     "metadata": {},
     "output_type": "execute_result"
    }
   ],
   "source": [
    "employee_data.isnull().sum()"
   ]
  },
  {
   "cell_type": "markdown",
   "metadata": {},
   "source": [
    "## Fixing the null values in Tenure column"
   ]
  },
  {
   "cell_type": "markdown",
   "metadata": {},
   "source": [
    "#### Prepare the dataset for null value imputing"
   ]
  },
  {
   "cell_type": "code",
   "execution_count": 105,
   "metadata": {},
   "outputs": [],
   "source": [
    "tenure_data = employee_data.drop('status', axis=1)"
   ]
  },
  {
   "cell_type": "code",
   "execution_count": 106,
   "metadata": {},
   "outputs": [],
   "source": [
    "tenure_data['satisfaction'].fillna(value=tenure_data['satisfaction'].mean(), inplace=True)"
   ]
  },
  {
   "cell_type": "code",
   "execution_count": 110,
   "metadata": {},
   "outputs": [],
   "source": [
    "tenure_data_dummy = pd.get_dummies(tenure_data, columns=['department', 'salary'], drop_first=True)"
   ]
  },
  {
   "cell_type": "code",
   "execution_count": 111,
   "metadata": {},
   "outputs": [
    {
     "name": "stdout",
     "output_type": "stream",
     "text": [
      "0\n",
      "150\n"
     ]
    }
   ],
   "source": [
    "tenure_data_train = tenure_data_dummy[~tenure_data_dummy['tenure'].isnull()]\n",
    "tenure_data_test = tenure_data_dummy[tenure_data_dummy['tenure'].isnull()]\n",
    "print(tenure_data_train['tenure'].isnull().sum())\n",
    "print(tenure_data_test['tenure'].isnull().sum())"
   ]
  },
  {
   "cell_type": "markdown",
   "metadata": {},
   "source": [
    "#### Putting all the non-values into train dataset and the null values into a test dataset"
   ]
  },
  {
   "cell_type": "code",
   "execution_count": 112,
   "metadata": {},
   "outputs": [
    {
     "name": "stdout",
     "output_type": "stream",
     "text": [
      "(13966, 19)\n",
      "(13966,)\n"
     ]
    }
   ],
   "source": [
    "X_train = tenure_data_train.loc[:, tenure_data_train.columns!='tenure']\n",
    "y_train = tenure_data_train.loc[:, 'tenure']\n",
    "print(X_train.shape)\n",
    "print(y_train.shape)"
   ]
  },
  {
   "cell_type": "code",
   "execution_count": 114,
   "metadata": {},
   "outputs": [
    {
     "name": "stdout",
     "output_type": "stream",
     "text": [
      "(150, 19)\n"
     ]
    }
   ],
   "source": [
    "X_test = tenure_data_test.loc[:, tenure_data_test.columns!='tenure']\n",
    "print(X_test.shape)"
   ]
  },
  {
   "cell_type": "markdown",
   "metadata": {},
   "source": [
    "### Scaling the dataset prior to running K-NN"
   ]
  },
  {
   "cell_type": "code",
   "execution_count": 117,
   "metadata": {},
   "outputs": [],
   "source": [
    "from sklearn.preprocessing import StandardScaler\n",
    "\n",
    "std = StandardScaler()\n",
    "std.fit(X_train)\n",
    "X_train_scaled = std.transform(X_train)"
   ]
  },
  {
   "cell_type": "code",
   "execution_count": 125,
   "metadata": {},
   "outputs": [],
   "source": [
    "from sklearn.neighbors import KNeighborsRegressor\n",
    "from sklearn.linear_model import LinearRegression\n",
    "from sklearn.tree import DecisionTreeRegressor\n",
    "\n",
    "#obj = KNeighborsRegressor()\n",
    "#obj = LinearRegression()\n",
    "obj = DecisionTreeRegressor(min_samples_split=3, max_features=10)\n",
    "#obj.fit(X_train_scaled, y_train) # not required for Dtree\n",
    "obj.fit(X_train, y_train)\n",
    "#y_train_pred = obj.predict(X_train_scaled) # not required for Dtree\n",
    "y_train_pred = obj.predict(X_train)"
   ]
  },
  {
   "cell_type": "markdown",
   "metadata": {},
   "source": [
    "###  Model Evaluation"
   ]
  },
  {
   "cell_type": "code",
   "execution_count": null,
   "metadata": {},
   "outputs": [],
   "source": [
    "from sklearn import metrics"
   ]
  },
  {
   "cell_type": "code",
   "execution_count": 126,
   "metadata": {},
   "outputs": [
    {
     "name": "stdout",
     "output_type": "stream",
     "text": [
      "MSE for training set is 0.0685593584419304\n",
      "R2 score for training set is 0.9678534066234284\n"
     ]
    }
   ],
   "source": [
    "MSE_train = metrics.mean_squared_error(y_train, y_train_pred)\n",
    "r2_score = metrics.r2_score(y_train, y_train_pred)\n",
    "print('MSE for training set is {}'.format(MSE_train))\n",
    "print('R2 score for training set is {}'.format(r2_score))"
   ]
  },
  {
   "cell_type": "markdown",
   "metadata": {},
   "source": [
    "### Predict for the NaN values for Tenure column"
   ]
  },
  {
   "cell_type": "code",
   "execution_count": 127,
   "metadata": {},
   "outputs": [],
   "source": [
    "X_test_scaled = std.transform(X_test)\n",
    "#y_test_pred = knn.predict(X_test_scaled) # not required for Dtree\n",
    "y_test_pred = knn.predict(X_test)"
   ]
  },
  {
   "cell_type": "code",
   "execution_count": 129,
   "metadata": {},
   "outputs": [],
   "source": [
    "y_test_pred = np.round(y_test_pred,0)"
   ]
  },
  {
   "cell_type": "markdown",
   "metadata": {},
   "source": [
    "### Update the null values with the predicted output"
   ]
  },
  {
   "cell_type": "code",
   "execution_count": 131,
   "metadata": {},
   "outputs": [],
   "source": [
    "tenure_null_index = tenure_data[tenure_data_dummy['tenure'].isnull()].index"
   ]
  },
  {
   "cell_type": "code",
   "execution_count": 132,
   "metadata": {},
   "outputs": [],
   "source": [
    "tenure_data.loc[tenure_null_index, 'tenure'] = y_test_pred"
   ]
  },
  {
   "cell_type": "code",
   "execution_count": 133,
   "metadata": {},
   "outputs": [
    {
     "data": {
      "text/plain": [
       "avg_monthly_hrs      0\n",
       "department           0\n",
       "filed_complaint      0\n",
       "last_evaluation      0\n",
       "n_projects           0\n",
       "recently_promoted    0\n",
       "salary               0\n",
       "satisfaction         0\n",
       "tenure               0\n",
       "employee_id          0\n",
       "dtype: int64"
      ]
     },
     "execution_count": 133,
     "metadata": {},
     "output_type": "execute_result"
    }
   ],
   "source": [
    "tenure_data.isnull().sum()"
   ]
  },
  {
   "cell_type": "markdown",
   "metadata": {},
   "source": [
    "#### check the distribution"
   ]
  },
  {
   "cell_type": "code",
   "execution_count": 136,
   "metadata": {},
   "outputs": [
    {
     "data": {
      "text/plain": [
       "count    13966.000000\n",
       "mean         3.497709\n",
       "std          1.460432\n",
       "min          2.000000\n",
       "25%          3.000000\n",
       "50%          3.000000\n",
       "75%          4.000000\n",
       "max         10.000000\n",
       "Name: tenure, dtype: float64"
      ]
     },
     "execution_count": 136,
     "metadata": {},
     "output_type": "execute_result"
    }
   ],
   "source": [
    "employee_data['tenure'].describe()"
   ]
  },
  {
   "cell_type": "code",
   "execution_count": 137,
   "metadata": {},
   "outputs": [
    {
     "data": {
      "text/plain": [
       "count    14116.000000\n",
       "mean         3.481794\n",
       "std          1.460747\n",
       "min          2.000000\n",
       "25%          3.000000\n",
       "50%          3.000000\n",
       "75%          4.000000\n",
       "max         10.000000\n",
       "Name: tenure, dtype: float64"
      ]
     },
     "execution_count": 137,
     "metadata": {},
     "output_type": "execute_result"
    }
   ],
   "source": [
    "tenure_data['tenure'].describe()"
   ]
  },
  {
   "cell_type": "code",
   "execution_count": 139,
   "metadata": {},
   "outputs": [],
   "source": [
    "employee_data.loc[:, 'tenure'] = tenure_data['tenure']"
   ]
  },
  {
   "cell_type": "code",
   "execution_count": 140,
   "metadata": {},
   "outputs": [
    {
     "data": {
      "text/plain": [
       "avg_monthly_hrs        0\n",
       "department             0\n",
       "filed_complaint        0\n",
       "last_evaluation        0\n",
       "n_projects             0\n",
       "recently_promoted      0\n",
       "salary                 0\n",
       "satisfaction         150\n",
       "status                 0\n",
       "tenure                 0\n",
       "employee_id            0\n",
       "dtype: int64"
      ]
     },
     "execution_count": 140,
     "metadata": {},
     "output_type": "execute_result"
    }
   ],
   "source": [
    "employee_data.isnull().sum()"
   ]
  },
  {
   "cell_type": "markdown",
   "metadata": {},
   "source": [
    "## Fixing the null values of satisfaction column"
   ]
  },
  {
   "cell_type": "code",
   "execution_count": 151,
   "metadata": {},
   "outputs": [
    {
     "data": {
      "text/html": [
       "<div>\n",
       "<style scoped>\n",
       "    .dataframe tbody tr th:only-of-type {\n",
       "        vertical-align: middle;\n",
       "    }\n",
       "\n",
       "    .dataframe tbody tr th {\n",
       "        vertical-align: top;\n",
       "    }\n",
       "\n",
       "    .dataframe thead th {\n",
       "        text-align: right;\n",
       "    }\n",
       "</style>\n",
       "<table border=\"1\" class=\"dataframe\">\n",
       "  <thead>\n",
       "    <tr style=\"text-align: right;\">\n",
       "      <th></th>\n",
       "      <th>avg_monthly_hrs</th>\n",
       "      <th>filed_complaint</th>\n",
       "      <th>last_evaluation</th>\n",
       "      <th>n_projects</th>\n",
       "      <th>recently_promoted</th>\n",
       "      <th>satisfaction</th>\n",
       "      <th>tenure</th>\n",
       "      <th>department_D00-ENG</th>\n",
       "      <th>department_D00-FN</th>\n",
       "      <th>department_D00-IT</th>\n",
       "      <th>department_D00-MN</th>\n",
       "      <th>department_D00-MT</th>\n",
       "      <th>department_D00-PD</th>\n",
       "      <th>department_D00-PR</th>\n",
       "      <th>department_D00-SP</th>\n",
       "      <th>department_D00-SS</th>\n",
       "      <th>department_D00-TP</th>\n",
       "      <th>salary_low</th>\n",
       "      <th>salary_medium</th>\n",
       "      <th>status_Left</th>\n",
       "    </tr>\n",
       "  </thead>\n",
       "  <tbody>\n",
       "    <tr>\n",
       "      <th>0</th>\n",
       "      <td>246.0</td>\n",
       "      <td>0.0</td>\n",
       "      <td>0.866838</td>\n",
       "      <td>6</td>\n",
       "      <td>0.0</td>\n",
       "      <td>0.134415</td>\n",
       "      <td>4.0</td>\n",
       "      <td>0</td>\n",
       "      <td>0</td>\n",
       "      <td>0</td>\n",
       "      <td>0</td>\n",
       "      <td>0</td>\n",
       "      <td>0</td>\n",
       "      <td>0</td>\n",
       "      <td>0</td>\n",
       "      <td>0</td>\n",
       "      <td>0</td>\n",
       "      <td>0</td>\n",
       "      <td>1</td>\n",
       "      <td>1</td>\n",
       "    </tr>\n",
       "    <tr>\n",
       "      <th>1</th>\n",
       "      <td>134.0</td>\n",
       "      <td>0.0</td>\n",
       "      <td>0.555718</td>\n",
       "      <td>2</td>\n",
       "      <td>0.0</td>\n",
       "      <td>0.511041</td>\n",
       "      <td>3.0</td>\n",
       "      <td>0</td>\n",
       "      <td>0</td>\n",
       "      <td>0</td>\n",
       "      <td>0</td>\n",
       "      <td>0</td>\n",
       "      <td>0</td>\n",
       "      <td>0</td>\n",
       "      <td>1</td>\n",
       "      <td>0</td>\n",
       "      <td>0</td>\n",
       "      <td>1</td>\n",
       "      <td>0</td>\n",
       "      <td>1</td>\n",
       "    </tr>\n",
       "    <tr>\n",
       "      <th>2</th>\n",
       "      <td>156.0</td>\n",
       "      <td>1.0</td>\n",
       "      <td>0.474082</td>\n",
       "      <td>2</td>\n",
       "      <td>0.0</td>\n",
       "      <td>0.405101</td>\n",
       "      <td>3.0</td>\n",
       "      <td>0</td>\n",
       "      <td>0</td>\n",
       "      <td>0</td>\n",
       "      <td>0</td>\n",
       "      <td>0</td>\n",
       "      <td>0</td>\n",
       "      <td>0</td>\n",
       "      <td>0</td>\n",
       "      <td>1</td>\n",
       "      <td>0</td>\n",
       "      <td>0</td>\n",
       "      <td>1</td>\n",
       "      <td>1</td>\n",
       "    </tr>\n",
       "    <tr>\n",
       "      <th>3</th>\n",
       "      <td>256.0</td>\n",
       "      <td>0.0</td>\n",
       "      <td>0.961360</td>\n",
       "      <td>6</td>\n",
       "      <td>0.0</td>\n",
       "      <td>0.152974</td>\n",
       "      <td>4.0</td>\n",
       "      <td>0</td>\n",
       "      <td>0</td>\n",
       "      <td>0</td>\n",
       "      <td>0</td>\n",
       "      <td>0</td>\n",
       "      <td>0</td>\n",
       "      <td>0</td>\n",
       "      <td>1</td>\n",
       "      <td>0</td>\n",
       "      <td>0</td>\n",
       "      <td>1</td>\n",
       "      <td>0</td>\n",
       "      <td>1</td>\n",
       "    </tr>\n",
       "    <tr>\n",
       "      <th>4</th>\n",
       "      <td>146.0</td>\n",
       "      <td>0.0</td>\n",
       "      <td>0.507349</td>\n",
       "      <td>2</td>\n",
       "      <td>0.0</td>\n",
       "      <td>0.434845</td>\n",
       "      <td>3.0</td>\n",
       "      <td>0</td>\n",
       "      <td>0</td>\n",
       "      <td>0</td>\n",
       "      <td>0</td>\n",
       "      <td>0</td>\n",
       "      <td>0</td>\n",
       "      <td>0</td>\n",
       "      <td>0</td>\n",
       "      <td>1</td>\n",
       "      <td>0</td>\n",
       "      <td>0</td>\n",
       "      <td>1</td>\n",
       "      <td>1</td>\n",
       "    </tr>\n",
       "  </tbody>\n",
       "</table>\n",
       "</div>"
      ],
      "text/plain": [
       "   avg_monthly_hrs  filed_complaint  last_evaluation  n_projects  \\\n",
       "0            246.0              0.0         0.866838           6   \n",
       "1            134.0              0.0         0.555718           2   \n",
       "2            156.0              1.0         0.474082           2   \n",
       "3            256.0              0.0         0.961360           6   \n",
       "4            146.0              0.0         0.507349           2   \n",
       "\n",
       "   recently_promoted  satisfaction  tenure  department_D00-ENG  \\\n",
       "0                0.0      0.134415     4.0                   0   \n",
       "1                0.0      0.511041     3.0                   0   \n",
       "2                0.0      0.405101     3.0                   0   \n",
       "3                0.0      0.152974     4.0                   0   \n",
       "4                0.0      0.434845     3.0                   0   \n",
       "\n",
       "   department_D00-FN  department_D00-IT  department_D00-MN  department_D00-MT  \\\n",
       "0                  0                  0                  0                  0   \n",
       "1                  0                  0                  0                  0   \n",
       "2                  0                  0                  0                  0   \n",
       "3                  0                  0                  0                  0   \n",
       "4                  0                  0                  0                  0   \n",
       "\n",
       "   department_D00-PD  department_D00-PR  department_D00-SP  department_D00-SS  \\\n",
       "0                  0                  0                  0                  0   \n",
       "1                  0                  0                  1                  0   \n",
       "2                  0                  0                  0                  1   \n",
       "3                  0                  0                  1                  0   \n",
       "4                  0                  0                  0                  1   \n",
       "\n",
       "   department_D00-TP  salary_low  salary_medium  status_Left  \n",
       "0                  0           0              1            1  \n",
       "1                  0           1              0            1  \n",
       "2                  0           0              1            1  \n",
       "3                  0           1              0            1  \n",
       "4                  0           0              1            1  "
      ]
     },
     "execution_count": 151,
     "metadata": {},
     "output_type": "execute_result"
    }
   ],
   "source": [
    "satisfaction_data = employee_data.drop('employee_id', axis=1)\n",
    "satisfaction_data_dummy = pd.get_dummies(satisfaction_data, columns=['department','salary', 'status'], drop_first=True)\n",
    "satisfaction_data_dummy.head()"
   ]
  },
  {
   "cell_type": "code",
   "execution_count": 152,
   "metadata": {},
   "outputs": [
    {
     "name": "stdout",
     "output_type": "stream",
     "text": [
      "0\n",
      "150\n"
     ]
    }
   ],
   "source": [
    "satisfaction_data_train = satisfaction_data_dummy[~satisfaction_data_dummy['satisfaction'].isnull()]\n",
    "satisfaction_data_test = satisfaction_data_dummy[satisfaction_data_dummy['satisfaction'].isnull()]\n",
    "print(satisfaction_data_train['satisfaction'].isnull().sum())\n",
    "print(satisfaction_data_test['satisfaction'].isnull().sum())"
   ]
  },
  {
   "cell_type": "code",
   "execution_count": 153,
   "metadata": {},
   "outputs": [
    {
     "name": "stdout",
     "output_type": "stream",
     "text": [
      "(13966, 19)\n",
      "(13966,)\n"
     ]
    }
   ],
   "source": [
    "X_train = satisfaction_data_train.loc[:, satisfaction_data_train.columns!='satisfaction']\n",
    "y_train = satisfaction_data_train.loc[:, 'satisfaction']\n",
    "print(X_train.shape)\n",
    "print(y_train.shape)"
   ]
  },
  {
   "cell_type": "code",
   "execution_count": 154,
   "metadata": {},
   "outputs": [
    {
     "name": "stdout",
     "output_type": "stream",
     "text": [
      "(150, 19)\n"
     ]
    }
   ],
   "source": [
    "X_test = satisfaction_data_test.loc[:, satisfaction_data_test.columns!='satisfaction']\n",
    "print(X_test.shape)"
   ]
  },
  {
   "cell_type": "code",
   "execution_count": 155,
   "metadata": {},
   "outputs": [],
   "source": [
    "std = StandardScaler()\n",
    "std.fit(X_train)\n",
    "X_train_scaled = std.transform(X_train)"
   ]
  },
  {
   "cell_type": "code",
   "execution_count": 158,
   "metadata": {},
   "outputs": [],
   "source": [
    "#obj = KNeighborsRegressor()\n",
    "obj = DecisionTreeRegressor(min_samples_split=3, max_features=10)\n",
    "#obj.fit(X_train_scaled, y_train) # not required for Dtree\n",
    "obj.fit(X_train, y_train)\n",
    "#y_train_pred = obj.predict(X_train_scaled) #not required for Dtree\n",
    "y_train_pred = obj.predict(X_train) "
   ]
  },
  {
   "cell_type": "markdown",
   "metadata": {},
   "source": [
    "## Model Evaluation"
   ]
  },
  {
   "cell_type": "code",
   "execution_count": 159,
   "metadata": {},
   "outputs": [
    {
     "name": "stdout",
     "output_type": "stream",
     "text": [
      "MSE for training set is 0.0019069168054986906\n",
      "R2 score for training set is 0.9695992316159514\n"
     ]
    }
   ],
   "source": [
    "MSE_train = metrics.mean_squared_error(y_train, y_train_pred)\n",
    "r2_score = metrics.r2_score(y_train, y_train_pred)\n",
    "print('MSE for training set is {}'.format(MSE_train))\n",
    "print('R2 score for training set is {}'.format(r2_score))"
   ]
  },
  {
   "cell_type": "markdown",
   "metadata": {},
   "source": [
    "## Predict for Nan Satisfaction value"
   ]
  },
  {
   "cell_type": "code",
   "execution_count": 162,
   "metadata": {},
   "outputs": [],
   "source": [
    "#X_test_scaled = std.transform(X_test) # not required for Dtree\n",
    "#y_test_pred = knn.predict(X_test_scaled) # not required for Dtree\n",
    "y_test_pred = obj.predict(X_test)"
   ]
  },
  {
   "cell_type": "code",
   "execution_count": 163,
   "metadata": {},
   "outputs": [
    {
     "data": {
      "text/plain": [
       "array([0.3019325, 0.3019325, 0.3019325, 0.3019325, 0.3019325, 0.3019325,\n",
       "       0.3019325, 0.3019325, 0.3019325, 0.3019325, 0.3019325, 0.3019325,\n",
       "       0.3019325, 0.321055 , 0.292578 , 0.292578 , 0.292578 , 0.700214 ,\n",
       "       0.292578 , 0.4849315, 0.292578 , 0.747304 , 0.747304 , 0.292578 ,\n",
       "       0.292578 , 0.321055 , 0.355802 , 0.292578 , 0.4849315, 0.700214 ,\n",
       "       0.747304 , 0.353689 , 0.545332 , 0.700214 , 0.25867  , 0.355802 ,\n",
       "       0.3019325, 0.292578 , 0.292578 , 0.5651   , 0.292578 , 0.321055 ,\n",
       "       0.545332 , 0.292578 , 0.5651   , 0.700214 , 0.4849315, 0.292578 ,\n",
       "       0.355802 , 0.700214 , 0.292578 , 0.292578 , 0.321055 , 0.747304 ,\n",
       "       0.292578 , 0.3019325, 0.292578 , 0.292578 , 0.321055 , 0.747304 ,\n",
       "       0.292578 , 0.292578 , 0.292578 , 0.292578 , 0.729546 , 0.292578 ,\n",
       "       0.292578 , 0.292578 , 0.700214 , 0.353689 , 0.4849315, 0.321055 ,\n",
       "       0.292578 , 0.321055 , 0.3019325, 0.292578 , 0.292578 , 0.321055 ,\n",
       "       0.4849315, 0.5651   , 0.321055 , 0.292578 , 0.292578 , 0.353689 ,\n",
       "       0.292578 , 0.3019325, 0.321055 , 0.3019325, 0.353689 , 0.5651   ,\n",
       "       0.292578 , 0.292578 , 0.292578 , 0.321055 , 0.700214 , 0.292578 ,\n",
       "       0.700214 , 0.292578 , 0.292578 , 0.353689 , 0.292578 , 0.353689 ,\n",
       "       0.292578 , 0.292578 , 0.292578 , 0.747304 , 0.292578 , 0.292578 ,\n",
       "       0.4849315, 0.700214 , 0.292578 , 0.5651   , 0.292578 , 0.292578 ,\n",
       "       0.292578 , 0.5651   , 0.5651   , 0.4849315, 0.292578 , 0.292578 ,\n",
       "       0.292578 , 0.292578 , 0.292578 , 0.292578 , 0.292578 , 0.292578 ,\n",
       "       0.353689 , 0.25867  , 0.5651   , 0.292578 , 0.292578 , 0.4849315,\n",
       "       0.353689 , 0.3019325, 0.292578 , 0.353689 , 0.5651   , 0.292578 ,\n",
       "       0.321055 , 0.292578 , 0.700214 , 0.321055 , 0.292578 , 0.355802 ,\n",
       "       0.292578 , 0.4849315, 0.292578 , 0.292578 , 0.3019325, 0.355802 ])"
      ]
     },
     "execution_count": 163,
     "metadata": {},
     "output_type": "execute_result"
    }
   ],
   "source": [
    "y_test_pred"
   ]
  },
  {
   "cell_type": "markdown",
   "metadata": {},
   "source": [
    "### Update the null values with the values from K-NN output"
   ]
  },
  {
   "cell_type": "code",
   "execution_count": 164,
   "metadata": {},
   "outputs": [],
   "source": [
    "sat_null_index = satisfaction_data[satisfaction_data['satisfaction'].isnull()].index\n",
    "satisfaction_data.loc[sat_null_index, 'satisfaction'] = y_test_pred"
   ]
  },
  {
   "cell_type": "code",
   "execution_count": 165,
   "metadata": {},
   "outputs": [
    {
     "data": {
      "text/plain": [
       "<matplotlib.axes._subplots.AxesSubplot at 0x1025b2c8>"
      ]
     },
     "execution_count": 165,
     "metadata": {},
     "output_type": "execute_result"
    },
    {
     "data": {
      "image/png": "[encoded data removed]",
      "text/plain": [
       "<Figure size 432x288 with 1 Axes>"
      ]
     },
     "metadata": {
      "needs_background": "light"
     },
     "output_type": "display_data"
    }
   ],
   "source": [
    "sns.distplot(employee_data['satisfaction'])"
   ]
  },
  {
   "cell_type": "code",
   "execution_count": 166,
   "metadata": {},
   "outputs": [
    {
     "data": {
      "text/plain": [
       "<matplotlib.axes._subplots.AxesSubplot at 0x5785108>"
      ]
     },
     "execution_count": 166,
     "metadata": {},
     "output_type": "execute_result"
    },
    {
     "data": {
      "image/png": "[encoded data removed]",
      "text/plain": [
       "<Figure size 432x288 with 1 Axes>"
      ]
     },
     "metadata": {
      "needs_background": "light"
     },
     "output_type": "display_data"
    }
   ],
   "source": [
    "sns.distplot(satisfaction_data['satisfaction'])"
   ]
  },
  {
   "cell_type": "markdown",
   "metadata": {},
   "source": [
    "#### Update the employee data with the predicted values"
   ]
  },
  {
   "cell_type": "code",
   "execution_count": 167,
   "metadata": {},
   "outputs": [],
   "source": [
    "employee_data.loc[:, 'satisfaction'] = satisfaction_data['satisfaction']"
   ]
  },
  {
   "cell_type": "markdown",
   "metadata": {},
   "source": [
    "### Final check for missing data"
   ]
  },
  {
   "cell_type": "code",
   "execution_count": 168,
   "metadata": {},
   "outputs": [
    {
     "data": {
      "text/plain": [
       "avg_monthly_hrs      0\n",
       "department           0\n",
       "filed_complaint      0\n",
       "last_evaluation      0\n",
       "n_projects           0\n",
       "recently_promoted    0\n",
       "salary               0\n",
       "satisfaction         0\n",
       "status               0\n",
       "tenure               0\n",
       "employee_id          0\n",
       "dtype: int64"
      ]
     },
     "execution_count": 168,
     "metadata": {},
     "output_type": "execute_result"
    }
   ],
   "source": [
    "employee_data.isnull().sum()"
   ]
  },
  {
   "cell_type": "markdown",
   "metadata": {},
   "source": [
    "## Check the size of the employee dataset"
   ]
  },
  {
   "cell_type": "code",
   "execution_count": 184,
   "metadata": {},
   "outputs": [
    {
     "name": "stdout",
     "output_type": "stream",
     "text": [
      "Final size of employee data:  14116\n",
      "Dropped 29 duplicate rows and 5 rows that correspond to 0 employee_id\n",
      "Total dropped rows:  34\n"
     ]
    }
   ],
   "source": [
    "print('Final size of employee data: ', len(employee_data))\n",
    "print('Dropped 29 duplicate rows and 5 rows that correspond to 0 employee_id')\n",
    "print('Total dropped rows: ', 14150 - len(employee_data))"
   ]
  },
  {
   "cell_type": "markdown",
   "metadata": {},
   "source": [
    "### Check out the other datasets"
   ]
  },
  {
   "cell_type": "code",
   "execution_count": 176,
   "metadata": {},
   "outputs": [
    {
     "data": {
      "text/html": [
       "<div>\n",
       "<style scoped>\n",
       "    .dataframe tbody tr th:only-of-type {\n",
       "        vertical-align: middle;\n",
       "    }\n",
       "\n",
       "    .dataframe tbody tr th {\n",
       "        vertical-align: top;\n",
       "    }\n",
       "\n",
       "    .dataframe thead th {\n",
       "        text-align: right;\n",
       "    }\n",
       "</style>\n",
       "<table border=\"1\" class=\"dataframe\">\n",
       "  <thead>\n",
       "    <tr style=\"text-align: right;\">\n",
       "      <th></th>\n",
       "      <th>dept_id</th>\n",
       "      <th>dept_name</th>\n",
       "      <th>dept_head</th>\n",
       "    </tr>\n",
       "  </thead>\n",
       "  <tbody>\n",
       "    <tr>\n",
       "      <th>0</th>\n",
       "      <td>D00-IT</td>\n",
       "      <td>IT</td>\n",
       "      <td>Henry Adey</td>\n",
       "    </tr>\n",
       "    <tr>\n",
       "      <th>1</th>\n",
       "      <td>D00-SS</td>\n",
       "      <td>Sales</td>\n",
       "      <td>Edward J Bayley</td>\n",
       "    </tr>\n",
       "    <tr>\n",
       "      <th>2</th>\n",
       "      <td>D00-TP</td>\n",
       "      <td>Temp</td>\n",
       "      <td>Micheal Zachrey</td>\n",
       "    </tr>\n",
       "    <tr>\n",
       "      <th>3</th>\n",
       "      <td>D00-ENG</td>\n",
       "      <td>Engineering</td>\n",
       "      <td>Sushant Raghunathan K</td>\n",
       "    </tr>\n",
       "    <tr>\n",
       "      <th>4</th>\n",
       "      <td>D00-SP</td>\n",
       "      <td>Support</td>\n",
       "      <td>Amelia Westray</td>\n",
       "    </tr>\n",
       "    <tr>\n",
       "      <th>5</th>\n",
       "      <td>D00-FN</td>\n",
       "      <td>Finance</td>\n",
       "      <td>Aanchal J</td>\n",
       "    </tr>\n",
       "    <tr>\n",
       "      <th>6</th>\n",
       "      <td>D00-PR</td>\n",
       "      <td>Procurement</td>\n",
       "      <td>Louie Viles</td>\n",
       "    </tr>\n",
       "    <tr>\n",
       "      <th>7</th>\n",
       "      <td>D00-AD</td>\n",
       "      <td>Admin</td>\n",
       "      <td>Evelyn Tolson</td>\n",
       "    </tr>\n",
       "    <tr>\n",
       "      <th>8</th>\n",
       "      <td>D00-MN</td>\n",
       "      <td>Management</td>\n",
       "      <td>Ellie Trafton</td>\n",
       "    </tr>\n",
       "    <tr>\n",
       "      <th>9</th>\n",
       "      <td>D00-MT</td>\n",
       "      <td>Marketing</td>\n",
       "      <td>Reuben Swann</td>\n",
       "    </tr>\n",
       "    <tr>\n",
       "      <th>10</th>\n",
       "      <td>D00-PD</td>\n",
       "      <td>Product</td>\n",
       "      <td>Darcy Staines</td>\n",
       "    </tr>\n",
       "  </tbody>\n",
       "</table>\n",
       "</div>"
      ],
      "text/plain": [
       "    dept_id    dept_name              dept_head\n",
       "0    D00-IT           IT             Henry Adey\n",
       "1    D00-SS        Sales        Edward J Bayley\n",
       "2    D00-TP         Temp        Micheal Zachrey\n",
       "3   D00-ENG  Engineering  Sushant Raghunathan K\n",
       "4    D00-SP      Support         Amelia Westray\n",
       "5    D00-FN      Finance              Aanchal J\n",
       "6    D00-PR  Procurement            Louie Viles\n",
       "7    D00-AD        Admin          Evelyn Tolson\n",
       "8    D00-MN   Management          Ellie Trafton\n",
       "9    D00-MT    Marketing           Reuben Swann\n",
       "10   D00-PD      Product          Darcy Staines"
      ]
     },
     "execution_count": 176,
     "metadata": {},
     "output_type": "execute_result"
    }
   ],
   "source": [
    "department_data"
   ]
  },
  {
   "cell_type": "code",
   "execution_count": 177,
   "metadata": {},
   "outputs": [
    {
     "data": {
      "text/html": [
       "<div>\n",
       "<style scoped>\n",
       "    .dataframe tbody tr th:only-of-type {\n",
       "        vertical-align: middle;\n",
       "    }\n",
       "\n",
       "    .dataframe tbody tr th {\n",
       "        vertical-align: top;\n",
       "    }\n",
       "\n",
       "    .dataframe thead th {\n",
       "        text-align: right;\n",
       "    }\n",
       "</style>\n",
       "<table border=\"1\" class=\"dataframe\">\n",
       "  <thead>\n",
       "    <tr style=\"text-align: right;\">\n",
       "      <th></th>\n",
       "      <th>employee_id</th>\n",
       "      <th>age</th>\n",
       "      <th>gender</th>\n",
       "      <th>marital_status</th>\n",
       "    </tr>\n",
       "  </thead>\n",
       "  <tbody>\n",
       "    <tr>\n",
       "      <th>0</th>\n",
       "      <td>113558</td>\n",
       "      <td>43</td>\n",
       "      <td>Male</td>\n",
       "      <td>Married</td>\n",
       "    </tr>\n",
       "    <tr>\n",
       "      <th>1</th>\n",
       "      <td>112256</td>\n",
       "      <td>24</td>\n",
       "      <td>Female</td>\n",
       "      <td>Unmarried</td>\n",
       "    </tr>\n",
       "    <tr>\n",
       "      <th>2</th>\n",
       "      <td>112586</td>\n",
       "      <td>22</td>\n",
       "      <td>Female</td>\n",
       "      <td>Unmarried</td>\n",
       "    </tr>\n",
       "    <tr>\n",
       "      <th>3</th>\n",
       "      <td>108071</td>\n",
       "      <td>36</td>\n",
       "      <td>Male</td>\n",
       "      <td>Married</td>\n",
       "    </tr>\n",
       "    <tr>\n",
       "      <th>4</th>\n",
       "      <td>116915</td>\n",
       "      <td>38</td>\n",
       "      <td>Male</td>\n",
       "      <td>Married</td>\n",
       "    </tr>\n",
       "  </tbody>\n",
       "</table>\n",
       "</div>"
      ],
      "text/plain": [
       "   employee_id  age  gender marital_status\n",
       "0       113558   43    Male        Married\n",
       "1       112256   24  Female      Unmarried\n",
       "2       112586   22  Female      Unmarried\n",
       "3       108071   36    Male        Married\n",
       "4       116915   38    Male        Married"
      ]
     },
     "execution_count": 177,
     "metadata": {},
     "output_type": "execute_result"
    }
   ],
   "source": [
    "employee_details_data.head()"
   ]
  },
  {
   "cell_type": "code",
   "execution_count": 178,
   "metadata": {},
   "outputs": [
    {
     "name": "stdout",
     "output_type": "stream",
     "text": [
      "# of rows in department_data 11\n",
      "# of rows in employee_details_data 14245\n",
      "# of rows in employee_data 14116\n"
     ]
    }
   ],
   "source": [
    "print('# of rows in department_data', len(department_data))\n",
    "print('# of rows in employee_details_data', len(employee_details_data))\n",
    "print('# of rows in employee_data', len(employee_data))"
   ]
  },
  {
   "cell_type": "markdown",
   "metadata": {},
   "source": [
    "### Check for duplicate values in employee_details_data"
   ]
  },
  {
   "cell_type": "code",
   "execution_count": 179,
   "metadata": {},
   "outputs": [
    {
     "data": {
      "text/plain": [
       "14245"
      ]
     },
     "execution_count": 179,
     "metadata": {},
     "output_type": "execute_result"
    }
   ],
   "source": [
    "employee_details_data['employee_id'].value_counts().sum()"
   ]
  },
  {
   "cell_type": "markdown",
   "metadata": {},
   "source": [
    "As the sum value of 14,245 is equal to # of rows in employee_details_data, there is no duplicate values"
   ]
  },
  {
   "cell_type": "markdown",
   "metadata": {},
   "source": [
    "### Check for null values"
   ]
  },
  {
   "cell_type": "code",
   "execution_count": 180,
   "metadata": {},
   "outputs": [
    {
     "data": {
      "text/plain": [
       "dept_id      0\n",
       "dept_name    0\n",
       "dept_head    0\n",
       "dtype: int64"
      ]
     },
     "execution_count": 180,
     "metadata": {},
     "output_type": "execute_result"
    }
   ],
   "source": [
    "department_data.isnull().sum()"
   ]
  },
  {
   "cell_type": "code",
   "execution_count": 181,
   "metadata": {},
   "outputs": [
    {
     "data": {
      "text/plain": [
       "employee_id       0\n",
       "age               0\n",
       "gender            0\n",
       "marital_status    0\n",
       "dtype: int64"
      ]
     },
     "execution_count": 181,
     "metadata": {},
     "output_type": "execute_result"
    }
   ],
   "source": [
    "employee_details_data.isnull().sum()"
   ]
  },
  {
   "cell_type": "markdown",
   "metadata": {},
   "source": [
    "No null values, no duplicate values, so we are good to go ahead with joining the datasets"
   ]
  },
  {
   "cell_type": "markdown",
   "metadata": {},
   "source": [
    "# Data Merge"
   ]
  },
  {
   "cell_type": "markdown",
   "metadata": {},
   "source": [
    "### Employee details merge with employee data"
   ]
  },
  {
   "cell_type": "code",
   "execution_count": 185,
   "metadata": {},
   "outputs": [],
   "source": [
    "details_employee_data = employee_data.merge(employee_details_data, how='left', on='employee_id')"
   ]
  },
  {
   "cell_type": "code",
   "execution_count": 186,
   "metadata": {},
   "outputs": [
    {
     "data": {
      "text/plain": [
       "14116"
      ]
     },
     "execution_count": 186,
     "metadata": {},
     "output_type": "execute_result"
    }
   ],
   "source": [
    "# Checking for duplicates\n",
    "details_employee_data['employee_id'].value_counts().sum()"
   ]
  },
  {
   "cell_type": "code",
   "execution_count": 187,
   "metadata": {},
   "outputs": [
    {
     "data": {
      "text/html": [
       "<div>\n",
       "<style scoped>\n",
       "    .dataframe tbody tr th:only-of-type {\n",
       "        vertical-align: middle;\n",
       "    }\n",
       "\n",
       "    .dataframe tbody tr th {\n",
       "        vertical-align: top;\n",
       "    }\n",
       "\n",
       "    .dataframe thead th {\n",
       "        text-align: right;\n",
       "    }\n",
       "</style>\n",
       "<table border=\"1\" class=\"dataframe\">\n",
       "  <thead>\n",
       "    <tr style=\"text-align: right;\">\n",
       "      <th></th>\n",
       "      <th>avg_monthly_hrs</th>\n",
       "      <th>filed_complaint</th>\n",
       "      <th>last_evaluation</th>\n",
       "      <th>n_projects</th>\n",
       "      <th>recently_promoted</th>\n",
       "      <th>salary</th>\n",
       "      <th>satisfaction</th>\n",
       "      <th>status</th>\n",
       "      <th>tenure</th>\n",
       "      <th>employee_id</th>\n",
       "      <th>age</th>\n",
       "      <th>gender</th>\n",
       "      <th>marital_status</th>\n",
       "      <th>dept_id</th>\n",
       "      <th>dept_name</th>\n",
       "      <th>dept_head</th>\n",
       "    </tr>\n",
       "  </thead>\n",
       "  <tbody>\n",
       "    <tr>\n",
       "      <th>0</th>\n",
       "      <td>246.0</td>\n",
       "      <td>0.0</td>\n",
       "      <td>0.866838</td>\n",
       "      <td>6</td>\n",
       "      <td>0.0</td>\n",
       "      <td>medium</td>\n",
       "      <td>0.134415</td>\n",
       "      <td>Left</td>\n",
       "      <td>4.0</td>\n",
       "      <td>124467</td>\n",
       "      <td>42</td>\n",
       "      <td>Female</td>\n",
       "      <td>Married</td>\n",
       "      <td>D00-AD</td>\n",
       "      <td>Admin</td>\n",
       "      <td>Evelyn Tolson</td>\n",
       "    </tr>\n",
       "    <tr>\n",
       "      <th>1</th>\n",
       "      <td>134.0</td>\n",
       "      <td>0.0</td>\n",
       "      <td>0.555718</td>\n",
       "      <td>2</td>\n",
       "      <td>0.0</td>\n",
       "      <td>low</td>\n",
       "      <td>0.511041</td>\n",
       "      <td>Left</td>\n",
       "      <td>3.0</td>\n",
       "      <td>112210</td>\n",
       "      <td>23</td>\n",
       "      <td>Female</td>\n",
       "      <td>Unmarried</td>\n",
       "      <td>D00-SP</td>\n",
       "      <td>Support</td>\n",
       "      <td>Amelia Westray</td>\n",
       "    </tr>\n",
       "    <tr>\n",
       "      <th>2</th>\n",
       "      <td>156.0</td>\n",
       "      <td>1.0</td>\n",
       "      <td>0.474082</td>\n",
       "      <td>2</td>\n",
       "      <td>0.0</td>\n",
       "      <td>medium</td>\n",
       "      <td>0.405101</td>\n",
       "      <td>Left</td>\n",
       "      <td>3.0</td>\n",
       "      <td>126150</td>\n",
       "      <td>24</td>\n",
       "      <td>Female</td>\n",
       "      <td>Unmarried</td>\n",
       "      <td>D00-SS</td>\n",
       "      <td>Sales</td>\n",
       "      <td>Edward J Bayley</td>\n",
       "    </tr>\n",
       "    <tr>\n",
       "      <th>3</th>\n",
       "      <td>256.0</td>\n",
       "      <td>0.0</td>\n",
       "      <td>0.961360</td>\n",
       "      <td>6</td>\n",
       "      <td>0.0</td>\n",
       "      <td>low</td>\n",
       "      <td>0.152974</td>\n",
       "      <td>Left</td>\n",
       "      <td>4.0</td>\n",
       "      <td>125346</td>\n",
       "      <td>51</td>\n",
       "      <td>Female</td>\n",
       "      <td>Married</td>\n",
       "      <td>D00-SP</td>\n",
       "      <td>Support</td>\n",
       "      <td>Amelia Westray</td>\n",
       "    </tr>\n",
       "    <tr>\n",
       "      <th>4</th>\n",
       "      <td>146.0</td>\n",
       "      <td>0.0</td>\n",
       "      <td>0.507349</td>\n",
       "      <td>2</td>\n",
       "      <td>0.0</td>\n",
       "      <td>medium</td>\n",
       "      <td>0.434845</td>\n",
       "      <td>Left</td>\n",
       "      <td>3.0</td>\n",
       "      <td>113707</td>\n",
       "      <td>23</td>\n",
       "      <td>Female</td>\n",
       "      <td>Unmarried</td>\n",
       "      <td>D00-SS</td>\n",
       "      <td>Sales</td>\n",
       "      <td>Edward J Bayley</td>\n",
       "    </tr>\n",
       "  </tbody>\n",
       "</table>\n",
       "</div>"
      ],
      "text/plain": [
       "   avg_monthly_hrs  filed_complaint  last_evaluation  n_projects  \\\n",
       "0            246.0              0.0         0.866838           6   \n",
       "1            134.0              0.0         0.555718           2   \n",
       "2            156.0              1.0         0.474082           2   \n",
       "3            256.0              0.0         0.961360           6   \n",
       "4            146.0              0.0         0.507349           2   \n",
       "\n",
       "   recently_promoted  salary  satisfaction status  tenure  employee_id  age  \\\n",
       "0                0.0  medium      0.134415   Left     4.0       124467   42   \n",
       "1                0.0     low      0.511041   Left     3.0       112210   23   \n",
       "2                0.0  medium      0.405101   Left     3.0       126150   24   \n",
       "3                0.0     low      0.152974   Left     4.0       125346   51   \n",
       "4                0.0  medium      0.434845   Left     3.0       113707   23   \n",
       "\n",
       "   gender marital_status dept_id dept_name        dept_head  \n",
       "0  Female        Married  D00-AD     Admin    Evelyn Tolson  \n",
       "1  Female      Unmarried  D00-SP   Support   Amelia Westray  \n",
       "2  Female      Unmarried  D00-SS     Sales  Edward J Bayley  \n",
       "3  Female        Married  D00-SP   Support   Amelia Westray  \n",
       "4  Female      Unmarried  D00-SS     Sales  Edward J Bayley  "
      ]
     },
     "execution_count": 187,
     "metadata": {},
     "output_type": "execute_result"
    }
   ],
   "source": [
    "details_employee_dept_data = details_employee_data.merge(department_data, how='left',\n",
    "                                                         left_on='department', right_on='dept_id')\n",
    "# Drop the department column name as it is duplicate\n",
    "details_employee_dept_data.drop('department', axis=1, inplace=True)\n",
    "details_employee_dept_data.head()"
   ]
  },
  {
   "cell_type": "code",
   "execution_count": 188,
   "metadata": {},
   "outputs": [
    {
     "data": {
      "text/plain": [
       "avg_monthly_hrs      0\n",
       "filed_complaint      0\n",
       "last_evaluation      0\n",
       "n_projects           0\n",
       "recently_promoted    0\n",
       "salary               0\n",
       "satisfaction         0\n",
       "status               0\n",
       "tenure               0\n",
       "employee_id          0\n",
       "age                  0\n",
       "gender               0\n",
       "marital_status       0\n",
       "dept_id              0\n",
       "dept_name            0\n",
       "dept_head            0\n",
       "dtype: int64"
      ]
     },
     "execution_count": 188,
     "metadata": {},
     "output_type": "execute_result"
    }
   ],
   "source": [
    "# Check for null\n",
    "details_employee_dept_data.isnull().sum()"
   ]
  },
  {
   "cell_type": "code",
   "execution_count": 189,
   "metadata": {},
   "outputs": [
    {
     "data": {
      "text/plain": [
       "14116"
      ]
     },
     "execution_count": 189,
     "metadata": {},
     "output_type": "execute_result"
    }
   ],
   "source": [
    "# Check for dubplicate values\n",
    "details_employee_dept_data['employee_id'].value_counts().sum()"
   ]
  },
  {
   "cell_type": "code",
   "execution_count": null,
   "metadata": {},
   "outputs": [],
   "source": []
  },
  {
   "cell_type": "code",
   "execution_count": null,
   "metadata": {},
   "outputs": [],
   "source": []
  },
  {
   "cell_type": "markdown",
   "metadata": {},
   "source": [
    "# Exploratory Data analysis"
   ]
  },
  {
   "cell_type": "code",
   "execution_count": 190,
   "metadata": {},
   "outputs": [
    {
     "data": {
      "text/html": [
       "<div>\n",
       "<style scoped>\n",
       "    .dataframe tbody tr th:only-of-type {\n",
       "        vertical-align: middle;\n",
       "    }\n",
       "\n",
       "    .dataframe tbody tr th {\n",
       "        vertical-align: top;\n",
       "    }\n",
       "\n",
       "    .dataframe thead th {\n",
       "        text-align: right;\n",
       "    }\n",
       "</style>\n",
       "<table border=\"1\" class=\"dataframe\">\n",
       "  <thead>\n",
       "    <tr style=\"text-align: right;\">\n",
       "      <th></th>\n",
       "      <th>avg_monthly_hrs</th>\n",
       "      <th>filed_complaint</th>\n",
       "      <th>last_evaluation</th>\n",
       "      <th>n_projects</th>\n",
       "      <th>recently_promoted</th>\n",
       "      <th>salary</th>\n",
       "      <th>satisfaction</th>\n",
       "      <th>status</th>\n",
       "      <th>tenure</th>\n",
       "      <th>employee_id</th>\n",
       "      <th>age</th>\n",
       "      <th>gender</th>\n",
       "      <th>marital_status</th>\n",
       "      <th>dept_id</th>\n",
       "      <th>dept_name</th>\n",
       "      <th>dept_head</th>\n",
       "    </tr>\n",
       "  </thead>\n",
       "  <tbody>\n",
       "    <tr>\n",
       "      <th>0</th>\n",
       "      <td>246.0</td>\n",
       "      <td>0.0</td>\n",
       "      <td>0.866838</td>\n",
       "      <td>6</td>\n",
       "      <td>0.0</td>\n",
       "      <td>medium</td>\n",
       "      <td>0.134415</td>\n",
       "      <td>Left</td>\n",
       "      <td>4.0</td>\n",
       "      <td>124467</td>\n",
       "      <td>42</td>\n",
       "      <td>Female</td>\n",
       "      <td>Married</td>\n",
       "      <td>D00-AD</td>\n",
       "      <td>Admin</td>\n",
       "      <td>Evelyn Tolson</td>\n",
       "    </tr>\n",
       "    <tr>\n",
       "      <th>1</th>\n",
       "      <td>134.0</td>\n",
       "      <td>0.0</td>\n",
       "      <td>0.555718</td>\n",
       "      <td>2</td>\n",
       "      <td>0.0</td>\n",
       "      <td>low</td>\n",
       "      <td>0.511041</td>\n",
       "      <td>Left</td>\n",
       "      <td>3.0</td>\n",
       "      <td>112210</td>\n",
       "      <td>23</td>\n",
       "      <td>Female</td>\n",
       "      <td>Unmarried</td>\n",
       "      <td>D00-SP</td>\n",
       "      <td>Support</td>\n",
       "      <td>Amelia Westray</td>\n",
       "    </tr>\n",
       "    <tr>\n",
       "      <th>2</th>\n",
       "      <td>156.0</td>\n",
       "      <td>1.0</td>\n",
       "      <td>0.474082</td>\n",
       "      <td>2</td>\n",
       "      <td>0.0</td>\n",
       "      <td>medium</td>\n",
       "      <td>0.405101</td>\n",
       "      <td>Left</td>\n",
       "      <td>3.0</td>\n",
       "      <td>126150</td>\n",
       "      <td>24</td>\n",
       "      <td>Female</td>\n",
       "      <td>Unmarried</td>\n",
       "      <td>D00-SS</td>\n",
       "      <td>Sales</td>\n",
       "      <td>Edward J Bayley</td>\n",
       "    </tr>\n",
       "    <tr>\n",
       "      <th>3</th>\n",
       "      <td>256.0</td>\n",
       "      <td>0.0</td>\n",
       "      <td>0.961360</td>\n",
       "      <td>6</td>\n",
       "      <td>0.0</td>\n",
       "      <td>low</td>\n",
       "      <td>0.152974</td>\n",
       "      <td>Left</td>\n",
       "      <td>4.0</td>\n",
       "      <td>125346</td>\n",
       "      <td>51</td>\n",
       "      <td>Female</td>\n",
       "      <td>Married</td>\n",
       "      <td>D00-SP</td>\n",
       "      <td>Support</td>\n",
       "      <td>Amelia Westray</td>\n",
       "    </tr>\n",
       "    <tr>\n",
       "      <th>4</th>\n",
       "      <td>146.0</td>\n",
       "      <td>0.0</td>\n",
       "      <td>0.507349</td>\n",
       "      <td>2</td>\n",
       "      <td>0.0</td>\n",
       "      <td>medium</td>\n",
       "      <td>0.434845</td>\n",
       "      <td>Left</td>\n",
       "      <td>3.0</td>\n",
       "      <td>113707</td>\n",
       "      <td>23</td>\n",
       "      <td>Female</td>\n",
       "      <td>Unmarried</td>\n",
       "      <td>D00-SS</td>\n",
       "      <td>Sales</td>\n",
       "      <td>Edward J Bayley</td>\n",
       "    </tr>\n",
       "  </tbody>\n",
       "</table>\n",
       "</div>"
      ],
      "text/plain": [
       "   avg_monthly_hrs  filed_complaint  last_evaluation  n_projects  \\\n",
       "0            246.0              0.0         0.866838           6   \n",
       "1            134.0              0.0         0.555718           2   \n",
       "2            156.0              1.0         0.474082           2   \n",
       "3            256.0              0.0         0.961360           6   \n",
       "4            146.0              0.0         0.507349           2   \n",
       "\n",
       "   recently_promoted  salary  satisfaction status  tenure  employee_id  age  \\\n",
       "0                0.0  medium      0.134415   Left     4.0       124467   42   \n",
       "1                0.0     low      0.511041   Left     3.0       112210   23   \n",
       "2                0.0  medium      0.405101   Left     3.0       126150   24   \n",
       "3                0.0     low      0.152974   Left     4.0       125346   51   \n",
       "4                0.0  medium      0.434845   Left     3.0       113707   23   \n",
       "\n",
       "   gender marital_status dept_id dept_name        dept_head  \n",
       "0  Female        Married  D00-AD     Admin    Evelyn Tolson  \n",
       "1  Female      Unmarried  D00-SP   Support   Amelia Westray  \n",
       "2  Female      Unmarried  D00-SS     Sales  Edward J Bayley  \n",
       "3  Female        Married  D00-SP   Support   Amelia Westray  \n",
       "4  Female      Unmarried  D00-SS     Sales  Edward J Bayley  "
      ]
     },
     "execution_count": 190,
     "metadata": {},
     "output_type": "execute_result"
    }
   ],
   "source": [
    "dataset = details_employee_dept_data.copy()\n",
    "dataset.head()"
   ]
  },
  {
   "cell_type": "code",
   "execution_count": 191,
   "metadata": {},
   "outputs": [
    {
     "data": {
      "text/plain": [
       "Index(['avg_monthly_hrs', 'filed_complaint', 'last_evaluation', 'n_projects',\n",
       "       'recently_promoted', 'salary', 'satisfaction', 'status', 'tenure',\n",
       "       'employee_id', 'age', 'gender', 'marital_status', 'dept_id',\n",
       "       'dept_name', 'dept_head'],\n",
       "      dtype='object')"
      ]
     },
     "execution_count": 191,
     "metadata": {},
     "output_type": "execute_result"
    }
   ],
   "source": [
    "dataset.columns"
   ]
  },
  {
   "cell_type": "code",
   "execution_count": 192,
   "metadata": {},
   "outputs": [],
   "source": [
    "cols = ['avg_monthly_hrs', 'last_evaluation', 'n_projects','satisfaction','tenure','age']"
   ]
  },
  {
   "cell_type": "code",
   "execution_count": 193,
   "metadata": {},
   "outputs": [
    {
     "data": {
      "text/html": [
       "<div>\n",
       "<style scoped>\n",
       "    .dataframe tbody tr th:only-of-type {\n",
       "        vertical-align: middle;\n",
       "    }\n",
       "\n",
       "    .dataframe tbody tr th {\n",
       "        vertical-align: top;\n",
       "    }\n",
       "\n",
       "    .dataframe thead th {\n",
       "        text-align: right;\n",
       "    }\n",
       "</style>\n",
       "<table border=\"1\" class=\"dataframe\">\n",
       "  <thead>\n",
       "    <tr style=\"text-align: right;\">\n",
       "      <th></th>\n",
       "      <th>avg_monthly_hrs</th>\n",
       "      <th>last_evaluation</th>\n",
       "      <th>n_projects</th>\n",
       "      <th>satisfaction</th>\n",
       "      <th>tenure</th>\n",
       "      <th>age</th>\n",
       "    </tr>\n",
       "  </thead>\n",
       "  <tbody>\n",
       "    <tr>\n",
       "      <th>avg_monthly_hrs</th>\n",
       "      <td>1.000000</td>\n",
       "      <td>0.322338</td>\n",
       "      <td>0.439014</td>\n",
       "      <td>0.002598</td>\n",
       "      <td>0.143155</td>\n",
       "      <td>0.206099</td>\n",
       "    </tr>\n",
       "    <tr>\n",
       "      <th>last_evaluation</th>\n",
       "      <td>0.322338</td>\n",
       "      <td>1.000000</td>\n",
       "      <td>0.336361</td>\n",
       "      <td>0.100437</td>\n",
       "      <td>0.128369</td>\n",
       "      <td>0.156899</td>\n",
       "    </tr>\n",
       "    <tr>\n",
       "      <th>n_projects</th>\n",
       "      <td>0.439014</td>\n",
       "      <td>0.336361</td>\n",
       "      <td>1.000000</td>\n",
       "      <td>-0.122571</td>\n",
       "      <td>0.207764</td>\n",
       "      <td>0.624943</td>\n",
       "    </tr>\n",
       "    <tr>\n",
       "      <th>satisfaction</th>\n",
       "      <td>0.002598</td>\n",
       "      <td>0.100437</td>\n",
       "      <td>-0.122571</td>\n",
       "      <td>1.000000</td>\n",
       "      <td>-0.085885</td>\n",
       "      <td>-0.037168</td>\n",
       "    </tr>\n",
       "    <tr>\n",
       "      <th>tenure</th>\n",
       "      <td>0.143155</td>\n",
       "      <td>0.128369</td>\n",
       "      <td>0.207764</td>\n",
       "      <td>-0.085885</td>\n",
       "      <td>1.000000</td>\n",
       "      <td>0.095854</td>\n",
       "    </tr>\n",
       "    <tr>\n",
       "      <th>age</th>\n",
       "      <td>0.206099</td>\n",
       "      <td>0.156899</td>\n",
       "      <td>0.624943</td>\n",
       "      <td>-0.037168</td>\n",
       "      <td>0.095854</td>\n",
       "      <td>1.000000</td>\n",
       "    </tr>\n",
       "  </tbody>\n",
       "</table>\n",
       "</div>"
      ],
      "text/plain": [
       "                 avg_monthly_hrs  last_evaluation  n_projects  satisfaction  \\\n",
       "avg_monthly_hrs         1.000000         0.322338    0.439014      0.002598   \n",
       "last_evaluation         0.322338         1.000000    0.336361      0.100437   \n",
       "n_projects              0.439014         0.336361    1.000000     -0.122571   \n",
       "satisfaction            0.002598         0.100437   -0.122571      1.000000   \n",
       "tenure                  0.143155         0.128369    0.207764     -0.085885   \n",
       "age                     0.206099         0.156899    0.624943     -0.037168   \n",
       "\n",
       "                   tenure       age  \n",
       "avg_monthly_hrs  0.143155  0.206099  \n",
       "last_evaluation  0.128369  0.156899  \n",
       "n_projects       0.207764  0.624943  \n",
       "satisfaction    -0.085885 -0.037168  \n",
       "tenure           1.000000  0.095854  \n",
       "age              0.095854  1.000000  "
      ]
     },
     "execution_count": 193,
     "metadata": {},
     "output_type": "execute_result"
    }
   ],
   "source": [
    "dataset[cols].corr()"
   ]
  },
  {
   "cell_type": "markdown",
   "metadata": {},
   "source": [
    "#### Procedure for a different representation of heatmap"
   ]
  },
  {
   "cell_type": "code",
   "execution_count": 194,
   "metadata": {},
   "outputs": [],
   "source": [
    "def heatmap(x,y,size,colors):\n",
    "    fig, ax = plt.subplots(figsize=(10,6))\n",
    "    x_labels = [ v for v in x.unique()]\n",
    "    y_labels = [ v for v in y.unique()[::-1]]\n",
    "    x_to_num = {p[1]:p[0] for p in enumerate(x_labels)}\n",
    "    y_to_num = {p[1]:p[0] for p in enumerate(y_labels)}\n",
    "    size_scale = 500\n",
    "    color_min, color_max = [-1,1]\n",
    "    n_colors = 256\n",
    "    palette = sns.diverging_palette(10,240,n=n_colors)\n",
    "    plot_grid = plt.GridSpec(1,15,hspace=0.2, wspace=0.1)\n",
    "    ax = plt.subplot(plot_grid[:,:-1])\n",
    "    \n",
    "    def value_to_color(val):\n",
    "        val_position = float((val - color_min))/(color_max - color_min)\n",
    "        ind = int(val_position*(n_colors-1))\n",
    "        return palette[ind]\n",
    "    \n",
    "    ax.scatter(x=x.map(x_to_num),\n",
    "               y=y.map(y_to_num),\n",
    "               s=size*size_scale,\n",
    "               c=colors.apply(value_to_color),\n",
    "               marker='s')    \n",
    "    ax.set_xticks([x_to_num[v] for v in x_labels])\n",
    "    ax.set_xticklabels(x_labels, rotation=45, horizontalalignment='right',fontsize=12)\n",
    "    ax.set_yticks([y_to_num[v] for v in y_labels])\n",
    "    ax.set_yticklabels(y_labels, fontsize=12)\n",
    "    ax.grid(False,'major')\n",
    "    ax.grid(True, 'minor')\n",
    "    ax.set_xticks([t+0.5 for t in ax.get_xticks()], minor=True)\n",
    "    ax.set_yticks([t+0.5 for t in ax.get_yticks()], minor=True)\n",
    "    ax.set_xlim([-0.5, max([v for v in x_to_num.values()])+0.5])\n",
    "    ax.set_ylim([-0.5, max([v for v in y_to_num.values()])+0.5])\n",
    "    \n",
    "    # select the area for the bar\n",
    "    ax = plt.subplot(plot_grid[:,-1])\n",
    "    col_x = [0]*len(palette)\n",
    "    bar_y = np.linspace(color_min, color_max, n_colors)\n",
    "    bar_height = bar_y[1] - bar_y[0]\n",
    "    ax.barh(y=bar_y,\n",
    "            width=[5]*len(palette),\n",
    "            left=col_x,\n",
    "            height=bar_height,\n",
    "            color=palette,\n",
    "            linewidth=0)\n",
    "    ax.set_xlim(1,2)\n",
    "    ax.grid(False)\n",
    "    ax.set_facecolor('white')\n",
    "    ax.set_xticks([])\n",
    "    ax.set_yticks(np.linspace(min(bar_y), max(bar_y),3))\n",
    "    ax.yaxis.tick_right()"
   ]
  },
  {
   "cell_type": "code",
   "execution_count": 195,
   "metadata": {},
   "outputs": [
    {
     "data": {
      "image/png": "[encoded data removed]",
      "text/plain": [
       "<Figure size 720x432 with 2 Axes>"
      ]
     },
     "metadata": {
      "needs_background": "light"
     },
     "output_type": "display_data"
    }
   ],
   "source": [
    "data_corr = dataset[cols].corr()\n",
    "plt.figure(figsize=(10,6))\n",
    "ax = sns.heatmap(data_corr, vmin=-1, vmax=1, center=0, cmap=sns.diverging_palette(10,240,n=256),square=True, annot=True)\n",
    "ax.set_xticklabels(ax.get_xticklabels(), rotation=45, horizontalalignment='right');"
   ]
  },
  {
   "cell_type": "code",
   "execution_count": 196,
   "metadata": {},
   "outputs": [
    {
     "data": {
      "image/png": "[encoded data removed]",
      "text/plain": [
       "<Figure size 720x432 with 2 Axes>"
      ]
     },
     "metadata": {
      "needs_background": "light"
     },
     "output_type": "display_data"
    }
   ],
   "source": [
    "data_corr = dataset[cols].corr()\n",
    "data_corr = pd.melt(data_corr.reset_index(), id_vars='index')\n",
    "data_corr.columns = ['x','y','value']\n",
    "heatmap(x=data_corr['x'], y=data_corr['y'], size=data_corr['value'].abs(),colors=data_corr['value'])"
   ]
  },
  {
   "cell_type": "markdown",
   "metadata": {},
   "source": [
    "From the above correlation matrix, we comment on the following points:\n",
    "<br><br>\n",
    "<b>Avg Monthly hrs:</b>\n",
    "- As the number of project assignments for an employee increases, he clocks more time\n",
    "- Though the correlation is weak, but we can say that more the time the employee works chances are that he may be dissatisfied\n",
    "- Also more the time spent in office, higher is the evaluation score\n",
    "- Senior people(age & tenure) tend to spend more time in office\n",
    "<br><br>\n",
    "<b>Last evaluation</b>\n",
    "- People spending more time in office have a greater chance of getting a high evaluation score\n",
    "- People who stay with the company have a better chance of getting a higer evaluation score\n",
    "- People who get a higher evaluation score tend to be more satisfied\n",
    "- People with higher evaluation score tend to have higher project assignments\n",
    "<br><br>\n",
    "<b>n_projects</b>\n",
    "- Senior people(age & tenure) tend to get more project assignments\n",
    "- Too many project assignments is also a strong reason for dissatisfaction\n",
    "- Though the correlation is weak, senior people (in age & tenure) tend to be more dissatisfied"
   ]
  },
  {
   "cell_type": "markdown",
   "metadata": {},
   "source": [
    "# Feature Selection"
   ]
  },
  {
   "cell_type": "code",
   "execution_count": 197,
   "metadata": {},
   "outputs": [],
   "source": [
    "from sklearn.feature_selection import SelectKBest\n",
    "from sklearn.feature_selection import f_classif"
   ]
  },
  {
   "cell_type": "code",
   "execution_count": 198,
   "metadata": {},
   "outputs": [
    {
     "data": {
      "text/html": [
       "<div>\n",
       "<style scoped>\n",
       "    .dataframe tbody tr th:only-of-type {\n",
       "        vertical-align: middle;\n",
       "    }\n",
       "\n",
       "    .dataframe tbody tr th {\n",
       "        vertical-align: top;\n",
       "    }\n",
       "\n",
       "    .dataframe thead th {\n",
       "        text-align: right;\n",
       "    }\n",
       "</style>\n",
       "<table border=\"1\" class=\"dataframe\">\n",
       "  <thead>\n",
       "    <tr style=\"text-align: right;\">\n",
       "      <th></th>\n",
       "      <th>avg_monthly_hrs</th>\n",
       "      <th>filed_complaint</th>\n",
       "      <th>last_evaluation</th>\n",
       "      <th>n_projects</th>\n",
       "      <th>recently_promoted</th>\n",
       "      <th>salary</th>\n",
       "      <th>satisfaction</th>\n",
       "      <th>status</th>\n",
       "      <th>tenure</th>\n",
       "      <th>employee_id</th>\n",
       "      <th>age</th>\n",
       "      <th>gender</th>\n",
       "      <th>marital_status</th>\n",
       "      <th>dept_id</th>\n",
       "      <th>dept_name</th>\n",
       "      <th>dept_head</th>\n",
       "    </tr>\n",
       "  </thead>\n",
       "  <tbody>\n",
       "    <tr>\n",
       "      <th>0</th>\n",
       "      <td>246.0</td>\n",
       "      <td>0.0</td>\n",
       "      <td>0.866838</td>\n",
       "      <td>6</td>\n",
       "      <td>0.0</td>\n",
       "      <td>medium</td>\n",
       "      <td>0.134415</td>\n",
       "      <td>Left</td>\n",
       "      <td>4.0</td>\n",
       "      <td>124467</td>\n",
       "      <td>42</td>\n",
       "      <td>Female</td>\n",
       "      <td>Married</td>\n",
       "      <td>D00-AD</td>\n",
       "      <td>Admin</td>\n",
       "      <td>Evelyn Tolson</td>\n",
       "    </tr>\n",
       "    <tr>\n",
       "      <th>1</th>\n",
       "      <td>134.0</td>\n",
       "      <td>0.0</td>\n",
       "      <td>0.555718</td>\n",
       "      <td>2</td>\n",
       "      <td>0.0</td>\n",
       "      <td>low</td>\n",
       "      <td>0.511041</td>\n",
       "      <td>Left</td>\n",
       "      <td>3.0</td>\n",
       "      <td>112210</td>\n",
       "      <td>23</td>\n",
       "      <td>Female</td>\n",
       "      <td>Unmarried</td>\n",
       "      <td>D00-SP</td>\n",
       "      <td>Support</td>\n",
       "      <td>Amelia Westray</td>\n",
       "    </tr>\n",
       "    <tr>\n",
       "      <th>2</th>\n",
       "      <td>156.0</td>\n",
       "      <td>1.0</td>\n",
       "      <td>0.474082</td>\n",
       "      <td>2</td>\n",
       "      <td>0.0</td>\n",
       "      <td>medium</td>\n",
       "      <td>0.405101</td>\n",
       "      <td>Left</td>\n",
       "      <td>3.0</td>\n",
       "      <td>126150</td>\n",
       "      <td>24</td>\n",
       "      <td>Female</td>\n",
       "      <td>Unmarried</td>\n",
       "      <td>D00-SS</td>\n",
       "      <td>Sales</td>\n",
       "      <td>Edward J Bayley</td>\n",
       "    </tr>\n",
       "    <tr>\n",
       "      <th>3</th>\n",
       "      <td>256.0</td>\n",
       "      <td>0.0</td>\n",
       "      <td>0.961360</td>\n",
       "      <td>6</td>\n",
       "      <td>0.0</td>\n",
       "      <td>low</td>\n",
       "      <td>0.152974</td>\n",
       "      <td>Left</td>\n",
       "      <td>4.0</td>\n",
       "      <td>125346</td>\n",
       "      <td>51</td>\n",
       "      <td>Female</td>\n",
       "      <td>Married</td>\n",
       "      <td>D00-SP</td>\n",
       "      <td>Support</td>\n",
       "      <td>Amelia Westray</td>\n",
       "    </tr>\n",
       "    <tr>\n",
       "      <th>4</th>\n",
       "      <td>146.0</td>\n",
       "      <td>0.0</td>\n",
       "      <td>0.507349</td>\n",
       "      <td>2</td>\n",
       "      <td>0.0</td>\n",
       "      <td>medium</td>\n",
       "      <td>0.434845</td>\n",
       "      <td>Left</td>\n",
       "      <td>3.0</td>\n",
       "      <td>113707</td>\n",
       "      <td>23</td>\n",
       "      <td>Female</td>\n",
       "      <td>Unmarried</td>\n",
       "      <td>D00-SS</td>\n",
       "      <td>Sales</td>\n",
       "      <td>Edward J Bayley</td>\n",
       "    </tr>\n",
       "  </tbody>\n",
       "</table>\n",
       "</div>"
      ],
      "text/plain": [
       "   avg_monthly_hrs  filed_complaint  last_evaluation  n_projects  \\\n",
       "0            246.0              0.0         0.866838           6   \n",
       "1            134.0              0.0         0.555718           2   \n",
       "2            156.0              1.0         0.474082           2   \n",
       "3            256.0              0.0         0.961360           6   \n",
       "4            146.0              0.0         0.507349           2   \n",
       "\n",
       "   recently_promoted  salary  satisfaction status  tenure  employee_id  age  \\\n",
       "0                0.0  medium      0.134415   Left     4.0       124467   42   \n",
       "1                0.0     low      0.511041   Left     3.0       112210   23   \n",
       "2                0.0  medium      0.405101   Left     3.0       126150   24   \n",
       "3                0.0     low      0.152974   Left     4.0       125346   51   \n",
       "4                0.0  medium      0.434845   Left     3.0       113707   23   \n",
       "\n",
       "   gender marital_status dept_id dept_name        dept_head  \n",
       "0  Female        Married  D00-AD     Admin    Evelyn Tolson  \n",
       "1  Female      Unmarried  D00-SP   Support   Amelia Westray  \n",
       "2  Female      Unmarried  D00-SS     Sales  Edward J Bayley  \n",
       "3  Female        Married  D00-SP   Support   Amelia Westray  \n",
       "4  Female      Unmarried  D00-SS     Sales  Edward J Bayley  "
      ]
     },
     "execution_count": 198,
     "metadata": {},
     "output_type": "execute_result"
    }
   ],
   "source": [
    "feat_dataset = dataset.copy()\n",
    "feat_dataset.head()"
   ]
  },
  {
   "cell_type": "code",
   "execution_count": 199,
   "metadata": {},
   "outputs": [],
   "source": [
    "drop_cols = ['dept_name', 'employee_id']"
   ]
  },
  {
   "cell_type": "code",
   "execution_count": 200,
   "metadata": {},
   "outputs": [
    {
     "data": {
      "text/html": [
       "<div>\n",
       "<style scoped>\n",
       "    .dataframe tbody tr th:only-of-type {\n",
       "        vertical-align: middle;\n",
       "    }\n",
       "\n",
       "    .dataframe tbody tr th {\n",
       "        vertical-align: top;\n",
       "    }\n",
       "\n",
       "    .dataframe thead th {\n",
       "        text-align: right;\n",
       "    }\n",
       "</style>\n",
       "<table border=\"1\" class=\"dataframe\">\n",
       "  <thead>\n",
       "    <tr style=\"text-align: right;\">\n",
       "      <th></th>\n",
       "      <th>avg_monthly_hrs</th>\n",
       "      <th>filed_complaint</th>\n",
       "      <th>last_evaluation</th>\n",
       "      <th>n_projects</th>\n",
       "      <th>recently_promoted</th>\n",
       "      <th>salary</th>\n",
       "      <th>satisfaction</th>\n",
       "      <th>status</th>\n",
       "      <th>tenure</th>\n",
       "      <th>age</th>\n",
       "      <th>gender</th>\n",
       "      <th>marital_status</th>\n",
       "      <th>dept_id</th>\n",
       "      <th>dept_head</th>\n",
       "    </tr>\n",
       "  </thead>\n",
       "  <tbody>\n",
       "    <tr>\n",
       "      <th>0</th>\n",
       "      <td>246.0</td>\n",
       "      <td>0.0</td>\n",
       "      <td>0.866838</td>\n",
       "      <td>6</td>\n",
       "      <td>0.0</td>\n",
       "      <td>medium</td>\n",
       "      <td>0.134415</td>\n",
       "      <td>Left</td>\n",
       "      <td>4.0</td>\n",
       "      <td>42</td>\n",
       "      <td>Female</td>\n",
       "      <td>Married</td>\n",
       "      <td>D00-AD</td>\n",
       "      <td>Evelyn Tolson</td>\n",
       "    </tr>\n",
       "    <tr>\n",
       "      <th>1</th>\n",
       "      <td>134.0</td>\n",
       "      <td>0.0</td>\n",
       "      <td>0.555718</td>\n",
       "      <td>2</td>\n",
       "      <td>0.0</td>\n",
       "      <td>low</td>\n",
       "      <td>0.511041</td>\n",
       "      <td>Left</td>\n",
       "      <td>3.0</td>\n",
       "      <td>23</td>\n",
       "      <td>Female</td>\n",
       "      <td>Unmarried</td>\n",
       "      <td>D00-SP</td>\n",
       "      <td>Amelia Westray</td>\n",
       "    </tr>\n",
       "    <tr>\n",
       "      <th>2</th>\n",
       "      <td>156.0</td>\n",
       "      <td>1.0</td>\n",
       "      <td>0.474082</td>\n",
       "      <td>2</td>\n",
       "      <td>0.0</td>\n",
       "      <td>medium</td>\n",
       "      <td>0.405101</td>\n",
       "      <td>Left</td>\n",
       "      <td>3.0</td>\n",
       "      <td>24</td>\n",
       "      <td>Female</td>\n",
       "      <td>Unmarried</td>\n",
       "      <td>D00-SS</td>\n",
       "      <td>Edward J Bayley</td>\n",
       "    </tr>\n",
       "    <tr>\n",
       "      <th>3</th>\n",
       "      <td>256.0</td>\n",
       "      <td>0.0</td>\n",
       "      <td>0.961360</td>\n",
       "      <td>6</td>\n",
       "      <td>0.0</td>\n",
       "      <td>low</td>\n",
       "      <td>0.152974</td>\n",
       "      <td>Left</td>\n",
       "      <td>4.0</td>\n",
       "      <td>51</td>\n",
       "      <td>Female</td>\n",
       "      <td>Married</td>\n",
       "      <td>D00-SP</td>\n",
       "      <td>Amelia Westray</td>\n",
       "    </tr>\n",
       "    <tr>\n",
       "      <th>4</th>\n",
       "      <td>146.0</td>\n",
       "      <td>0.0</td>\n",
       "      <td>0.507349</td>\n",
       "      <td>2</td>\n",
       "      <td>0.0</td>\n",
       "      <td>medium</td>\n",
       "      <td>0.434845</td>\n",
       "      <td>Left</td>\n",
       "      <td>3.0</td>\n",
       "      <td>23</td>\n",
       "      <td>Female</td>\n",
       "      <td>Unmarried</td>\n",
       "      <td>D00-SS</td>\n",
       "      <td>Edward J Bayley</td>\n",
       "    </tr>\n",
       "  </tbody>\n",
       "</table>\n",
       "</div>"
      ],
      "text/plain": [
       "   avg_monthly_hrs  filed_complaint  last_evaluation  n_projects  \\\n",
       "0            246.0              0.0         0.866838           6   \n",
       "1            134.0              0.0         0.555718           2   \n",
       "2            156.0              1.0         0.474082           2   \n",
       "3            256.0              0.0         0.961360           6   \n",
       "4            146.0              0.0         0.507349           2   \n",
       "\n",
       "   recently_promoted  salary  satisfaction status  tenure  age  gender  \\\n",
       "0                0.0  medium      0.134415   Left     4.0   42  Female   \n",
       "1                0.0     low      0.511041   Left     3.0   23  Female   \n",
       "2                0.0  medium      0.405101   Left     3.0   24  Female   \n",
       "3                0.0     low      0.152974   Left     4.0   51  Female   \n",
       "4                0.0  medium      0.434845   Left     3.0   23  Female   \n",
       "\n",
       "  marital_status dept_id        dept_head  \n",
       "0        Married  D00-AD    Evelyn Tolson  \n",
       "1      Unmarried  D00-SP   Amelia Westray  \n",
       "2      Unmarried  D00-SS  Edward J Bayley  \n",
       "3        Married  D00-SP   Amelia Westray  \n",
       "4      Unmarried  D00-SS  Edward J Bayley  "
      ]
     },
     "execution_count": 200,
     "metadata": {},
     "output_type": "execute_result"
    }
   ],
   "source": [
    "feat_dataset.drop(drop_cols, axis=1, inplace=True)\n",
    "feat_dataset.head()"
   ]
  },
  {
   "cell_type": "markdown",
   "metadata": {},
   "source": [
    "#### encode the binary value columns in the feature dataset"
   ]
  },
  {
   "cell_type": "code",
   "execution_count": 201,
   "metadata": {},
   "outputs": [],
   "source": [
    "feat_dataset['status'] = feat_dataset['status'].map({'Left':1, 'Employed':0})\n",
    "feat_dataset['gender'] = feat_dataset['gender'].map({'Female':0, 'Male':1})\n",
    "feat_dataset['marital_status'] = feat_dataset['marital_status'].map({'Unmarried':0, 'Married':1})"
   ]
  },
  {
   "cell_type": "code",
   "execution_count": 202,
   "metadata": {},
   "outputs": [
    {
     "data": {
      "text/html": [
       "<div>\n",
       "<style scoped>\n",
       "    .dataframe tbody tr th:only-of-type {\n",
       "        vertical-align: middle;\n",
       "    }\n",
       "\n",
       "    .dataframe tbody tr th {\n",
       "        vertical-align: top;\n",
       "    }\n",
       "\n",
       "    .dataframe thead th {\n",
       "        text-align: right;\n",
       "    }\n",
       "</style>\n",
       "<table border=\"1\" class=\"dataframe\">\n",
       "  <thead>\n",
       "    <tr style=\"text-align: right;\">\n",
       "      <th></th>\n",
       "      <th>avg_monthly_hrs</th>\n",
       "      <th>filed_complaint</th>\n",
       "      <th>last_evaluation</th>\n",
       "      <th>n_projects</th>\n",
       "      <th>recently_promoted</th>\n",
       "      <th>salary</th>\n",
       "      <th>satisfaction</th>\n",
       "      <th>status</th>\n",
       "      <th>tenure</th>\n",
       "      <th>age</th>\n",
       "      <th>gender</th>\n",
       "      <th>marital_status</th>\n",
       "      <th>dept_id</th>\n",
       "      <th>dept_head</th>\n",
       "    </tr>\n",
       "  </thead>\n",
       "  <tbody>\n",
       "    <tr>\n",
       "      <th>0</th>\n",
       "      <td>246.0</td>\n",
       "      <td>0.0</td>\n",
       "      <td>0.866838</td>\n",
       "      <td>6</td>\n",
       "      <td>0.0</td>\n",
       "      <td>medium</td>\n",
       "      <td>0.134415</td>\n",
       "      <td>1</td>\n",
       "      <td>4.0</td>\n",
       "      <td>42</td>\n",
       "      <td>0</td>\n",
       "      <td>1</td>\n",
       "      <td>D00-AD</td>\n",
       "      <td>Evelyn Tolson</td>\n",
       "    </tr>\n",
       "    <tr>\n",
       "      <th>1</th>\n",
       "      <td>134.0</td>\n",
       "      <td>0.0</td>\n",
       "      <td>0.555718</td>\n",
       "      <td>2</td>\n",
       "      <td>0.0</td>\n",
       "      <td>low</td>\n",
       "      <td>0.511041</td>\n",
       "      <td>1</td>\n",
       "      <td>3.0</td>\n",
       "      <td>23</td>\n",
       "      <td>0</td>\n",
       "      <td>0</td>\n",
       "      <td>D00-SP</td>\n",
       "      <td>Amelia Westray</td>\n",
       "    </tr>\n",
       "    <tr>\n",
       "      <th>2</th>\n",
       "      <td>156.0</td>\n",
       "      <td>1.0</td>\n",
       "      <td>0.474082</td>\n",
       "      <td>2</td>\n",
       "      <td>0.0</td>\n",
       "      <td>medium</td>\n",
       "      <td>0.405101</td>\n",
       "      <td>1</td>\n",
       "      <td>3.0</td>\n",
       "      <td>24</td>\n",
       "      <td>0</td>\n",
       "      <td>0</td>\n",
       "      <td>D00-SS</td>\n",
       "      <td>Edward J Bayley</td>\n",
       "    </tr>\n",
       "    <tr>\n",
       "      <th>3</th>\n",
       "      <td>256.0</td>\n",
       "      <td>0.0</td>\n",
       "      <td>0.961360</td>\n",
       "      <td>6</td>\n",
       "      <td>0.0</td>\n",
       "      <td>low</td>\n",
       "      <td>0.152974</td>\n",
       "      <td>1</td>\n",
       "      <td>4.0</td>\n",
       "      <td>51</td>\n",
       "      <td>0</td>\n",
       "      <td>1</td>\n",
       "      <td>D00-SP</td>\n",
       "      <td>Amelia Westray</td>\n",
       "    </tr>\n",
       "    <tr>\n",
       "      <th>4</th>\n",
       "      <td>146.0</td>\n",
       "      <td>0.0</td>\n",
       "      <td>0.507349</td>\n",
       "      <td>2</td>\n",
       "      <td>0.0</td>\n",
       "      <td>medium</td>\n",
       "      <td>0.434845</td>\n",
       "      <td>1</td>\n",
       "      <td>3.0</td>\n",
       "      <td>23</td>\n",
       "      <td>0</td>\n",
       "      <td>0</td>\n",
       "      <td>D00-SS</td>\n",
       "      <td>Edward J Bayley</td>\n",
       "    </tr>\n",
       "  </tbody>\n",
       "</table>\n",
       "</div>"
      ],
      "text/plain": [
       "   avg_monthly_hrs  filed_complaint  last_evaluation  n_projects  \\\n",
       "0            246.0              0.0         0.866838           6   \n",
       "1            134.0              0.0         0.555718           2   \n",
       "2            156.0              1.0         0.474082           2   \n",
       "3            256.0              0.0         0.961360           6   \n",
       "4            146.0              0.0         0.507349           2   \n",
       "\n",
       "   recently_promoted  salary  satisfaction  status  tenure  age  gender  \\\n",
       "0                0.0  medium      0.134415       1     4.0   42       0   \n",
       "1                0.0     low      0.511041       1     3.0   23       0   \n",
       "2                0.0  medium      0.405101       1     3.0   24       0   \n",
       "3                0.0     low      0.152974       1     4.0   51       0   \n",
       "4                0.0  medium      0.434845       1     3.0   23       0   \n",
       "\n",
       "   marital_status dept_id        dept_head  \n",
       "0               1  D00-AD    Evelyn Tolson  \n",
       "1               0  D00-SP   Amelia Westray  \n",
       "2               0  D00-SS  Edward J Bayley  \n",
       "3               1  D00-SP   Amelia Westray  \n",
       "4               0  D00-SS  Edward J Bayley  "
      ]
     },
     "execution_count": 202,
     "metadata": {},
     "output_type": "execute_result"
    }
   ],
   "source": [
    "feat_dataset.head()"
   ]
  },
  {
   "cell_type": "markdown",
   "metadata": {},
   "source": [
    "#### Dummify the other columns which have multiple categories"
   ]
  },
  {
   "cell_type": "code",
   "execution_count": 203,
   "metadata": {},
   "outputs": [],
   "source": [
    "dummy_cols = ['salary', 'dept_id', 'dept_head']\n",
    "feat_dataset_dummy = pd.get_dummies(feat_dataset, columns=dummy_cols, drop_first=True)"
   ]
  },
  {
   "cell_type": "markdown",
   "metadata": {},
   "source": [
    "### Creating an arrya of dataset values and splitting into X & target variable y"
   ]
  },
  {
   "cell_type": "code",
   "execution_count": 204,
   "metadata": {},
   "outputs": [],
   "source": [
    "X = feat_dataset_dummy.loc[:, feat_dataset_dummy.columns!='status'].values\n",
    "y = feat_dataset_dummy.loc[:, 'status'].values"
   ]
  },
  {
   "cell_type": "code",
   "execution_count": 205,
   "metadata": {},
   "outputs": [
    {
     "name": "stdout",
     "output_type": "stream",
     "text": [
      "(14116, 32)\n",
      "(14116,)\n"
     ]
    }
   ],
   "source": [
    "print(X.shape)\n",
    "print(y.shape)"
   ]
  },
  {
   "cell_type": "markdown",
   "metadata": {},
   "source": [
    "#### Using SelectKBest to select 5 best features"
   ]
  },
  {
   "cell_type": "code",
   "execution_count": 206,
   "metadata": {},
   "outputs": [],
   "source": [
    "test = SelectKBest(score_func=f_classif, k=5)\n",
    "fit = test.fit(X, y)"
   ]
  },
  {
   "cell_type": "code",
   "execution_count": 207,
   "metadata": {},
   "outputs": [
    {
     "name": "stdout",
     "output_type": "stream",
     "text": [
      "[7.678e+01 3.596e+02 7.895e-01 9.979e+00 5.269e+01 2.422e+03 2.978e+02\n",
      " 3.772e+01 2.126e+02 8.555e+01 2.557e+02 6.829e+01 6.793e+00 5.134e+00\n",
      " 3.681e+00 3.233e+01 2.244e-01 1.352e+00 2.149e+01 1.971e+00 2.827e+00\n",
      " 9.114e+00 1.971e+00 1.352e+00 2.827e+00 3.233e+01 5.909e-01 3.681e+00\n",
      " 2.149e+01 9.114e+00 2.244e-01 6.793e+00]\n"
     ]
    }
   ],
   "source": [
    "# Summarizing the scores\n",
    "np.set_printoptions(precision=3)\n",
    "print(fit.scores_)"
   ]
  },
  {
   "cell_type": "code",
   "execution_count": 208,
   "metadata": {},
   "outputs": [],
   "source": [
    "# Creating list of feature names\n",
    "feat_names = feat_dataset_dummy.columns[feat_dataset_dummy.columns !='status']"
   ]
  },
  {
   "cell_type": "code",
   "execution_count": 209,
   "metadata": {},
   "outputs": [
    {
     "name": "stdout",
     "output_type": "stream",
     "text": [
      "Feature Score of satisfaction : 2422.35\n",
      "Feature Score of filed_complaint : 359.63\n",
      "Feature Score of tenure : 297.77\n",
      "Feature Score of salary_low : 255.73\n",
      "Feature Score of gender : 212.64\n",
      "Feature Score of marital_status : 85.55\n",
      "Feature Score of avg_monthly_hrs : 76.78\n",
      "Feature Score of salary_medium : 68.29\n",
      "Feature Score of recently_promoted : 52.69\n",
      "Feature Score of age : 37.72\n",
      "Feature Score of dept_id_D00-MN : 32.33\n",
      "Feature Score of dept_head_Ellie Trafton : 32.33\n",
      "Feature Score of dept_id_D00-PR : 21.49\n",
      "Feature Score of dept_head_Louie Viles : 21.49\n",
      "Feature Score of n_projects : 9.98\n",
      "Feature Score of dept_id_D00-TP : 9.11\n",
      "Feature Score of dept_head_Micheal Zachrey : 9.11\n",
      "Feature Score of dept_id_D00-ENG : 6.79\n",
      "Feature Score of dept_head_Sushant Raghunathan K : 6.79\n",
      "Feature Score of dept_id_D00-FN : 5.13\n",
      "Feature Score of dept_id_D00-IT : 3.68\n",
      "Feature Score of dept_head_Henry Adey : 3.68\n",
      "Feature Score of dept_id_D00-SS : 2.83\n",
      "Feature Score of dept_head_Edward J Bayley : 2.83\n",
      "Feature Score of dept_id_D00-SP : 1.97\n",
      "Feature Score of dept_head_Amelia Westray : 1.97\n",
      "Feature Score of dept_id_D00-PD : 1.35\n",
      "Feature Score of dept_head_Darcy Staines : 1.35\n",
      "Feature Score of last_evaluation : 0.79\n",
      "Feature Score of dept_head_Evelyn Tolson : 0.59\n",
      "Feature Score of dept_id_D00-MT : 0.22\n",
      "Feature Score of dept_head_Reuben Swann : 0.22\n"
     ]
    }
   ],
   "source": [
    "# Sorting the sores by descending order\n",
    "for score, name in sorted(zip(fit.scores_, feat_names), reverse=True):\n",
    "    print('Feature Score of', name, ':', round(score,2))"
   ]
  },
  {
   "cell_type": "markdown",
   "metadata": {},
   "source": [
    "From the above we can note the below columns as important in determining their exit status in order of importance\n",
    "1. satisfaction \n",
    "2. filed_complaint \n",
    "3. tenure\n",
    "4. salary\n",
    "5. gender\n",
    "6. marital_status\n",
    "7. avg_monthly_hrs\n",
    "8. recently_promoted \n",
    "9. age\n",
    "10. dept\n",
    "11. dept_head\n",
    "12. last_evaluation\n",
    "13. n_projects"
   ]
  },
  {
   "cell_type": "code",
   "execution_count": null,
   "metadata": {},
   "outputs": [],
   "source": []
  },
  {
   "cell_type": "markdown",
   "metadata": {},
   "source": [
    "## Explore the distribution of the dataset"
   ]
  },
  {
   "cell_type": "markdown",
   "metadata": {},
   "source": [
    "### Target variable status for class imbalance"
   ]
  },
  {
   "cell_type": "code",
   "execution_count": 210,
   "metadata": {},
   "outputs": [
    {
     "data": {
      "image/png": "[encoded data removed]",
      "text/plain": [
       "<Figure size 720x432 with 1 Axes>"
      ]
     },
     "metadata": {},
     "output_type": "display_data"
    }
   ],
   "source": [
    "def func(pct, allvalues): \n",
    "    absolute = int(round((pct / 100.*np.sum(allvalues)),0))\n",
    "    return \"{:.1f}%\\n({:d})\".format(pct, absolute)\n",
    "\n",
    "plt.figure(figsize=(10,6))\n",
    "plt.pie(dataset['status'].value_counts(),\n",
    "        labels=dataset['status'].value_counts().index,\n",
    "        autopct=lambda pct: func(pct, dataset['status'].value_counts()));\n",
    "plt.title('Distribution of employees by Status');"
   ]
  },
  {
   "cell_type": "markdown",
   "metadata": {},
   "source": [
    "There is class imbalance which needs to addressed while running our predictive algorithms."
   ]
  },
  {
   "cell_type": "markdown",
   "metadata": {},
   "source": [
    "### Distribution of employees by department"
   ]
  },
  {
   "cell_type": "code",
   "execution_count": 211,
   "metadata": {},
   "outputs": [
    {
     "data": {
      "image/png": "[encoded data removed]",
      "text/plain": [
       "<Figure size 720x432 with 1 Axes>"
      ]
     },
     "metadata": {},
     "output_type": "display_data"
    }
   ],
   "source": [
    "plt.figure(figsize=(10,6))\n",
    "plt.pie(dataset['dept_id'].value_counts(),\n",
    "        labels=dataset['dept_id'].value_counts().index,\n",
    "        autopct=lambda pct: func(pct, dataset['dept_id'].value_counts()))\n",
    "plt.title('Distribution of employees by department');"
   ]
  },
  {
   "cell_type": "code",
   "execution_count": 212,
   "metadata": {},
   "outputs": [
    {
     "data": {
      "image/png": "[encoded data removed]",
      "text/plain": [
       "<Figure size 720x432 with 1 Axes>"
      ]
     },
     "metadata": {},
     "output_type": "display_data"
    }
   ],
   "source": [
    "plt.figure(figsize=(10,6))\n",
    "plt.pie(dataset['tenure'].value_counts(),\n",
    "        labels=dataset['tenure'].value_counts().index,\n",
    "        autopct=lambda pct: func(pct, dataset['tenure'].value_counts()))\n",
    "plt.title('Distribution of employees by tenure');"
   ]
  },
  {
   "cell_type": "code",
   "execution_count": 213,
   "metadata": {},
   "outputs": [
    {
     "data": {
      "image/png": "[encoded data removed]",
      "text/plain": [
       "<Figure size 720x432 with 1 Axes>"
      ]
     },
     "metadata": {},
     "output_type": "display_data"
    }
   ],
   "source": [
    "plt.figure(figsize=(10,6))\n",
    "plt.pie(dataset['salary'].value_counts(),\n",
    "        labels=dataset['salary'].value_counts().index,\n",
    "        autopct=lambda pct: func(pct, dataset['salary'].value_counts()))\n",
    "plt.title('Distribution of employees by salary');"
   ]
  },
  {
   "cell_type": "code",
   "execution_count": null,
   "metadata": {},
   "outputs": [],
   "source": []
  },
  {
   "cell_type": "code",
   "execution_count": null,
   "metadata": {},
   "outputs": [],
   "source": []
  },
  {
   "cell_type": "markdown",
   "metadata": {},
   "source": [
    "# Compare the target variable with the rest"
   ]
  },
  {
   "cell_type": "markdown",
   "metadata": {},
   "source": [
    "### Function to plot stacked bar charts against other categorical columns"
   ]
  },
  {
   "cell_type": "code",
   "execution_count": 214,
   "metadata": {},
   "outputs": [],
   "source": [
    "def plot_stacked_bars_category(groupbycol):\n",
    "    col_status = pd.DataFrame(dataset[dataset['status']=='Employed'].groupby(groupbycol)['status'].count())\n",
    "    col_status['Left'] = dataset[dataset['status']=='Left'].groupby(groupbycol)['status'].count()\n",
    "    col_status.columns = ['Employed', 'Left']\n",
    "    col_status.fillna(value=0, inplace=True)\n",
    "    col_status['Employed_%'] = [float(\"{:0.2f}\".format(row.Employed/(row.Left+row.Employed))) for row in col_status.itertuples()]\n",
    "    col_status['Left_%'] = [float(\"{:0.2f}\".format(row.Left/(row.Left+row.Employed))) for row in col_status.itertuples()]\n",
    "    print(col_status)\n",
    "\n",
    "    # stacked graph\n",
    "    plt.figure(figsize=(10,6))\n",
    "    p1 = plt.bar(col_status.index, col_status['Employed'], 0.4)\n",
    "    p2 = plt.bar(col_status.index, col_status['Left'], 0.4, bottom=col_status['Employed'])\n",
    "    plt.legend((p1[0], p2[0]), ('Employed', 'Left'))\n",
    "    plt.title('Employed vs Left split by '+groupbycol)\n",
    "    plt.xticks(rotation=45);\n",
    "    \n",
    "    # stacked graph on %\n",
    "    plt.figure(figsize=(10,6))\n",
    "    p1 = plt.bar(col_status.index, col_status['Employed_%'], 0.4)\n",
    "    p2 = plt.bar(col_status.index, col_status['Left_%'], 0.4, bottom=col_status['Employed_%'])\n",
    "    plt.legend((p1[0], p2[0]), ('Employed', 'Left'))\n",
    "    plt.title('Employed vs Left split by '+ groupbycol+' as a %')\n",
    "    plt.xticks(rotation=45);\n",
    "    \n",
    "    # Cluster Graph with avg line\n",
    "    avg_attrition = np.sum(col_status['Left'])/(np.sum(col_status['Employed'])+np.sum(col_status['Left']))\n",
    "    width = 0.35\n",
    "    ind = np.arange(len(col_status))\n",
    "\n",
    "    fig, ax = plt.subplots(figsize=(10,6))\n",
    "\n",
    "    rect1 = ax.bar(ind-width/2, col_status['Employed_%'], width, label='Employed')\n",
    "    rect2 = ax.bar(ind+width/2, col_status['Left_%'], width, label='Left')\n",
    "    line1 = ax.plot(np.arange(0,len(col_status)), np.array([avg_attrition]*len(col_status)), color='red', label='Avg Attrition')\n",
    "    ax.legend()\n",
    "    ax.set_title('Employed vs Left split by '+groupbycol+' compared to average')\n",
    "    ax.set_xticks(ind)\n",
    "    ax.set_xticklabels(col_status.index, rotation=45);\n",
    "\n",
    "    for x,y in zip(ind-width/2, col_status['Employed_%']):\n",
    "        label = \"{:.2f}\".format(y)\n",
    "        ax.annotate(label, (x,y), textcoords='offset points', xytext=(0,10), ha='center')\n",
    "\n",
    "    for x,y in zip(ind+width/2, col_status['Left_%']):\n",
    "        label = \"{:.2f}\".format(y)\n",
    "        ax.annotate(label, (x,y), textcoords='offset points', xytext=(0,10), ha='center')"
   ]
  },
  {
   "cell_type": "code",
   "execution_count": 235,
   "metadata": {},
   "outputs": [],
   "source": [
    "def plot_stacked_bars_continous(cat_col):\n",
    "    exit_series = dataset.groupby('status')[cat_col].mean()\n",
    "    avg_score = dataset[cat_col].mean()\n",
    "    avg_score_label = 'Avg '+str(cat_col)\n",
    "    width = 0.35\n",
    "    fig, ax = plt.subplots(figsize=(10,6))\n",
    "    ind = np.arange(len(exit_series.index))\n",
    "    rect1 = ax.bar(ind, exit_series, width)\n",
    "    line1 = ax.plot(np.arange(0,len(exit_series)), np.array([avg_score]*len(exit_series)),\n",
    "                    color='red', label=avg_score_label)\n",
    "\n",
    "    # add data labels\n",
    "    for x,y in zip(ind, exit_series):\n",
    "        label = \"{:.2f}\".format(y)\n",
    "        ax.annotate(label, (x,y), textcoords='offset points', xytext=(0,5), ha='center')\n",
    "\n",
    "    ax.set_title(cat_col+' across employee exit status')\n",
    "    ax.set_xticks(ind)\n",
    "    ax.set_xticklabels(exit_series.index);"
   ]
  },
  {
   "cell_type": "markdown",
   "metadata": {},
   "source": [
    "## Explore the Categorical Columns"
   ]
  },
  {
   "cell_type": "markdown",
   "metadata": {},
   "source": [
    "#### Department vs Status"
   ]
  },
  {
   "cell_type": "code",
   "execution_count": 216,
   "metadata": {},
   "outputs": [
    {
     "name": "stdout",
     "output_type": "stream",
     "text": [
      "         Employed  Left  Employed_%  Left_%\n",
      "dept_id                                    \n",
      "D00-AD        147    40        0.79    0.21\n",
      "D00-ENG      2014   696        0.74    0.26\n",
      "D00-FN        555   207        0.73    0.27\n",
      "D00-IT       1114   309        0.78    0.22\n",
      "D00-MN        521    86        0.86    0.14\n",
      "D00-MT        640   207        0.76    0.24\n",
      "D00-PD        702   200        0.78    0.22\n",
      "D00-PR        161    16        0.91    0.09\n",
      "D00-SP       1665   553        0.75    0.25\n",
      "D00-SS       3112  1021        0.75    0.25\n",
      "D00-TP        130    20        0.87    0.13\n"
     ]
    },
    {
     "data": {
      "image/png": "[encoded data removed]",
      "text/plain": [
       "<Figure size 720x432 with 1 Axes>"
      ]
     },
     "metadata": {
      "needs_background": "light"
     },
     "output_type": "display_data"
    },
    {
     "data": {
      "image/png": "[encoded data removed]",
      "text/plain": [
       "<Figure size 720x432 with 1 Axes>"
      ]
     },
     "metadata": {
      "needs_background": "light"
     },
     "output_type": "display_data"
    },
    {
     "data": {
      "image/png": "[encoded data removed]",
      "text/plain": [
       "<Figure size 720x432 with 1 Axes>"
      ]
     },
     "metadata": {
      "needs_background": "light"
     },
     "output_type": "display_data"
    }
   ],
   "source": [
    "plot_stacked_bars_category('dept_id')"
   ]
  },
  {
   "cell_type": "markdown",
   "metadata": {},
   "source": [
    "It is difficult to make a strong statement that any one department has seen higher attrition compared to others"
   ]
  },
  {
   "cell_type": "markdown",
   "metadata": {},
   "source": [
    "### Salary level vs status"
   ]
  },
  {
   "cell_type": "code",
   "execution_count": 217,
   "metadata": {},
   "outputs": [
    {
     "name": "stdout",
     "output_type": "stream",
     "text": [
      "        Employed  Left  Employed_%  Left_%\n",
      "salary                                    \n",
      "high        1064    77        0.93    0.07\n",
      "low         4851  2038        0.70    0.30\n",
      "medium      4846  1240        0.80    0.20\n"
     ]
    },
    {
     "data": {
      "image/png": "[encoded data removed]",
      "text/plain": [
       "<Figure size 720x432 with 1 Axes>"
      ]
     },
     "metadata": {
      "needs_background": "light"
     },
     "output_type": "display_data"
    },
    {
     "data": {
      "image/png": "[encoded data removed]",
      "text/plain": [
       "<Figure size 720x432 with 1 Axes>"
      ]
     },
     "metadata": {
      "needs_background": "light"
     },
     "output_type": "display_data"
    },
    {
     "data": {
      "image/png": "[encoded data removed]",
      "text/plain": [
       "<Figure size 720x432 with 1 Axes>"
      ]
     },
     "metadata": {
      "needs_background": "light"
     },
     "output_type": "display_data"
    }
   ],
   "source": [
    "plot_stacked_bars_category('salary')"
   ]
  },
  {
   "cell_type": "markdown",
   "metadata": {},
   "source": [
    "Low salaried employees tend to leave more"
   ]
  },
  {
   "cell_type": "code",
   "execution_count": 218,
   "metadata": {},
   "outputs": [
    {
     "name": "stdout",
     "output_type": "stream",
     "text": [
      "        Employed    Left  Employed_%  Left_%\n",
      "tenure                                      \n",
      "2.0         3101    68.0        0.98    0.02\n",
      "3.0         4514  1492.0        0.75    0.25\n",
      "4.0         1552   834.0        0.65    0.35\n",
      "5.0          592   771.0        0.43    0.57\n",
      "6.0          469   190.0        0.71    0.29\n",
      "7.0          180     0.0        1.00    0.00\n",
      "8.0          155     0.0        1.00    0.00\n",
      "10.0         198     0.0        1.00    0.00\n"
     ]
    },
    {
     "data": {
      "image/png": "[encoded data removed]",
      "text/plain": [
       "<Figure size 720x432 with 1 Axes>"
      ]
     },
     "metadata": {
      "needs_background": "light"
     },
     "output_type": "display_data"
    },
    {
     "data": {
      "image/png": "[encoded data removed]",
      "text/plain": [
       "<Figure size 720x432 with 1 Axes>"
      ]
     },
     "metadata": {
      "needs_background": "light"
     },
     "output_type": "display_data"
    },
    {
     "data": {
      "image/png": "[encoded data removed]",
      "text/plain": [
       "<Figure size 720x432 with 1 Axes>"
      ]
     },
     "metadata": {
      "needs_background": "light"
     },
     "output_type": "display_data"
    }
   ],
   "source": [
    "plot_stacked_bars_category('tenure')"
   ]
  },
  {
   "cell_type": "markdown",
   "metadata": {},
   "source": [
    "Highest attrition is seen among employees 4 to 6 years old in the company. Employees who have completed 5 years have the highest attrition"
   ]
  },
  {
   "cell_type": "code",
   "execution_count": 219,
   "metadata": {},
   "outputs": [
    {
     "name": "stdout",
     "output_type": "stream",
     "text": [
      "                   Employed  Left  Employed_%  Left_%\n",
      "recently_promoted                                    \n",
      "0.0                   10482  3337        0.76    0.24\n",
      "1.0                     279    18        0.94    0.06\n"
     ]
    },
    {
     "data": {
      "image/png": "[encoded data removed]",
      "text/plain": [
       "<Figure size 720x432 with 1 Axes>"
      ]
     },
     "metadata": {
      "needs_background": "light"
     },
     "output_type": "display_data"
    },
    {
     "data": {
      "image/png": "[encoded data removed]",
      "text/plain": [
       "<Figure size 720x432 with 1 Axes>"
      ]
     },
     "metadata": {
      "needs_background": "light"
     },
     "output_type": "display_data"
    },
    {
     "data": {
      "image/png": "[encoded data removed]",
      "text/plain": [
       "<Figure size 720x432 with 1 Axes>"
      ]
     },
     "metadata": {
      "needs_background": "light"
     },
     "output_type": "display_data"
    }
   ],
   "source": [
    "plot_stacked_bars_category('recently_promoted')"
   ]
  },
  {
   "cell_type": "markdown",
   "metadata": {},
   "source": [
    "It is obvious that promotion works as good method to retain employees, but attrition among not promoted employees is around average, which is not enough for us to make a strong statement"
   ]
  },
  {
   "cell_type": "code",
   "execution_count": 220,
   "metadata": {},
   "outputs": [
    {
     "name": "stdout",
     "output_type": "stream",
     "text": [
      "            Employed  Left  Employed_%  Left_%\n",
      "n_projects                                    \n",
      "1                 54     7        0.89    0.11\n",
      "2                838  1484        0.36    0.64\n",
      "3               3717    71        0.98    0.02\n",
      "4               3667   377        0.91    0.09\n",
      "5               2006   560        0.78    0.22\n",
      "6                479   614        0.44    0.56\n"
     ]
    },
    {
     "data": {
      "image/png": "[encoded data removed]",
      "text/plain": [
       "<Figure size 720x432 with 1 Axes>"
      ]
     },
     "metadata": {
      "needs_background": "light"
     },
     "output_type": "display_data"
    },
    {
     "data": {
      "image/png": "[encoded data removed]",
      "text/plain": [
       "<Figure size 720x432 with 1 Axes>"
      ]
     },
     "metadata": {
      "needs_background": "light"
     },
     "output_type": "display_data"
    },
    {
     "data": {
      "image/png": "[encoded data removed]",
      "text/plain": [
       "<Figure size 720x432 with 1 Axes>"
      ]
     },
     "metadata": {
      "needs_background": "light"
     },
     "output_type": "display_data"
    }
   ],
   "source": [
    "plot_stacked_bars_category('n_projects')"
   ]
  },
  {
   "cell_type": "markdown",
   "metadata": {},
   "source": [
    "Too many projects makes people leave the company. Too less project assignment also makes people leave company. <b>3 - 5</b> projects appears to be optimal"
   ]
  },
  {
   "cell_type": "code",
   "execution_count": 221,
   "metadata": {},
   "outputs": [
    {
     "name": "stdout",
     "output_type": "stream",
     "text": [
      "                 Employed  Left  Employed_%  Left_%\n",
      "filed_complaint                                    \n",
      "0.0                  8872  3203        0.73    0.27\n",
      "1.0                  1889   152        0.93    0.07\n"
     ]
    },
    {
     "data": {
      "image/png": "[encoded data removed]",
      "text/plain": [
       "<Figure size 720x432 with 1 Axes>"
      ]
     },
     "metadata": {
      "needs_background": "light"
     },
     "output_type": "display_data"
    },
    {
     "data": {
      "image/png": "[encoded data removed]",
      "text/plain": [
       "<Figure size 720x432 with 1 Axes>"
      ]
     },
     "metadata": {
      "needs_background": "light"
     },
     "output_type": "display_data"
    },
    {
     "data": {
      "image/png": "[encoded data removed]",
      "text/plain": [
       "<Figure size 720x432 with 1 Axes>"
      ]
     },
     "metadata": {
      "needs_background": "light"
     },
     "output_type": "display_data"
    }
   ],
   "source": [
    "plot_stacked_bars_category('filed_complaint')"
   ]
  },
  {
   "cell_type": "markdown",
   "metadata": {},
   "source": [
    "People who have filed complaint, obviously have some dissatisfaction and are more likely to leave"
   ]
  },
  {
   "cell_type": "code",
   "execution_count": 222,
   "metadata": {},
   "outputs": [
    {
     "name": "stdout",
     "output_type": "stream",
     "text": [
      "        Employed  Left  Employed_%  Left_%\n",
      "gender                                    \n",
      "Female      3334  1495        0.69    0.31\n",
      "Male        7427  1860        0.80    0.20\n"
     ]
    },
    {
     "data": {
      "image/png": "[encoded data removed]",
      "text/plain": [
       "<Figure size 720x432 with 1 Axes>"
      ]
     },
     "metadata": {
      "needs_background": "light"
     },
     "output_type": "display_data"
    },
    {
     "data": {
      "image/png": "[encoded data removed]",
      "text/plain": [
       "<Figure size 720x432 with 1 Axes>"
      ]
     },
     "metadata": {
      "needs_background": "light"
     },
     "output_type": "display_data"
    },
    {
     "data": {
      "image/png": "[encoded data removed]",
      "text/plain": [
       "<Figure size 720x432 with 1 Axes>"
      ]
     },
     "metadata": {
      "needs_background": "light"
     },
     "output_type": "display_data"
    }
   ],
   "source": [
    "plot_stacked_bars_category('gender')"
   ]
  },
  {
   "cell_type": "markdown",
   "metadata": {},
   "source": [
    "Female tend to leave the organization higher than males"
   ]
  },
  {
   "cell_type": "code",
   "execution_count": 223,
   "metadata": {},
   "outputs": [
    {
     "name": "stdout",
     "output_type": "stream",
     "text": [
      "                Employed  Left  Employed_%  Left_%\n",
      "marital_status                                    \n",
      "Married             5497  1408        0.80    0.20\n",
      "Unmarried           5264  1947        0.73    0.27\n"
     ]
    },
    {
     "data": {
      "image/png": "[encoded data removed]",
      "text/plain": [
       "<Figure size 720x432 with 1 Axes>"
      ]
     },
     "metadata": {
      "needs_background": "light"
     },
     "output_type": "display_data"
    },
    {
     "data": {
      "image/png": "[encoded data removed]",
      "text/plain": [
       "<Figure size 720x432 with 1 Axes>"
      ]
     },
     "metadata": {
      "needs_background": "light"
     },
     "output_type": "display_data"
    },
    {
     "data": {
      "image/png": "[encoded data removed]",
      "text/plain": [
       "<Figure size 720x432 with 1 Axes>"
      ]
     },
     "metadata": {
      "needs_background": "light"
     },
     "output_type": "display_data"
    }
   ],
   "source": [
    "plot_stacked_bars_category('marital_status')"
   ]
  },
  {
   "cell_type": "markdown",
   "metadata": {},
   "source": [
    "There appears to be higher attrition among unmarried employees. One other dimension we can check is, among the married & unmarried employees, how is the exit status by Female & Male. We want to check if marriage has a different impact on females and males"
   ]
  },
  {
   "cell_type": "markdown",
   "metadata": {},
   "source": [
    "#### Creating the matrix for Marital Exits between Female & Male"
   ]
  },
  {
   "cell_type": "code",
   "execution_count": 224,
   "metadata": {},
   "outputs": [],
   "source": [
    "marital_exits = pd.pivot_table(dataset[dataset['marital_status']=='Married'],\n",
    "                                       index='gender', columns='status', values='employee_id', aggfunc='count')\n",
    "marital_exits.loc['Female', 'Employed_%'] = marital_exits.loc['Female','Employed']/np.sum(marital_exits.loc['Female'])*100\n",
    "marital_exits.loc['Female', 'Left_%'] = marital_exits.loc['Female','Left']/np.sum(marital_exits.loc['Female'])*100\n",
    "marital_exits.loc['Male', 'Employed_%'] = marital_exits.loc['Male','Employed']/np.sum(marital_exits.loc['Male'])*100\n",
    "marital_exits.loc['Male', 'Left_%'] = marital_exits.loc['Male','Left']/np.sum(marital_exits.loc['Male'])*100\n",
    "\n",
    "marital_exits = marital_exits.transpose()\n",
    "married_exits = marital_exits.drop(['Employed', 'Left'], axis=0)"
   ]
  },
  {
   "cell_type": "code",
   "execution_count": 225,
   "metadata": {},
   "outputs": [
    {
     "data": {
      "text/html": [
       "<div>\n",
       "<style scoped>\n",
       "    .dataframe tbody tr th:only-of-type {\n",
       "        vertical-align: middle;\n",
       "    }\n",
       "\n",
       "    .dataframe tbody tr th {\n",
       "        vertical-align: top;\n",
       "    }\n",
       "\n",
       "    .dataframe thead th {\n",
       "        text-align: right;\n",
       "    }\n",
       "</style>\n",
       "<table border=\"1\" class=\"dataframe\">\n",
       "  <thead>\n",
       "    <tr style=\"text-align: right;\">\n",
       "      <th>gender</th>\n",
       "      <th>Female</th>\n",
       "      <th>Male</th>\n",
       "    </tr>\n",
       "    <tr>\n",
       "      <th>status</th>\n",
       "      <th></th>\n",
       "      <th></th>\n",
       "    </tr>\n",
       "  </thead>\n",
       "  <tbody>\n",
       "    <tr>\n",
       "      <th>Employed</th>\n",
       "      <td>1726.0</td>\n",
       "      <td>3771.0</td>\n",
       "    </tr>\n",
       "    <tr>\n",
       "      <th>Left</th>\n",
       "      <td>471.0</td>\n",
       "      <td>937.0</td>\n",
       "    </tr>\n",
       "    <tr>\n",
       "      <th>Employed_%</th>\n",
       "      <td>79.0</td>\n",
       "      <td>80.0</td>\n",
       "    </tr>\n",
       "    <tr>\n",
       "      <th>Left_%</th>\n",
       "      <td>21.0</td>\n",
       "      <td>20.0</td>\n",
       "    </tr>\n",
       "  </tbody>\n",
       "</table>\n",
       "</div>"
      ],
      "text/plain": [
       "gender      Female    Male\n",
       "status                    \n",
       "Employed    1726.0  3771.0\n",
       "Left         471.0   937.0\n",
       "Employed_%    79.0    80.0\n",
       "Left_%        21.0    20.0"
      ]
     },
     "execution_count": 225,
     "metadata": {},
     "output_type": "execute_result"
    }
   ],
   "source": [
    "round(marital_exits,0)"
   ]
  },
  {
   "cell_type": "markdown",
   "metadata": {},
   "source": [
    "#### Creating the matrix for Unmarital Exits between Female & Male"
   ]
  },
  {
   "cell_type": "code",
   "execution_count": 226,
   "metadata": {},
   "outputs": [],
   "source": [
    "unmarital_exits = pd.pivot_table(dataset[dataset['marital_status']=='Unmarried'],\n",
    "                                       index='gender', columns='status', values='employee_id', aggfunc='count')\n",
    "unmarital_exits.loc['Female', 'Employed_%'] = unmarital_exits.loc['Female','Employed']/np.sum(unmarital_exits.loc['Female'])*100\n",
    "unmarital_exits.loc['Female', 'Left_%'] = unmarital_exits.loc['Female','Left']/np.sum(unmarital_exits.loc['Female'])*100\n",
    "unmarital_exits.loc['Male', 'Employed_%'] = unmarital_exits.loc['Male','Employed']/np.sum(unmarital_exits.loc['Male'])*100\n",
    "unmarital_exits.loc['Male', 'Left_%'] = unmarital_exits.loc['Male','Left']/np.sum(unmarital_exits.loc['Male'])*100\n",
    "\n",
    "unmarital_exits = unmarital_exits.transpose()\n",
    "unmarried_exits = unmarital_exits.drop(['Employed', 'Left'], axis=0)"
   ]
  },
  {
   "cell_type": "code",
   "execution_count": 227,
   "metadata": {},
   "outputs": [
    {
     "data": {
      "text/html": [
       "<div>\n",
       "<style scoped>\n",
       "    .dataframe tbody tr th:only-of-type {\n",
       "        vertical-align: middle;\n",
       "    }\n",
       "\n",
       "    .dataframe tbody tr th {\n",
       "        vertical-align: top;\n",
       "    }\n",
       "\n",
       "    .dataframe thead th {\n",
       "        text-align: right;\n",
       "    }\n",
       "</style>\n",
       "<table border=\"1\" class=\"dataframe\">\n",
       "  <thead>\n",
       "    <tr style=\"text-align: right;\">\n",
       "      <th>gender</th>\n",
       "      <th>Female</th>\n",
       "      <th>Male</th>\n",
       "    </tr>\n",
       "    <tr>\n",
       "      <th>status</th>\n",
       "      <th></th>\n",
       "      <th></th>\n",
       "    </tr>\n",
       "  </thead>\n",
       "  <tbody>\n",
       "    <tr>\n",
       "      <th>Employed</th>\n",
       "      <td>1608.0</td>\n",
       "      <td>3656.0</td>\n",
       "    </tr>\n",
       "    <tr>\n",
       "      <th>Left</th>\n",
       "      <td>1024.0</td>\n",
       "      <td>923.0</td>\n",
       "    </tr>\n",
       "    <tr>\n",
       "      <th>Employed_%</th>\n",
       "      <td>61.0</td>\n",
       "      <td>80.0</td>\n",
       "    </tr>\n",
       "    <tr>\n",
       "      <th>Left_%</th>\n",
       "      <td>38.0</td>\n",
       "      <td>20.0</td>\n",
       "    </tr>\n",
       "  </tbody>\n",
       "</table>\n",
       "</div>"
      ],
      "text/plain": [
       "gender      Female    Male\n",
       "status                    \n",
       "Employed    1608.0  3656.0\n",
       "Left        1024.0   923.0\n",
       "Employed_%    61.0    80.0\n",
       "Left_%        38.0    20.0"
      ]
     },
     "execution_count": 227,
     "metadata": {},
     "output_type": "execute_result"
    }
   ],
   "source": [
    "round(unmarital_exits,0)"
   ]
  },
  {
   "cell_type": "markdown",
   "metadata": {},
   "source": [
    "Here the # of quits between Female and Male is almost comparable, but when we consider the base of total Females and Males, there is sharp contrast in quits. <br>\n",
    "When we standardize it, we see that the unmarried female has a higher chance of quitting compared to their male counterpart"
   ]
  },
  {
   "cell_type": "markdown",
   "metadata": {},
   "source": [
    "#### Plot the graph for Marital Exits"
   ]
  },
  {
   "cell_type": "code",
   "execution_count": 228,
   "metadata": {},
   "outputs": [
    {
     "data": {
      "image/png": "[encoded data removed]",
      "text/plain": [
       "<Figure size 720x432 with 1 Axes>"
      ]
     },
     "metadata": {
      "needs_background": "light"
     },
     "output_type": "display_data"
    }
   ],
   "source": [
    "width = 0.35\n",
    "\n",
    "fig, ax = plt.subplots(figsize=(10,6))\n",
    "ind = np.arange(len(married_exits.index))\n",
    "\n",
    "rect1 = ax.bar(ind-width/2, married_exits['Female'], width, label='Married_Female', color='tomato')\n",
    "rect2 = ax.bar(ind+width/2, married_exits['Male'], width, label='Married_Male', color='royalblue')\n",
    "\n",
    "\n",
    "ax.legend()\n",
    "ax.set_title('Exit status between married Male & married Female')\n",
    "ax.set_xticks(ind)\n",
    "ax.set_xticklabels(married_exits.index);\n",
    "\n",
    "for x,y in zip(ind-width/2, married_exits['Female']):\n",
    "    label = \"{:.2f}\".format(y)\n",
    "    ax.annotate(label, (x,y), textcoords='offset points', xytext=(0,5), ha='center')\n",
    "\n",
    "for x,y in zip(ind+width/2, married_exits['Male']):\n",
    "    label = \"{:.2f}\".format(y)\n",
    "    ax.annotate(label, (x,y), textcoords='offset points', xytext=(0,5), ha='center')\n"
   ]
  },
  {
   "cell_type": "markdown",
   "metadata": {},
   "source": [
    "So from the above we can say, that a married Female or Male have the same chance of staying or quitting the company"
   ]
  },
  {
   "cell_type": "markdown",
   "metadata": {},
   "source": [
    "#### Plot the graph for Unmarital exits"
   ]
  },
  {
   "cell_type": "code",
   "execution_count": 229,
   "metadata": {},
   "outputs": [
    {
     "data": {
      "image/png": "[encoded data removed]",
      "text/plain": [
       "<Figure size 720x432 with 1 Axes>"
      ]
     },
     "metadata": {
      "needs_background": "light"
     },
     "output_type": "display_data"
    }
   ],
   "source": [
    "width = 0.35\n",
    "\n",
    "fig, ax = plt.subplots(figsize=(10,6))\n",
    "ind = np.arange(len(unmarried_exits.index))\n",
    "\n",
    "rect1 = ax.bar(ind-width/2, unmarried_exits['Female'], width, label='Unmarried_Female', color='tomato')\n",
    "rect2 = ax.bar(ind+width/2, unmarried_exits['Male'], width, label='Unmarried_Male', color='royalblue')\n",
    "\n",
    "ax.legend()\n",
    "ax.set_title('Exit status between Unmarried Male & Unmarried Female')\n",
    "ax.set_xticks(ind)\n",
    "ax.set_xticklabels(unmarried_exits.index);\n",
    "\n",
    "for x,y in zip(ind-width/2, unmarried_exits['Female']):\n",
    "    label = \"{:.2f}\".format(y)\n",
    "    ax.annotate(label, (x,y), textcoords='offset points', xytext=(0,5), ha='center')\n",
    "\n",
    "for x,y in zip(ind+width/2, unmarried_exits['Male']):\n",
    "    label = \"{:.2f}\".format(y)\n",
    "    ax.annotate(label, (x,y), textcoords='offset points', xytext=(0,5), ha='center')\n"
   ]
  },
  {
   "cell_type": "markdown",
   "metadata": {},
   "source": [
    "Here we see a larger difference in exit status of unmarried Female vs unmarried male.<br>\n",
    "An unmarried Female has lesser chance of staying"
   ]
  },
  {
   "cell_type": "code",
   "execution_count": 230,
   "metadata": {},
   "outputs": [
    {
     "data": {
      "text/plain": [
       "Index(['avg_monthly_hrs', 'filed_complaint', 'last_evaluation', 'n_projects',\n",
       "       'recently_promoted', 'salary', 'satisfaction', 'status', 'tenure',\n",
       "       'employee_id', 'age', 'gender', 'marital_status', 'dept_id',\n",
       "       'dept_name', 'dept_head'],\n",
       "      dtype='object')"
      ]
     },
     "execution_count": 230,
     "metadata": {},
     "output_type": "execute_result"
    }
   ],
   "source": [
    "dataset.columns"
   ]
  },
  {
   "cell_type": "markdown",
   "metadata": {},
   "source": [
    "## Explore the continous columns"
   ]
  },
  {
   "cell_type": "code",
   "execution_count": 236,
   "metadata": {},
   "outputs": [
    {
     "data": {
      "image/png": "[encoded data removed]",
      "text/plain": [
       "<Figure size 720x432 with 1 Axes>"
      ]
     },
     "metadata": {
      "needs_background": "light"
     },
     "output_type": "display_data"
    }
   ],
   "source": [
    "plot_stacked_bars_continous('satisfaction')"
   ]
  },
  {
   "cell_type": "markdown",
   "metadata": {},
   "source": [
    "Employees with low satisfaction have tendency to leave the organization"
   ]
  },
  {
   "cell_type": "code",
   "execution_count": 237,
   "metadata": {},
   "outputs": [
    {
     "data": {
      "image/png": "[encoded data removed]",
      "text/plain": [
       "<Figure size 720x432 with 1 Axes>"
      ]
     },
     "metadata": {
      "needs_background": "light"
     },
     "output_type": "display_data"
    }
   ],
   "source": [
    "plot_stacked_bars_continous('last_evaluation')"
   ]
  },
  {
   "cell_type": "markdown",
   "metadata": {},
   "source": [
    "This is an eye raiser. The company is losing quality people as the employees who have left have a high evaulation score of 0.73"
   ]
  },
  {
   "cell_type": "code",
   "execution_count": 238,
   "metadata": {},
   "outputs": [
    {
     "data": {
      "image/png": "[encoded data removed]",
      "text/plain": [
       "<Figure size 720x432 with 1 Axes>"
      ]
     },
     "metadata": {
      "needs_background": "light"
     },
     "output_type": "display_data"
    }
   ],
   "source": [
    "plot_stacked_bars_continous('age')"
   ]
  },
  {
   "cell_type": "code",
   "execution_count": 239,
   "metadata": {},
   "outputs": [
    {
     "data": {
      "image/png": "[encoded data removed]",
      "text/plain": [
       "<Figure size 720x432 with 1 Axes>"
      ]
     },
     "metadata": {
      "needs_background": "light"
     },
     "output_type": "display_data"
    }
   ],
   "source": [
    "plot_stacked_bars_continous('avg_monthly_hrs')"
   ]
  },
  {
   "cell_type": "markdown",
   "metadata": {},
   "source": [
    "People working more hrs are more likely to leave"
   ]
  }
 ],
 "metadata": {
  "kernelspec": {
   "display_name": "Python 3",
   "language": "python",
   "name": "python3"
  },
  "language_info": {
   "codemirror_mode": {
    "name": "ipython",
    "version": 3
   },
   "file_extension": ".py",
   "mimetype": "text/x-python",
   "name": "python",
   "nbconvert_exporter": "python",
   "pygments_lexer": "ipython3",
   "version": "3.7.6"
  }
 },
 "nbformat": 4,
 "nbformat_minor": 4
}
